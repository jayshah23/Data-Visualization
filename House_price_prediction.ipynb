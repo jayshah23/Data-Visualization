{
  "nbformat": 4,
  "nbformat_minor": 0,
  "metadata": {
    "colab": {
      "name": "House price prediction.ipynb",
      "provenance": [],
      "authorship_tag": "ABX9TyOoR8JgS9b+xsRonOYW0HKf",
      "include_colab_link": true
    },
    "kernelspec": {
      "name": "python3",
      "display_name": "Python 3"
    },
    "language_info": {
      "name": "python"
    }
  },
  "cells": [
    {
      "cell_type": "markdown",
      "metadata": {
        "id": "view-in-github",
        "colab_type": "text"
      },
      "source": [
        "<a href=\"https://colab.research.google.com/github/jayshah23/Data-Visualization/blob/main/House_price_prediction.ipynb\" target=\"_parent\"><img src=\"https://colab.research.google.com/assets/colab-badge.svg\" alt=\"Open In Colab\"/></a>"
      ]
    },
    {
      "cell_type": "code",
      "metadata": {
        "id": "_QY_TQrBnbZD"
      },
      "source": [
        "import numpy as np\n",
        "import pandas as pd\n",
        "import seaborn as sns"
      ],
      "execution_count": null,
      "outputs": []
    },
    {
      "cell_type": "code",
      "metadata": {
        "id": "rjibtuo9oD1-"
      },
      "source": [
        "df = pd.read_csv('House_Price.csv', header=0)"
      ],
      "execution_count": null,
      "outputs": []
    },
    {
      "cell_type": "code",
      "metadata": {
        "colab": {
          "base_uri": "https://localhost:8080/",
          "height": 195
        },
        "id": "8kfxssDhocO6",
        "outputId": "41ff249e-ff9c-4120-db16-513b58bf27e1"
      },
      "source": [
        "df.head()"
      ],
      "execution_count": null,
      "outputs": [
        {
          "output_type": "execute_result",
          "data": {
            "text/html": [
              "<div>\n",
              "<style scoped>\n",
              "    .dataframe tbody tr th:only-of-type {\n",
              "        vertical-align: middle;\n",
              "    }\n",
              "\n",
              "    .dataframe tbody tr th {\n",
              "        vertical-align: top;\n",
              "    }\n",
              "\n",
              "    .dataframe thead th {\n",
              "        text-align: right;\n",
              "    }\n",
              "</style>\n",
              "<table border=\"1\" class=\"dataframe\">\n",
              "  <thead>\n",
              "    <tr style=\"text-align: right;\">\n",
              "      <th></th>\n",
              "      <th>price</th>\n",
              "      <th>crime_rate</th>\n",
              "      <th>resid_area</th>\n",
              "      <th>air_qual</th>\n",
              "      <th>room_num</th>\n",
              "      <th>age</th>\n",
              "      <th>dist1</th>\n",
              "      <th>dist2</th>\n",
              "      <th>dist3</th>\n",
              "      <th>dist4</th>\n",
              "      <th>teachers</th>\n",
              "      <th>poor_prop</th>\n",
              "      <th>airport</th>\n",
              "      <th>n_hos_beds</th>\n",
              "      <th>n_hot_rooms</th>\n",
              "      <th>waterbody</th>\n",
              "      <th>rainfall</th>\n",
              "      <th>bus_ter</th>\n",
              "      <th>parks</th>\n",
              "    </tr>\n",
              "  </thead>\n",
              "  <tbody>\n",
              "    <tr>\n",
              "      <th>0</th>\n",
              "      <td>24.0</td>\n",
              "      <td>0.00632</td>\n",
              "      <td>32.31</td>\n",
              "      <td>0.538</td>\n",
              "      <td>6.575</td>\n",
              "      <td>65.2</td>\n",
              "      <td>4.35</td>\n",
              "      <td>3.81</td>\n",
              "      <td>4.18</td>\n",
              "      <td>4.01</td>\n",
              "      <td>24.7</td>\n",
              "      <td>4.98</td>\n",
              "      <td>YES</td>\n",
              "      <td>5.480</td>\n",
              "      <td>11.1920</td>\n",
              "      <td>River</td>\n",
              "      <td>23</td>\n",
              "      <td>YES</td>\n",
              "      <td>0.049347</td>\n",
              "    </tr>\n",
              "    <tr>\n",
              "      <th>1</th>\n",
              "      <td>21.6</td>\n",
              "      <td>0.02731</td>\n",
              "      <td>37.07</td>\n",
              "      <td>0.469</td>\n",
              "      <td>6.421</td>\n",
              "      <td>78.9</td>\n",
              "      <td>4.99</td>\n",
              "      <td>4.70</td>\n",
              "      <td>5.12</td>\n",
              "      <td>5.06</td>\n",
              "      <td>22.2</td>\n",
              "      <td>9.14</td>\n",
              "      <td>NO</td>\n",
              "      <td>7.332</td>\n",
              "      <td>12.1728</td>\n",
              "      <td>Lake</td>\n",
              "      <td>42</td>\n",
              "      <td>YES</td>\n",
              "      <td>0.046146</td>\n",
              "    </tr>\n",
              "    <tr>\n",
              "      <th>2</th>\n",
              "      <td>34.7</td>\n",
              "      <td>0.02729</td>\n",
              "      <td>37.07</td>\n",
              "      <td>0.469</td>\n",
              "      <td>7.185</td>\n",
              "      <td>61.1</td>\n",
              "      <td>5.03</td>\n",
              "      <td>4.86</td>\n",
              "      <td>5.01</td>\n",
              "      <td>4.97</td>\n",
              "      <td>22.2</td>\n",
              "      <td>4.03</td>\n",
              "      <td>NO</td>\n",
              "      <td>7.394</td>\n",
              "      <td>101.1200</td>\n",
              "      <td>None</td>\n",
              "      <td>38</td>\n",
              "      <td>YES</td>\n",
              "      <td>0.045764</td>\n",
              "    </tr>\n",
              "    <tr>\n",
              "      <th>3</th>\n",
              "      <td>33.4</td>\n",
              "      <td>0.03237</td>\n",
              "      <td>32.18</td>\n",
              "      <td>0.458</td>\n",
              "      <td>6.998</td>\n",
              "      <td>45.8</td>\n",
              "      <td>6.21</td>\n",
              "      <td>5.93</td>\n",
              "      <td>6.16</td>\n",
              "      <td>5.96</td>\n",
              "      <td>21.3</td>\n",
              "      <td>2.94</td>\n",
              "      <td>YES</td>\n",
              "      <td>9.268</td>\n",
              "      <td>11.2672</td>\n",
              "      <td>Lake</td>\n",
              "      <td>45</td>\n",
              "      <td>YES</td>\n",
              "      <td>0.047151</td>\n",
              "    </tr>\n",
              "    <tr>\n",
              "      <th>4</th>\n",
              "      <td>36.2</td>\n",
              "      <td>0.06905</td>\n",
              "      <td>32.18</td>\n",
              "      <td>0.458</td>\n",
              "      <td>7.147</td>\n",
              "      <td>54.2</td>\n",
              "      <td>6.16</td>\n",
              "      <td>5.86</td>\n",
              "      <td>6.37</td>\n",
              "      <td>5.86</td>\n",
              "      <td>21.3</td>\n",
              "      <td>5.33</td>\n",
              "      <td>NO</td>\n",
              "      <td>8.824</td>\n",
              "      <td>11.2896</td>\n",
              "      <td>Lake</td>\n",
              "      <td>55</td>\n",
              "      <td>YES</td>\n",
              "      <td>0.039474</td>\n",
              "    </tr>\n",
              "  </tbody>\n",
              "</table>\n",
              "</div>"
            ],
            "text/plain": [
              "   price  crime_rate  resid_area  ...  rainfall  bus_ter     parks\n",
              "0   24.0     0.00632       32.31  ...        23      YES  0.049347\n",
              "1   21.6     0.02731       37.07  ...        42      YES  0.046146\n",
              "2   34.7     0.02729       37.07  ...        38      YES  0.045764\n",
              "3   33.4     0.03237       32.18  ...        45      YES  0.047151\n",
              "4   36.2     0.06905       32.18  ...        55      YES  0.039474\n",
              "\n",
              "[5 rows x 19 columns]"
            ]
          },
          "metadata": {
            "tags": []
          },
          "execution_count": 3
        }
      ]
    },
    {
      "cell_type": "code",
      "metadata": {
        "colab": {
          "base_uri": "https://localhost:8080/",
          "height": 304
        },
        "id": "ymp6qqEZo9c3",
        "outputId": "e89b1168-cf54-4949-d8c9-e84fc7a3f452"
      },
      "source": [
        "df.describe()"
      ],
      "execution_count": null,
      "outputs": [
        {
          "output_type": "execute_result",
          "data": {
            "text/html": [
              "<div>\n",
              "<style scoped>\n",
              "    .dataframe tbody tr th:only-of-type {\n",
              "        vertical-align: middle;\n",
              "    }\n",
              "\n",
              "    .dataframe tbody tr th {\n",
              "        vertical-align: top;\n",
              "    }\n",
              "\n",
              "    .dataframe thead th {\n",
              "        text-align: right;\n",
              "    }\n",
              "</style>\n",
              "<table border=\"1\" class=\"dataframe\">\n",
              "  <thead>\n",
              "    <tr style=\"text-align: right;\">\n",
              "      <th></th>\n",
              "      <th>price</th>\n",
              "      <th>crime_rate</th>\n",
              "      <th>resid_area</th>\n",
              "      <th>air_qual</th>\n",
              "      <th>room_num</th>\n",
              "      <th>age</th>\n",
              "      <th>dist1</th>\n",
              "      <th>dist2</th>\n",
              "      <th>dist3</th>\n",
              "      <th>dist4</th>\n",
              "      <th>teachers</th>\n",
              "      <th>poor_prop</th>\n",
              "      <th>n_hos_beds</th>\n",
              "      <th>n_hot_rooms</th>\n",
              "      <th>rainfall</th>\n",
              "      <th>parks</th>\n",
              "    </tr>\n",
              "  </thead>\n",
              "  <tbody>\n",
              "    <tr>\n",
              "      <th>count</th>\n",
              "      <td>506.000000</td>\n",
              "      <td>506.000000</td>\n",
              "      <td>506.000000</td>\n",
              "      <td>506.000000</td>\n",
              "      <td>506.000000</td>\n",
              "      <td>506.000000</td>\n",
              "      <td>506.000000</td>\n",
              "      <td>506.000000</td>\n",
              "      <td>506.000000</td>\n",
              "      <td>506.000000</td>\n",
              "      <td>506.000000</td>\n",
              "      <td>506.000000</td>\n",
              "      <td>498.000000</td>\n",
              "      <td>506.000000</td>\n",
              "      <td>506.000000</td>\n",
              "      <td>506.000000</td>\n",
              "    </tr>\n",
              "    <tr>\n",
              "      <th>mean</th>\n",
              "      <td>22.528854</td>\n",
              "      <td>3.613524</td>\n",
              "      <td>41.136779</td>\n",
              "      <td>0.554695</td>\n",
              "      <td>6.284634</td>\n",
              "      <td>68.574901</td>\n",
              "      <td>3.971996</td>\n",
              "      <td>3.628775</td>\n",
              "      <td>3.960672</td>\n",
              "      <td>3.618972</td>\n",
              "      <td>21.544466</td>\n",
              "      <td>12.653063</td>\n",
              "      <td>7.899767</td>\n",
              "      <td>13.041605</td>\n",
              "      <td>39.181818</td>\n",
              "      <td>0.054454</td>\n",
              "    </tr>\n",
              "    <tr>\n",
              "      <th>std</th>\n",
              "      <td>9.182176</td>\n",
              "      <td>8.601545</td>\n",
              "      <td>6.860353</td>\n",
              "      <td>0.115878</td>\n",
              "      <td>0.702617</td>\n",
              "      <td>28.148861</td>\n",
              "      <td>2.108532</td>\n",
              "      <td>2.108580</td>\n",
              "      <td>2.119797</td>\n",
              "      <td>2.099203</td>\n",
              "      <td>2.164946</td>\n",
              "      <td>7.141062</td>\n",
              "      <td>1.476683</td>\n",
              "      <td>5.238957</td>\n",
              "      <td>12.513697</td>\n",
              "      <td>0.010632</td>\n",
              "    </tr>\n",
              "    <tr>\n",
              "      <th>min</th>\n",
              "      <td>5.000000</td>\n",
              "      <td>0.006320</td>\n",
              "      <td>30.460000</td>\n",
              "      <td>0.385000</td>\n",
              "      <td>3.561000</td>\n",
              "      <td>2.900000</td>\n",
              "      <td>1.130000</td>\n",
              "      <td>0.920000</td>\n",
              "      <td>1.150000</td>\n",
              "      <td>0.730000</td>\n",
              "      <td>18.000000</td>\n",
              "      <td>1.730000</td>\n",
              "      <td>5.268000</td>\n",
              "      <td>10.057600</td>\n",
              "      <td>3.000000</td>\n",
              "      <td>0.033292</td>\n",
              "    </tr>\n",
              "    <tr>\n",
              "      <th>25%</th>\n",
              "      <td>17.025000</td>\n",
              "      <td>0.082045</td>\n",
              "      <td>35.190000</td>\n",
              "      <td>0.449000</td>\n",
              "      <td>5.885500</td>\n",
              "      <td>45.025000</td>\n",
              "      <td>2.270000</td>\n",
              "      <td>1.940000</td>\n",
              "      <td>2.232500</td>\n",
              "      <td>1.940000</td>\n",
              "      <td>19.800000</td>\n",
              "      <td>6.950000</td>\n",
              "      <td>6.634500</td>\n",
              "      <td>11.189800</td>\n",
              "      <td>28.000000</td>\n",
              "      <td>0.046464</td>\n",
              "    </tr>\n",
              "    <tr>\n",
              "      <th>50%</th>\n",
              "      <td>21.200000</td>\n",
              "      <td>0.256510</td>\n",
              "      <td>39.690000</td>\n",
              "      <td>0.538000</td>\n",
              "      <td>6.208500</td>\n",
              "      <td>77.500000</td>\n",
              "      <td>3.385000</td>\n",
              "      <td>3.010000</td>\n",
              "      <td>3.375000</td>\n",
              "      <td>3.070000</td>\n",
              "      <td>20.950000</td>\n",
              "      <td>11.360000</td>\n",
              "      <td>7.999000</td>\n",
              "      <td>12.720000</td>\n",
              "      <td>39.000000</td>\n",
              "      <td>0.053507</td>\n",
              "    </tr>\n",
              "    <tr>\n",
              "      <th>75%</th>\n",
              "      <td>25.000000</td>\n",
              "      <td>3.677082</td>\n",
              "      <td>48.100000</td>\n",
              "      <td>0.624000</td>\n",
              "      <td>6.623500</td>\n",
              "      <td>94.075000</td>\n",
              "      <td>5.367500</td>\n",
              "      <td>4.992500</td>\n",
              "      <td>5.407500</td>\n",
              "      <td>4.985000</td>\n",
              "      <td>22.600000</td>\n",
              "      <td>16.955000</td>\n",
              "      <td>9.088000</td>\n",
              "      <td>14.170800</td>\n",
              "      <td>50.000000</td>\n",
              "      <td>0.061397</td>\n",
              "    </tr>\n",
              "    <tr>\n",
              "      <th>max</th>\n",
              "      <td>50.000000</td>\n",
              "      <td>88.976200</td>\n",
              "      <td>57.740000</td>\n",
              "      <td>0.871000</td>\n",
              "      <td>8.780000</td>\n",
              "      <td>100.000000</td>\n",
              "      <td>12.320000</td>\n",
              "      <td>11.930000</td>\n",
              "      <td>12.320000</td>\n",
              "      <td>11.940000</td>\n",
              "      <td>27.400000</td>\n",
              "      <td>37.970000</td>\n",
              "      <td>10.876000</td>\n",
              "      <td>101.120000</td>\n",
              "      <td>60.000000</td>\n",
              "      <td>0.086711</td>\n",
              "    </tr>\n",
              "  </tbody>\n",
              "</table>\n",
              "</div>"
            ],
            "text/plain": [
              "            price  crime_rate  resid_area  ...  n_hot_rooms    rainfall       parks\n",
              "count  506.000000  506.000000  506.000000  ...   506.000000  506.000000  506.000000\n",
              "mean    22.528854    3.613524   41.136779  ...    13.041605   39.181818    0.054454\n",
              "std      9.182176    8.601545    6.860353  ...     5.238957   12.513697    0.010632\n",
              "min      5.000000    0.006320   30.460000  ...    10.057600    3.000000    0.033292\n",
              "25%     17.025000    0.082045   35.190000  ...    11.189800   28.000000    0.046464\n",
              "50%     21.200000    0.256510   39.690000  ...    12.720000   39.000000    0.053507\n",
              "75%     25.000000    3.677082   48.100000  ...    14.170800   50.000000    0.061397\n",
              "max     50.000000   88.976200   57.740000  ...   101.120000   60.000000    0.086711\n",
              "\n",
              "[8 rows x 16 columns]"
            ]
          },
          "metadata": {
            "tags": []
          },
          "execution_count": 4
        }
      ]
    },
    {
      "cell_type": "markdown",
      "metadata": {
        "id": "8oIk2VWsl1E2"
      },
      "source": [
        "##Note\n",
        "In positively skewed distributions, the mean is greater than the median, which is always greater than the mode\n"
      ]
    },
    {
      "cell_type": "code",
      "metadata": {
        "colab": {
          "base_uri": "https://localhost:8080/",
          "height": 458
        },
        "id": "lotAz5lyrMp3",
        "outputId": "42c076d5-8993-4604-8981-56ce593c48c6"
      },
      "source": [
        "sns.jointplot(x='n_hot_rooms', y='price', data=df)"
      ],
      "execution_count": null,
      "outputs": [
        {
          "output_type": "execute_result",
          "data": {
            "text/plain": [
              "<seaborn.axisgrid.JointGrid at 0x7f9f9f236550>"
            ]
          },
          "metadata": {
            "tags": []
          },
          "execution_count": 5
        },
        {
          "output_type": "display_data",
          "data": {
            "image/png": "[encoded data removed]",
            "text/plain": [
              "<Figure size 432x432 with 3 Axes>"
            ]
          },
          "metadata": {
            "tags": [],
            "needs_background": "light"
          }
        }
      ]
    },
    {
      "cell_type": "code",
      "metadata": {
        "colab": {
          "base_uri": "https://localhost:8080/",
          "height": 458
        },
        "id": "BrHXPmuNsBuy",
        "outputId": "6fb1f571-422c-4aab-c21b-a705926fa750"
      },
      "source": [
        "sns.jointplot(x='rainfall', y='price', data=df)"
      ],
      "execution_count": null,
      "outputs": [
        {
          "output_type": "execute_result",
          "data": {
            "text/plain": [
              "<seaborn.axisgrid.JointGrid at 0x7f9f96491f50>"
            ]
          },
          "metadata": {
            "tags": []
          },
          "execution_count": 6
        },
        {
          "output_type": "display_data",
          "data": {
            "image/png": "[encoded data removed]",
            "text/plain": [
              "<Figure size 432x432 with 3 Axes>"
            ]
          },
          "metadata": {
            "tags": [],
            "needs_background": "light"
          }
        }
      ]
    },
    {
      "cell_type": "code",
      "metadata": {
        "colab": {
          "base_uri": "https://localhost:8080/",
          "height": 195
        },
        "id": "oLQEatb4sI-8",
        "outputId": "b1ec9de7-c337-4a97-dd46-e2d48773a04d"
      },
      "source": [
        "df.head()"
      ],
      "execution_count": null,
      "outputs": [
        {
          "output_type": "execute_result",
          "data": {
            "text/html": [
              "<div>\n",
              "<style scoped>\n",
              "    .dataframe tbody tr th:only-of-type {\n",
              "        vertical-align: middle;\n",
              "    }\n",
              "\n",
              "    .dataframe tbody tr th {\n",
              "        vertical-align: top;\n",
              "    }\n",
              "\n",
              "    .dataframe thead th {\n",
              "        text-align: right;\n",
              "    }\n",
              "</style>\n",
              "<table border=\"1\" class=\"dataframe\">\n",
              "  <thead>\n",
              "    <tr style=\"text-align: right;\">\n",
              "      <th></th>\n",
              "      <th>price</th>\n",
              "      <th>crime_rate</th>\n",
              "      <th>resid_area</th>\n",
              "      <th>air_qual</th>\n",
              "      <th>room_num</th>\n",
              "      <th>age</th>\n",
              "      <th>dist1</th>\n",
              "      <th>dist2</th>\n",
              "      <th>dist3</th>\n",
              "      <th>dist4</th>\n",
              "      <th>teachers</th>\n",
              "      <th>poor_prop</th>\n",
              "      <th>airport</th>\n",
              "      <th>n_hos_beds</th>\n",
              "      <th>n_hot_rooms</th>\n",
              "      <th>waterbody</th>\n",
              "      <th>rainfall</th>\n",
              "      <th>bus_ter</th>\n",
              "      <th>parks</th>\n",
              "    </tr>\n",
              "  </thead>\n",
              "  <tbody>\n",
              "    <tr>\n",
              "      <th>0</th>\n",
              "      <td>24.0</td>\n",
              "      <td>0.00632</td>\n",
              "      <td>32.31</td>\n",
              "      <td>0.538</td>\n",
              "      <td>6.575</td>\n",
              "      <td>65.2</td>\n",
              "      <td>4.35</td>\n",
              "      <td>3.81</td>\n",
              "      <td>4.18</td>\n",
              "      <td>4.01</td>\n",
              "      <td>24.7</td>\n",
              "      <td>4.98</td>\n",
              "      <td>YES</td>\n",
              "      <td>5.480</td>\n",
              "      <td>11.1920</td>\n",
              "      <td>River</td>\n",
              "      <td>23</td>\n",
              "      <td>YES</td>\n",
              "      <td>0.049347</td>\n",
              "    </tr>\n",
              "    <tr>\n",
              "      <th>1</th>\n",
              "      <td>21.6</td>\n",
              "      <td>0.02731</td>\n",
              "      <td>37.07</td>\n",
              "      <td>0.469</td>\n",
              "      <td>6.421</td>\n",
              "      <td>78.9</td>\n",
              "      <td>4.99</td>\n",
              "      <td>4.70</td>\n",
              "      <td>5.12</td>\n",
              "      <td>5.06</td>\n",
              "      <td>22.2</td>\n",
              "      <td>9.14</td>\n",
              "      <td>NO</td>\n",
              "      <td>7.332</td>\n",
              "      <td>12.1728</td>\n",
              "      <td>Lake</td>\n",
              "      <td>42</td>\n",
              "      <td>YES</td>\n",
              "      <td>0.046146</td>\n",
              "    </tr>\n",
              "    <tr>\n",
              "      <th>2</th>\n",
              "      <td>34.7</td>\n",
              "      <td>0.02729</td>\n",
              "      <td>37.07</td>\n",
              "      <td>0.469</td>\n",
              "      <td>7.185</td>\n",
              "      <td>61.1</td>\n",
              "      <td>5.03</td>\n",
              "      <td>4.86</td>\n",
              "      <td>5.01</td>\n",
              "      <td>4.97</td>\n",
              "      <td>22.2</td>\n",
              "      <td>4.03</td>\n",
              "      <td>NO</td>\n",
              "      <td>7.394</td>\n",
              "      <td>101.1200</td>\n",
              "      <td>None</td>\n",
              "      <td>38</td>\n",
              "      <td>YES</td>\n",
              "      <td>0.045764</td>\n",
              "    </tr>\n",
              "    <tr>\n",
              "      <th>3</th>\n",
              "      <td>33.4</td>\n",
              "      <td>0.03237</td>\n",
              "      <td>32.18</td>\n",
              "      <td>0.458</td>\n",
              "      <td>6.998</td>\n",
              "      <td>45.8</td>\n",
              "      <td>6.21</td>\n",
              "      <td>5.93</td>\n",
              "      <td>6.16</td>\n",
              "      <td>5.96</td>\n",
              "      <td>21.3</td>\n",
              "      <td>2.94</td>\n",
              "      <td>YES</td>\n",
              "      <td>9.268</td>\n",
              "      <td>11.2672</td>\n",
              "      <td>Lake</td>\n",
              "      <td>45</td>\n",
              "      <td>YES</td>\n",
              "      <td>0.047151</td>\n",
              "    </tr>\n",
              "    <tr>\n",
              "      <th>4</th>\n",
              "      <td>36.2</td>\n",
              "      <td>0.06905</td>\n",
              "      <td>32.18</td>\n",
              "      <td>0.458</td>\n",
              "      <td>7.147</td>\n",
              "      <td>54.2</td>\n",
              "      <td>6.16</td>\n",
              "      <td>5.86</td>\n",
              "      <td>6.37</td>\n",
              "      <td>5.86</td>\n",
              "      <td>21.3</td>\n",
              "      <td>5.33</td>\n",
              "      <td>NO</td>\n",
              "      <td>8.824</td>\n",
              "      <td>11.2896</td>\n",
              "      <td>Lake</td>\n",
              "      <td>55</td>\n",
              "      <td>YES</td>\n",
              "      <td>0.039474</td>\n",
              "    </tr>\n",
              "  </tbody>\n",
              "</table>\n",
              "</div>"
            ],
            "text/plain": [
              "   price  crime_rate  resid_area  ...  rainfall  bus_ter     parks\n",
              "0   24.0     0.00632       32.31  ...        23      YES  0.049347\n",
              "1   21.6     0.02731       37.07  ...        42      YES  0.046146\n",
              "2   34.7     0.02729       37.07  ...        38      YES  0.045764\n",
              "3   33.4     0.03237       32.18  ...        45      YES  0.047151\n",
              "4   36.2     0.06905       32.18  ...        55      YES  0.039474\n",
              "\n",
              "[5 rows x 19 columns]"
            ]
          },
          "metadata": {
            "tags": []
          },
          "execution_count": 7
        }
      ]
    },
    {
      "cell_type": "markdown",
      "metadata": {
        "id": "jbAAmrGF5xcR"
      },
      "source": [
        "For some data such as 'airport', 'waterbody', etc.. we cannot get detailed description as we got for inter/long/double values.\n",
        "To overcome that, we manually need to plot their graph and find outliers"
      ]
    },
    {
      "cell_type": "code",
      "metadata": {
        "colab": {
          "base_uri": "https://localhost:8080/",
          "height": 296
        },
        "id": "otXJPykssQXg",
        "outputId": "057191cc-6ada-4ce9-f084-4b1ab80f5902"
      },
      "source": [
        "sns.countplot(x='airport', data=df)"
      ],
      "execution_count": null,
      "outputs": [
        {
          "output_type": "execute_result",
          "data": {
            "text/plain": [
              "<matplotlib.axes._subplots.AxesSubplot at 0x7f9f964e3750>"
            ]
          },
          "metadata": {
            "tags": []
          },
          "execution_count": 8
        },
        {
          "output_type": "display_data",
          "data": {
            "image/png": "[encoded data removed]",
            "text/plain": [
              "<Figure size 432x288 with 1 Axes>"
            ]
          },
          "metadata": {
            "tags": [],
            "needs_background": "light"
          }
        }
      ]
    },
    {
      "cell_type": "code",
      "metadata": {
        "colab": {
          "base_uri": "https://localhost:8080/",
          "height": 296
        },
        "id": "RGwgJ20GsWrS",
        "outputId": "e0b4bc53-af76-4bb9-ea69-71ef603f65f5"
      },
      "source": [
        "sns.countplot(x='waterbody', data=df)"
      ],
      "execution_count": null,
      "outputs": [
        {
          "output_type": "execute_result",
          "data": {
            "text/plain": [
              "<matplotlib.axes._subplots.AxesSubplot at 0x7f9f95e7e8d0>"
            ]
          },
          "metadata": {
            "tags": []
          },
          "execution_count": 9
        },
        {
          "output_type": "display_data",
          "data": {
            "image/png": "[encoded data removed]",
            "text/plain": [
              "<Figure size 432x288 with 1 Axes>"
            ]
          },
          "metadata": {
            "tags": [],
            "needs_background": "light"
          }
        }
      ]
    },
    {
      "cell_type": "code",
      "metadata": {
        "colab": {
          "base_uri": "https://localhost:8080/",
          "height": 297
        },
        "id": "-HJ3lzN-seR_",
        "outputId": "cce51037-a8a0-49c2-f40a-c821638aeb8d"
      },
      "source": [
        "sns.countplot(x='bus_ter', data=df)"
      ],
      "execution_count": null,
      "outputs": [
        {
          "output_type": "execute_result",
          "data": {
            "text/plain": [
              "<matplotlib.axes._subplots.AxesSubplot at 0x7f9f95de2a10>"
            ]
          },
          "metadata": {
            "tags": []
          },
          "execution_count": 10
        },
        {
          "output_type": "display_data",
          "data": {
            "image/png": "[encoded data removed]",
            "text/plain": [
              "<Figure size 432x288 with 1 Axes>"
            ]
          },
          "metadata": {
            "tags": [],
            "needs_background": "light"
          }
        }
      ]
    },
    {
      "cell_type": "markdown",
      "metadata": {
        "id": "boC_BH2Ssnxt"
      },
      "source": [
        "Here, bus_ter has no other differentiating attributes. So its of no use\n",
        "\n",
        "On above code, following were our observations:\n",
        "\n",
        "\n",
        "1.   Missing values in n_hos_beds\n",
        "2.   Skewness or outliers in crime rate\n",
        "3.   Outliers in n_hot_rooms and rainfall\n",
        "4.   Bus_ter has only Yes value\n",
        "\n"
      ]
    },
    {
      "cell_type": "code",
      "metadata": {
        "id": "7bNSnv6wsjDD",
        "colab": {
          "base_uri": "https://localhost:8080/"
        },
        "outputId": "bb0364d2-e427-4810-faf1-b0b0d7d91e58"
      },
      "source": [
        "# .info() gives details about all data whereas \n",
        "# .describe() gives details for numerical values only\n",
        "df.info()"
      ],
      "execution_count": null,
      "outputs": [
        {
          "output_type": "stream",
          "text": [
            "<class 'pandas.core.frame.DataFrame'>\n",
            "RangeIndex: 506 entries, 0 to 505\n",
            "Data columns (total 19 columns):\n",
            " #   Column       Non-Null Count  Dtype  \n",
            "---  ------       --------------  -----  \n",
            " 0   price        506 non-null    float64\n",
            " 1   crime_rate   506 non-null    float64\n",
            " 2   resid_area   506 non-null    float64\n",
            " 3   air_qual     506 non-null    float64\n",
            " 4   room_num     506 non-null    float64\n",
            " 5   age          506 non-null    float64\n",
            " 6   dist1        506 non-null    float64\n",
            " 7   dist2        506 non-null    float64\n",
            " 8   dist3        506 non-null    float64\n",
            " 9   dist4        506 non-null    float64\n",
            " 10  teachers     506 non-null    float64\n",
            " 11  poor_prop    506 non-null    float64\n",
            " 12  airport      506 non-null    object \n",
            " 13  n_hos_beds   498 non-null    float64\n",
            " 14  n_hot_rooms  506 non-null    float64\n",
            " 15  waterbody    506 non-null    object \n",
            " 16  rainfall     506 non-null    int64  \n",
            " 17  bus_ter      506 non-null    object \n",
            " 18  parks        506 non-null    float64\n",
            "dtypes: float64(15), int64(1), object(3)\n",
            "memory usage: 75.2+ KB\n"
          ],
          "name": "stdout"
        }
      ]
    },
    {
      "cell_type": "code",
      "metadata": {
        "id": "BRyfRtsxC9Vz",
        "colab": {
          "base_uri": "https://localhost:8080/"
        },
        "outputId": "5263fbe3-6935-47f3-b8aa-48a79e5dfb9c"
      },
      "source": [
        "# fetching 99th percentile value\n",
        "# on arranging all values in ascending order, the value at 99th % position\n",
        "np.percentile(df.n_hot_rooms, [99])"
      ],
      "execution_count": null,
      "outputs": [
        {
          "output_type": "execute_result",
          "data": {
            "text/plain": [
              "array([15.39952])"
            ]
          },
          "metadata": {
            "tags": []
          },
          "execution_count": 12
        }
      ]
    },
    {
      "cell_type": "code",
      "metadata": {
        "colab": {
          "base_uri": "https://localhost:8080/"
        },
        "id": "RFY_97E4jr70",
        "outputId": "4517ea06-e021-4dd8-cbdf-3d85a49ffe9f"
      },
      "source": [
        "# added [0] because above statement returned an array of 1 element\n",
        "np.percentile(df.n_hot_rooms, [99])[0]"
      ],
      "execution_count": null,
      "outputs": [
        {
          "output_type": "execute_result",
          "data": {
            "text/plain": [
              "15.399519999999999"
            ]
          },
          "metadata": {
            "tags": []
          },
          "execution_count": 13
        }
      ]
    },
    {
      "cell_type": "code",
      "metadata": {
        "id": "wVIOKWoojuZl"
      },
      "source": [
        "# uv -> upper value\n",
        "uv = np.percentile(df.n_hot_rooms, [99])[0]"
      ],
      "execution_count": null,
      "outputs": []
    },
    {
      "cell_type": "code",
      "metadata": {
        "colab": {
          "base_uri": "https://localhost:8080/",
          "height": 225
        },
        "id": "0HH1Qpl8j0XN",
        "outputId": "1a05001d-b874-4784-e342-ea48b8069919"
      },
      "source": [
        "# fetching values with some condition\n",
        "df[(df.n_hot_rooms > uv)]"
      ],
      "execution_count": null,
      "outputs": [
        {
          "output_type": "execute_result",
          "data": {
            "text/html": [
              "<div>\n",
              "<style scoped>\n",
              "    .dataframe tbody tr th:only-of-type {\n",
              "        vertical-align: middle;\n",
              "    }\n",
              "\n",
              "    .dataframe tbody tr th {\n",
              "        vertical-align: top;\n",
              "    }\n",
              "\n",
              "    .dataframe thead th {\n",
              "        text-align: right;\n",
              "    }\n",
              "</style>\n",
              "<table border=\"1\" class=\"dataframe\">\n",
              "  <thead>\n",
              "    <tr style=\"text-align: right;\">\n",
              "      <th></th>\n",
              "      <th>price</th>\n",
              "      <th>crime_rate</th>\n",
              "      <th>resid_area</th>\n",
              "      <th>air_qual</th>\n",
              "      <th>room_num</th>\n",
              "      <th>age</th>\n",
              "      <th>dist1</th>\n",
              "      <th>dist2</th>\n",
              "      <th>dist3</th>\n",
              "      <th>dist4</th>\n",
              "      <th>teachers</th>\n",
              "      <th>poor_prop</th>\n",
              "      <th>airport</th>\n",
              "      <th>n_hos_beds</th>\n",
              "      <th>n_hot_rooms</th>\n",
              "      <th>waterbody</th>\n",
              "      <th>rainfall</th>\n",
              "      <th>bus_ter</th>\n",
              "      <th>parks</th>\n",
              "    </tr>\n",
              "  </thead>\n",
              "  <tbody>\n",
              "    <tr>\n",
              "      <th>2</th>\n",
              "      <td>34.7</td>\n",
              "      <td>0.02729</td>\n",
              "      <td>37.07</td>\n",
              "      <td>0.4690</td>\n",
              "      <td>7.185</td>\n",
              "      <td>61.1</td>\n",
              "      <td>5.03</td>\n",
              "      <td>4.86</td>\n",
              "      <td>5.01</td>\n",
              "      <td>4.97</td>\n",
              "      <td>22.2</td>\n",
              "      <td>4.03</td>\n",
              "      <td>NO</td>\n",
              "      <td>7.394</td>\n",
              "      <td>101.12</td>\n",
              "      <td>None</td>\n",
              "      <td>38</td>\n",
              "      <td>YES</td>\n",
              "      <td>0.045764</td>\n",
              "    </tr>\n",
              "    <tr>\n",
              "      <th>166</th>\n",
              "      <td>50.0</td>\n",
              "      <td>2.01019</td>\n",
              "      <td>49.58</td>\n",
              "      <td>0.6050</td>\n",
              "      <td>7.929</td>\n",
              "      <td>96.2</td>\n",
              "      <td>2.11</td>\n",
              "      <td>1.91</td>\n",
              "      <td>2.31</td>\n",
              "      <td>1.86</td>\n",
              "      <td>25.3</td>\n",
              "      <td>3.70</td>\n",
              "      <td>YES</td>\n",
              "      <td>8.300</td>\n",
              "      <td>15.40</td>\n",
              "      <td>River</td>\n",
              "      <td>37</td>\n",
              "      <td>YES</td>\n",
              "      <td>0.052105</td>\n",
              "    </tr>\n",
              "    <tr>\n",
              "      <th>204</th>\n",
              "      <td>50.0</td>\n",
              "      <td>0.02009</td>\n",
              "      <td>32.68</td>\n",
              "      <td>0.4161</td>\n",
              "      <td>8.034</td>\n",
              "      <td>31.9</td>\n",
              "      <td>5.41</td>\n",
              "      <td>4.80</td>\n",
              "      <td>5.28</td>\n",
              "      <td>4.99</td>\n",
              "      <td>25.3</td>\n",
              "      <td>2.88</td>\n",
              "      <td>YES</td>\n",
              "      <td>8.900</td>\n",
              "      <td>15.40</td>\n",
              "      <td>River</td>\n",
              "      <td>51</td>\n",
              "      <td>YES</td>\n",
              "      <td>0.044178</td>\n",
              "    </tr>\n",
              "    <tr>\n",
              "      <th>267</th>\n",
              "      <td>50.0</td>\n",
              "      <td>0.57834</td>\n",
              "      <td>33.97</td>\n",
              "      <td>0.5750</td>\n",
              "      <td>8.297</td>\n",
              "      <td>67.0</td>\n",
              "      <td>2.60</td>\n",
              "      <td>2.13</td>\n",
              "      <td>2.43</td>\n",
              "      <td>2.52</td>\n",
              "      <td>27.0</td>\n",
              "      <td>7.44</td>\n",
              "      <td>YES</td>\n",
              "      <td>8.000</td>\n",
              "      <td>15.40</td>\n",
              "      <td>None</td>\n",
              "      <td>42</td>\n",
              "      <td>YES</td>\n",
              "      <td>0.063235</td>\n",
              "    </tr>\n",
              "    <tr>\n",
              "      <th>369</th>\n",
              "      <td>50.0</td>\n",
              "      <td>5.66998</td>\n",
              "      <td>48.10</td>\n",
              "      <td>0.6310</td>\n",
              "      <td>6.683</td>\n",
              "      <td>96.8</td>\n",
              "      <td>1.55</td>\n",
              "      <td>1.28</td>\n",
              "      <td>1.65</td>\n",
              "      <td>0.94</td>\n",
              "      <td>19.8</td>\n",
              "      <td>3.73</td>\n",
              "      <td>YES</td>\n",
              "      <td>6.700</td>\n",
              "      <td>15.40</td>\n",
              "      <td>River</td>\n",
              "      <td>58</td>\n",
              "      <td>YES</td>\n",
              "      <td>0.067477</td>\n",
              "    </tr>\n",
              "    <tr>\n",
              "      <th>423</th>\n",
              "      <td>13.4</td>\n",
              "      <td>7.05042</td>\n",
              "      <td>48.10</td>\n",
              "      <td>0.6140</td>\n",
              "      <td>6.103</td>\n",
              "      <td>85.1</td>\n",
              "      <td>2.08</td>\n",
              "      <td>1.80</td>\n",
              "      <td>2.34</td>\n",
              "      <td>1.87</td>\n",
              "      <td>19.8</td>\n",
              "      <td>23.29</td>\n",
              "      <td>NO</td>\n",
              "      <td>8.268</td>\n",
              "      <td>81.12</td>\n",
              "      <td>Lake</td>\n",
              "      <td>29</td>\n",
              "      <td>YES</td>\n",
              "      <td>0.063344</td>\n",
              "    </tr>\n",
              "  </tbody>\n",
              "</table>\n",
              "</div>"
            ],
            "text/plain": [
              "     price  crime_rate  resid_area  ...  rainfall  bus_ter     parks\n",
              "2     34.7     0.02729       37.07  ...        38      YES  0.045764\n",
              "166   50.0     2.01019       49.58  ...        37      YES  0.052105\n",
              "204   50.0     0.02009       32.68  ...        51      YES  0.044178\n",
              "267   50.0     0.57834       33.97  ...        42      YES  0.063235\n",
              "369   50.0     5.66998       48.10  ...        58      YES  0.067477\n",
              "423   13.4     7.05042       48.10  ...        29      YES  0.063344\n",
              "\n",
              "[6 rows x 19 columns]"
            ]
          },
          "metadata": {
            "tags": []
          },
          "execution_count": 15
        }
      ]
    },
    {
      "cell_type": "code",
      "metadata": {
        "colab": {
          "base_uri": "https://localhost:8080/"
        },
        "id": "zBMHCFv2nt1d",
        "outputId": "d2ef06bd-8641-4b77-ea06-e2d87860f5d2"
      },
      "source": [
        "# changing all outlier values\n",
        "df.n_hot_rooms[(df.n_hot_rooms > 3*uv)] = 3*uv"
      ],
      "execution_count": null,
      "outputs": [
        {
          "output_type": "stream",
          "text": [
            "/usr/local/lib/python3.7/dist-packages/ipykernel_launcher.py:2: SettingWithCopyWarning: \n",
            "A value is trying to be set on a copy of a slice from a DataFrame\n",
            "\n",
            "See the caveats in the documentation: https://pandas.pydata.org/pandas-docs/stable/user_guide/indexing.html#returning-a-view-versus-a-copy\n",
            "  \n"
          ],
          "name": "stderr"
        }
      ]
    },
    {
      "cell_type": "code",
      "metadata": {
        "colab": {
          "base_uri": "https://localhost:8080/",
          "height": 225
        },
        "id": "MwPuncHpoDaN",
        "outputId": "9bb27970-97b3-4f50-fc89-82e90793bc50"
      },
      "source": [
        "df[(df.n_hot_rooms > uv)]\n",
        "# we can see that 101.12 & 81.12 are changed to 46.19856"
      ],
      "execution_count": null,
      "outputs": [
        {
          "output_type": "execute_result",
          "data": {
            "text/html": [
              "<div>\n",
              "<style scoped>\n",
              "    .dataframe tbody tr th:only-of-type {\n",
              "        vertical-align: middle;\n",
              "    }\n",
              "\n",
              "    .dataframe tbody tr th {\n",
              "        vertical-align: top;\n",
              "    }\n",
              "\n",
              "    .dataframe thead th {\n",
              "        text-align: right;\n",
              "    }\n",
              "</style>\n",
              "<table border=\"1\" class=\"dataframe\">\n",
              "  <thead>\n",
              "    <tr style=\"text-align: right;\">\n",
              "      <th></th>\n",
              "      <th>price</th>\n",
              "      <th>crime_rate</th>\n",
              "      <th>resid_area</th>\n",
              "      <th>air_qual</th>\n",
              "      <th>room_num</th>\n",
              "      <th>age</th>\n",
              "      <th>dist1</th>\n",
              "      <th>dist2</th>\n",
              "      <th>dist3</th>\n",
              "      <th>dist4</th>\n",
              "      <th>teachers</th>\n",
              "      <th>poor_prop</th>\n",
              "      <th>airport</th>\n",
              "      <th>n_hos_beds</th>\n",
              "      <th>n_hot_rooms</th>\n",
              "      <th>waterbody</th>\n",
              "      <th>rainfall</th>\n",
              "      <th>bus_ter</th>\n",
              "      <th>parks</th>\n",
              "    </tr>\n",
              "  </thead>\n",
              "  <tbody>\n",
              "    <tr>\n",
              "      <th>2</th>\n",
              "      <td>34.7</td>\n",
              "      <td>0.02729</td>\n",
              "      <td>37.07</td>\n",
              "      <td>0.4690</td>\n",
              "      <td>7.185</td>\n",
              "      <td>61.1</td>\n",
              "      <td>5.03</td>\n",
              "      <td>4.86</td>\n",
              "      <td>5.01</td>\n",
              "      <td>4.97</td>\n",
              "      <td>22.2</td>\n",
              "      <td>4.03</td>\n",
              "      <td>NO</td>\n",
              "      <td>7.394</td>\n",
              "      <td>46.19856</td>\n",
              "      <td>None</td>\n",
              "      <td>38</td>\n",
              "      <td>YES</td>\n",
              "      <td>0.045764</td>\n",
              "    </tr>\n",
              "    <tr>\n",
              "      <th>166</th>\n",
              "      <td>50.0</td>\n",
              "      <td>2.01019</td>\n",
              "      <td>49.58</td>\n",
              "      <td>0.6050</td>\n",
              "      <td>7.929</td>\n",
              "      <td>96.2</td>\n",
              "      <td>2.11</td>\n",
              "      <td>1.91</td>\n",
              "      <td>2.31</td>\n",
              "      <td>1.86</td>\n",
              "      <td>25.3</td>\n",
              "      <td>3.70</td>\n",
              "      <td>YES</td>\n",
              "      <td>8.300</td>\n",
              "      <td>15.40000</td>\n",
              "      <td>River</td>\n",
              "      <td>37</td>\n",
              "      <td>YES</td>\n",
              "      <td>0.052105</td>\n",
              "    </tr>\n",
              "    <tr>\n",
              "      <th>204</th>\n",
              "      <td>50.0</td>\n",
              "      <td>0.02009</td>\n",
              "      <td>32.68</td>\n",
              "      <td>0.4161</td>\n",
              "      <td>8.034</td>\n",
              "      <td>31.9</td>\n",
              "      <td>5.41</td>\n",
              "      <td>4.80</td>\n",
              "      <td>5.28</td>\n",
              "      <td>4.99</td>\n",
              "      <td>25.3</td>\n",
              "      <td>2.88</td>\n",
              "      <td>YES</td>\n",
              "      <td>8.900</td>\n",
              "      <td>15.40000</td>\n",
              "      <td>River</td>\n",
              "      <td>51</td>\n",
              "      <td>YES</td>\n",
              "      <td>0.044178</td>\n",
              "    </tr>\n",
              "    <tr>\n",
              "      <th>267</th>\n",
              "      <td>50.0</td>\n",
              "      <td>0.57834</td>\n",
              "      <td>33.97</td>\n",
              "      <td>0.5750</td>\n",
              "      <td>8.297</td>\n",
              "      <td>67.0</td>\n",
              "      <td>2.60</td>\n",
              "      <td>2.13</td>\n",
              "      <td>2.43</td>\n",
              "      <td>2.52</td>\n",
              "      <td>27.0</td>\n",
              "      <td>7.44</td>\n",
              "      <td>YES</td>\n",
              "      <td>8.000</td>\n",
              "      <td>15.40000</td>\n",
              "      <td>None</td>\n",
              "      <td>42</td>\n",
              "      <td>YES</td>\n",
              "      <td>0.063235</td>\n",
              "    </tr>\n",
              "    <tr>\n",
              "      <th>369</th>\n",
              "      <td>50.0</td>\n",
              "      <td>5.66998</td>\n",
              "      <td>48.10</td>\n",
              "      <td>0.6310</td>\n",
              "      <td>6.683</td>\n",
              "      <td>96.8</td>\n",
              "      <td>1.55</td>\n",
              "      <td>1.28</td>\n",
              "      <td>1.65</td>\n",
              "      <td>0.94</td>\n",
              "      <td>19.8</td>\n",
              "      <td>3.73</td>\n",
              "      <td>YES</td>\n",
              "      <td>6.700</td>\n",
              "      <td>15.40000</td>\n",
              "      <td>River</td>\n",
              "      <td>58</td>\n",
              "      <td>YES</td>\n",
              "      <td>0.067477</td>\n",
              "    </tr>\n",
              "    <tr>\n",
              "      <th>423</th>\n",
              "      <td>13.4</td>\n",
              "      <td>7.05042</td>\n",
              "      <td>48.10</td>\n",
              "      <td>0.6140</td>\n",
              "      <td>6.103</td>\n",
              "      <td>85.1</td>\n",
              "      <td>2.08</td>\n",
              "      <td>1.80</td>\n",
              "      <td>2.34</td>\n",
              "      <td>1.87</td>\n",
              "      <td>19.8</td>\n",
              "      <td>23.29</td>\n",
              "      <td>NO</td>\n",
              "      <td>8.268</td>\n",
              "      <td>46.19856</td>\n",
              "      <td>Lake</td>\n",
              "      <td>29</td>\n",
              "      <td>YES</td>\n",
              "      <td>0.063344</td>\n",
              "    </tr>\n",
              "  </tbody>\n",
              "</table>\n",
              "</div>"
            ],
            "text/plain": [
              "     price  crime_rate  resid_area  ...  rainfall  bus_ter     parks\n",
              "2     34.7     0.02729       37.07  ...        38      YES  0.045764\n",
              "166   50.0     2.01019       49.58  ...        37      YES  0.052105\n",
              "204   50.0     0.02009       32.68  ...        51      YES  0.044178\n",
              "267   50.0     0.57834       33.97  ...        42      YES  0.063235\n",
              "369   50.0     5.66998       48.10  ...        58      YES  0.067477\n",
              "423   13.4     7.05042       48.10  ...        29      YES  0.063344\n",
              "\n",
              "[6 rows x 19 columns]"
            ]
          },
          "metadata": {
            "tags": []
          },
          "execution_count": 17
        }
      ]
    },
    {
      "cell_type": "code",
      "metadata": {
        "colab": {
          "base_uri": "https://localhost:8080/"
        },
        "id": "3gfnplfikDJk",
        "outputId": "6583fa2a-79a0-4684-95d8-2d45868f9e1e"
      },
      "source": [
        "# fetching 1st percentile value\n",
        "# on arranging all values in ascending order, the value at 1st % position\n",
        "np.percentile(df.rainfall, [1])"
      ],
      "execution_count": null,
      "outputs": [
        {
          "output_type": "execute_result",
          "data": {
            "text/plain": [
              "array([20.])"
            ]
          },
          "metadata": {
            "tags": []
          },
          "execution_count": 18
        }
      ]
    },
    {
      "cell_type": "code",
      "metadata": {
        "colab": {
          "base_uri": "https://localhost:8080/"
        },
        "id": "QmT2eb-Vm4fw",
        "outputId": "90431465-7a35-45e5-84e1-ffb7d82a13d2"
      },
      "source": [
        "# added [0] because above statement returned an array of 1 element\n",
        "np.percentile(df.rainfall, [1])[0]"
      ],
      "execution_count": null,
      "outputs": [
        {
          "output_type": "execute_result",
          "data": {
            "text/plain": [
              "20.0"
            ]
          },
          "metadata": {
            "tags": []
          },
          "execution_count": 19
        }
      ]
    },
    {
      "cell_type": "code",
      "metadata": {
        "id": "NgSBZ3cNnDCS"
      },
      "source": [
        "# lv -> lower value\n",
        "lv = np.percentile(df.rainfall, [1])[0]"
      ],
      "execution_count": null,
      "outputs": []
    },
    {
      "cell_type": "code",
      "metadata": {
        "colab": {
          "base_uri": "https://localhost:8080/",
          "height": 77
        },
        "id": "7_G6XbqknMF8",
        "outputId": "14302497-e1f1-4789-f5fb-cb9d93c9014e"
      },
      "source": [
        "# fetching values with some condition\n",
        "df[(df.rainfall < lv)]"
      ],
      "execution_count": null,
      "outputs": [
        {
          "output_type": "execute_result",
          "data": {
            "text/html": [
              "<div>\n",
              "<style scoped>\n",
              "    .dataframe tbody tr th:only-of-type {\n",
              "        vertical-align: middle;\n",
              "    }\n",
              "\n",
              "    .dataframe tbody tr th {\n",
              "        vertical-align: top;\n",
              "    }\n",
              "\n",
              "    .dataframe thead th {\n",
              "        text-align: right;\n",
              "    }\n",
              "</style>\n",
              "<table border=\"1\" class=\"dataframe\">\n",
              "  <thead>\n",
              "    <tr style=\"text-align: right;\">\n",
              "      <th></th>\n",
              "      <th>price</th>\n",
              "      <th>crime_rate</th>\n",
              "      <th>resid_area</th>\n",
              "      <th>air_qual</th>\n",
              "      <th>room_num</th>\n",
              "      <th>age</th>\n",
              "      <th>dist1</th>\n",
              "      <th>dist2</th>\n",
              "      <th>dist3</th>\n",
              "      <th>dist4</th>\n",
              "      <th>teachers</th>\n",
              "      <th>poor_prop</th>\n",
              "      <th>airport</th>\n",
              "      <th>n_hos_beds</th>\n",
              "      <th>n_hot_rooms</th>\n",
              "      <th>waterbody</th>\n",
              "      <th>rainfall</th>\n",
              "      <th>bus_ter</th>\n",
              "      <th>parks</th>\n",
              "    </tr>\n",
              "  </thead>\n",
              "  <tbody>\n",
              "    <tr>\n",
              "      <th>213</th>\n",
              "      <td>28.1</td>\n",
              "      <td>0.14052</td>\n",
              "      <td>40.59</td>\n",
              "      <td>0.489</td>\n",
              "      <td>6.375</td>\n",
              "      <td>32.3</td>\n",
              "      <td>4.11</td>\n",
              "      <td>3.92</td>\n",
              "      <td>4.18</td>\n",
              "      <td>3.57</td>\n",
              "      <td>21.4</td>\n",
              "      <td>9.38</td>\n",
              "      <td>YES</td>\n",
              "      <td>7.562</td>\n",
              "      <td>10.2248</td>\n",
              "      <td>None</td>\n",
              "      <td>3</td>\n",
              "      <td>YES</td>\n",
              "      <td>0.044019</td>\n",
              "    </tr>\n",
              "  </tbody>\n",
              "</table>\n",
              "</div>"
            ],
            "text/plain": [
              "     price  crime_rate  resid_area  ...  rainfall  bus_ter     parks\n",
              "213   28.1     0.14052       40.59  ...         3      YES  0.044019\n",
              "\n",
              "[1 rows x 19 columns]"
            ]
          },
          "metadata": {
            "tags": []
          },
          "execution_count": 21
        }
      ]
    },
    {
      "cell_type": "code",
      "metadata": {
        "colab": {
          "base_uri": "https://localhost:8080/"
        },
        "id": "puXbwctinP8y",
        "outputId": "8fc64582-581e-4d24-981e-317f520a3bc9"
      },
      "source": [
        "# changing all outlier values\n",
        "df.rainfall[(df.rainfall < 0.3*lv)] = 0.3*lv"
      ],
      "execution_count": null,
      "outputs": [
        {
          "output_type": "stream",
          "text": [
            "/usr/local/lib/python3.7/dist-packages/ipykernel_launcher.py:2: SettingWithCopyWarning: \n",
            "A value is trying to be set on a copy of a slice from a DataFrame\n",
            "\n",
            "See the caveats in the documentation: https://pandas.pydata.org/pandas-docs/stable/user_guide/indexing.html#returning-a-view-versus-a-copy\n",
            "  \n"
          ],
          "name": "stderr"
        }
      ]
    },
    {
      "cell_type": "code",
      "metadata": {
        "colab": {
          "base_uri": "https://localhost:8080/",
          "height": 77
        },
        "id": "9_wY6iycq_U6",
        "outputId": "aad2bda5-7a2b-4e53-c682-0d00932ff54b"
      },
      "source": [
        "df[(df.rainfall < lv)]"
      ],
      "execution_count": null,
      "outputs": [
        {
          "output_type": "execute_result",
          "data": {
            "text/html": [
              "<div>\n",
              "<style scoped>\n",
              "    .dataframe tbody tr th:only-of-type {\n",
              "        vertical-align: middle;\n",
              "    }\n",
              "\n",
              "    .dataframe tbody tr th {\n",
              "        vertical-align: top;\n",
              "    }\n",
              "\n",
              "    .dataframe thead th {\n",
              "        text-align: right;\n",
              "    }\n",
              "</style>\n",
              "<table border=\"1\" class=\"dataframe\">\n",
              "  <thead>\n",
              "    <tr style=\"text-align: right;\">\n",
              "      <th></th>\n",
              "      <th>price</th>\n",
              "      <th>crime_rate</th>\n",
              "      <th>resid_area</th>\n",
              "      <th>air_qual</th>\n",
              "      <th>room_num</th>\n",
              "      <th>age</th>\n",
              "      <th>dist1</th>\n",
              "      <th>dist2</th>\n",
              "      <th>dist3</th>\n",
              "      <th>dist4</th>\n",
              "      <th>teachers</th>\n",
              "      <th>poor_prop</th>\n",
              "      <th>airport</th>\n",
              "      <th>n_hos_beds</th>\n",
              "      <th>n_hot_rooms</th>\n",
              "      <th>waterbody</th>\n",
              "      <th>rainfall</th>\n",
              "      <th>bus_ter</th>\n",
              "      <th>parks</th>\n",
              "    </tr>\n",
              "  </thead>\n",
              "  <tbody>\n",
              "    <tr>\n",
              "      <th>213</th>\n",
              "      <td>28.1</td>\n",
              "      <td>0.14052</td>\n",
              "      <td>40.59</td>\n",
              "      <td>0.489</td>\n",
              "      <td>6.375</td>\n",
              "      <td>32.3</td>\n",
              "      <td>4.11</td>\n",
              "      <td>3.92</td>\n",
              "      <td>4.18</td>\n",
              "      <td>3.57</td>\n",
              "      <td>21.4</td>\n",
              "      <td>9.38</td>\n",
              "      <td>YES</td>\n",
              "      <td>7.562</td>\n",
              "      <td>10.2248</td>\n",
              "      <td>None</td>\n",
              "      <td>6</td>\n",
              "      <td>YES</td>\n",
              "      <td>0.044019</td>\n",
              "    </tr>\n",
              "  </tbody>\n",
              "</table>\n",
              "</div>"
            ],
            "text/plain": [
              "     price  crime_rate  resid_area  ...  rainfall  bus_ter     parks\n",
              "213   28.1     0.14052       40.59  ...         6      YES  0.044019\n",
              "\n",
              "[1 rows x 19 columns]"
            ]
          },
          "metadata": {
            "tags": []
          },
          "execution_count": 23
        }
      ]
    },
    {
      "cell_type": "code",
      "metadata": {
        "colab": {
          "base_uri": "https://localhost:8080/",
          "height": 458
        },
        "id": "k1FS6HM-zKyo",
        "outputId": "d1c40ce3-5d9a-4d72-be17-cb34a11cfada"
      },
      "source": [
        "sns.jointplot(x='crime_rate', y='price', data=df)"
      ],
      "execution_count": null,
      "outputs": [
        {
          "output_type": "execute_result",
          "data": {
            "text/plain": [
              "<seaborn.axisgrid.JointGrid at 0x7f9f95d71f50>"
            ]
          },
          "metadata": {
            "tags": []
          },
          "execution_count": 24
        },
        {
          "output_type": "display_data",
          "data": {
            "image/png": "[encoded data removed]",
            "text/plain": [
              "<Figure size 432x432 with 3 Axes>"
            ]
          },
          "metadata": {
            "tags": [],
            "needs_background": "light"
          }
        }
      ]
    },
    {
      "cell_type": "code",
      "metadata": {
        "id": "yuw8XoLImKaZ"
      },
      "source": [
        "df.n_hos_beds = df.n_hos_beds.fillna(df.n_hos_beds.median())"
      ],
      "execution_count": null,
      "outputs": []
    },
    {
      "cell_type": "code",
      "metadata": {
        "colab": {
          "base_uri": "https://localhost:8080/",
          "height": 304
        },
        "id": "d8aB9hDUy5OX",
        "outputId": "2fd1946c-8fd6-4564-9aa2-9feaa4e6b87d"
      },
      "source": [
        "df.describe()"
      ],
      "execution_count": null,
      "outputs": [
        {
          "output_type": "execute_result",
          "data": {
            "text/html": [
              "<div>\n",
              "<style scoped>\n",
              "    .dataframe tbody tr th:only-of-type {\n",
              "        vertical-align: middle;\n",
              "    }\n",
              "\n",
              "    .dataframe tbody tr th {\n",
              "        vertical-align: top;\n",
              "    }\n",
              "\n",
              "    .dataframe thead th {\n",
              "        text-align: right;\n",
              "    }\n",
              "</style>\n",
              "<table border=\"1\" class=\"dataframe\">\n",
              "  <thead>\n",
              "    <tr style=\"text-align: right;\">\n",
              "      <th></th>\n",
              "      <th>price</th>\n",
              "      <th>crime_rate</th>\n",
              "      <th>resid_area</th>\n",
              "      <th>air_qual</th>\n",
              "      <th>room_num</th>\n",
              "      <th>age</th>\n",
              "      <th>dist1</th>\n",
              "      <th>dist2</th>\n",
              "      <th>dist3</th>\n",
              "      <th>dist4</th>\n",
              "      <th>teachers</th>\n",
              "      <th>poor_prop</th>\n",
              "      <th>n_hos_beds</th>\n",
              "      <th>n_hot_rooms</th>\n",
              "      <th>rainfall</th>\n",
              "      <th>parks</th>\n",
              "    </tr>\n",
              "  </thead>\n",
              "  <tbody>\n",
              "    <tr>\n",
              "      <th>count</th>\n",
              "      <td>506.000000</td>\n",
              "      <td>506.000000</td>\n",
              "      <td>506.000000</td>\n",
              "      <td>506.000000</td>\n",
              "      <td>506.000000</td>\n",
              "      <td>506.000000</td>\n",
              "      <td>506.000000</td>\n",
              "      <td>506.000000</td>\n",
              "      <td>506.000000</td>\n",
              "      <td>506.000000</td>\n",
              "      <td>506.000000</td>\n",
              "      <td>506.000000</td>\n",
              "      <td>506.000000</td>\n",
              "      <td>506.000000</td>\n",
              "      <td>506.000000</td>\n",
              "      <td>506.000000</td>\n",
              "    </tr>\n",
              "    <tr>\n",
              "      <th>mean</th>\n",
              "      <td>22.528854</td>\n",
              "      <td>3.613524</td>\n",
              "      <td>41.136779</td>\n",
              "      <td>0.554695</td>\n",
              "      <td>6.284634</td>\n",
              "      <td>68.574901</td>\n",
              "      <td>3.971996</td>\n",
              "      <td>3.628775</td>\n",
              "      <td>3.960672</td>\n",
              "      <td>3.618972</td>\n",
              "      <td>21.544466</td>\n",
              "      <td>12.653063</td>\n",
              "      <td>7.901336</td>\n",
              "      <td>12.864050</td>\n",
              "      <td>39.187747</td>\n",
              "      <td>0.054454</td>\n",
              "    </tr>\n",
              "    <tr>\n",
              "      <th>std</th>\n",
              "      <td>9.182176</td>\n",
              "      <td>8.601545</td>\n",
              "      <td>6.860353</td>\n",
              "      <td>0.115878</td>\n",
              "      <td>0.702617</td>\n",
              "      <td>28.148861</td>\n",
              "      <td>2.108532</td>\n",
              "      <td>2.108580</td>\n",
              "      <td>2.119797</td>\n",
              "      <td>2.099203</td>\n",
              "      <td>2.164946</td>\n",
              "      <td>7.141062</td>\n",
              "      <td>1.464992</td>\n",
              "      <td>2.688778</td>\n",
              "      <td>12.497221</td>\n",
              "      <td>0.010632</td>\n",
              "    </tr>\n",
              "    <tr>\n",
              "      <th>min</th>\n",
              "      <td>5.000000</td>\n",
              "      <td>0.006320</td>\n",
              "      <td>30.460000</td>\n",
              "      <td>0.385000</td>\n",
              "      <td>3.561000</td>\n",
              "      <td>2.900000</td>\n",
              "      <td>1.130000</td>\n",
              "      <td>0.920000</td>\n",
              "      <td>1.150000</td>\n",
              "      <td>0.730000</td>\n",
              "      <td>18.000000</td>\n",
              "      <td>1.730000</td>\n",
              "      <td>5.268000</td>\n",
              "      <td>10.057600</td>\n",
              "      <td>6.000000</td>\n",
              "      <td>0.033292</td>\n",
              "    </tr>\n",
              "    <tr>\n",
              "      <th>25%</th>\n",
              "      <td>17.025000</td>\n",
              "      <td>0.082045</td>\n",
              "      <td>35.190000</td>\n",
              "      <td>0.449000</td>\n",
              "      <td>5.885500</td>\n",
              "      <td>45.025000</td>\n",
              "      <td>2.270000</td>\n",
              "      <td>1.940000</td>\n",
              "      <td>2.232500</td>\n",
              "      <td>1.940000</td>\n",
              "      <td>19.800000</td>\n",
              "      <td>6.950000</td>\n",
              "      <td>6.659000</td>\n",
              "      <td>11.189800</td>\n",
              "      <td>28.000000</td>\n",
              "      <td>0.046464</td>\n",
              "    </tr>\n",
              "    <tr>\n",
              "      <th>50%</th>\n",
              "      <td>21.200000</td>\n",
              "      <td>0.256510</td>\n",
              "      <td>39.690000</td>\n",
              "      <td>0.538000</td>\n",
              "      <td>6.208500</td>\n",
              "      <td>77.500000</td>\n",
              "      <td>3.385000</td>\n",
              "      <td>3.010000</td>\n",
              "      <td>3.375000</td>\n",
              "      <td>3.070000</td>\n",
              "      <td>20.950000</td>\n",
              "      <td>11.360000</td>\n",
              "      <td>7.999000</td>\n",
              "      <td>12.720000</td>\n",
              "      <td>39.000000</td>\n",
              "      <td>0.053507</td>\n",
              "    </tr>\n",
              "    <tr>\n",
              "      <th>75%</th>\n",
              "      <td>25.000000</td>\n",
              "      <td>3.677082</td>\n",
              "      <td>48.100000</td>\n",
              "      <td>0.624000</td>\n",
              "      <td>6.623500</td>\n",
              "      <td>94.075000</td>\n",
              "      <td>5.367500</td>\n",
              "      <td>4.992500</td>\n",
              "      <td>5.407500</td>\n",
              "      <td>4.985000</td>\n",
              "      <td>22.600000</td>\n",
              "      <td>16.955000</td>\n",
              "      <td>9.076000</td>\n",
              "      <td>14.170800</td>\n",
              "      <td>50.000000</td>\n",
              "      <td>0.061397</td>\n",
              "    </tr>\n",
              "    <tr>\n",
              "      <th>max</th>\n",
              "      <td>50.000000</td>\n",
              "      <td>88.976200</td>\n",
              "      <td>57.740000</td>\n",
              "      <td>0.871000</td>\n",
              "      <td>8.780000</td>\n",
              "      <td>100.000000</td>\n",
              "      <td>12.320000</td>\n",
              "      <td>11.930000</td>\n",
              "      <td>12.320000</td>\n",
              "      <td>11.940000</td>\n",
              "      <td>27.400000</td>\n",
              "      <td>37.970000</td>\n",
              "      <td>10.876000</td>\n",
              "      <td>46.198560</td>\n",
              "      <td>60.000000</td>\n",
              "      <td>0.086711</td>\n",
              "    </tr>\n",
              "  </tbody>\n",
              "</table>\n",
              "</div>"
            ],
            "text/plain": [
              "            price  crime_rate  resid_area  ...  n_hot_rooms    rainfall       parks\n",
              "count  506.000000  506.000000  506.000000  ...   506.000000  506.000000  506.000000\n",
              "mean    22.528854    3.613524   41.136779  ...    12.864050   39.187747    0.054454\n",
              "std      9.182176    8.601545    6.860353  ...     2.688778   12.497221    0.010632\n",
              "min      5.000000    0.006320   30.460000  ...    10.057600    6.000000    0.033292\n",
              "25%     17.025000    0.082045   35.190000  ...    11.189800   28.000000    0.046464\n",
              "50%     21.200000    0.256510   39.690000  ...    12.720000   39.000000    0.053507\n",
              "75%     25.000000    3.677082   48.100000  ...    14.170800   50.000000    0.061397\n",
              "max     50.000000   88.976200   57.740000  ...    46.198560   60.000000    0.086711\n",
              "\n",
              "[8 rows x 16 columns]"
            ]
          },
          "metadata": {
            "tags": []
          },
          "execution_count": 26
        }
      ]
    },
    {
      "cell_type": "code",
      "metadata": {
        "id": "TPf3MTgtyuLV"
      },
      "source": [
        "df['avg_dist'] = (df.dist1 + df.dist2 + df.dist3 + df.dist4)/4"
      ],
      "execution_count": null,
      "outputs": []
    },
    {
      "cell_type": "code",
      "metadata": {
        "colab": {
          "base_uri": "https://localhost:8080/",
          "height": 304
        },
        "id": "nWC9jqoby_PX",
        "outputId": "c4a79142-b1bc-45b7-8277-e2c801089199"
      },
      "source": [
        "df.describe()"
      ],
      "execution_count": null,
      "outputs": [
        {
          "output_type": "execute_result",
          "data": {
            "text/html": [
              "<div>\n",
              "<style scoped>\n",
              "    .dataframe tbody tr th:only-of-type {\n",
              "        vertical-align: middle;\n",
              "    }\n",
              "\n",
              "    .dataframe tbody tr th {\n",
              "        vertical-align: top;\n",
              "    }\n",
              "\n",
              "    .dataframe thead th {\n",
              "        text-align: right;\n",
              "    }\n",
              "</style>\n",
              "<table border=\"1\" class=\"dataframe\">\n",
              "  <thead>\n",
              "    <tr style=\"text-align: right;\">\n",
              "      <th></th>\n",
              "      <th>price</th>\n",
              "      <th>crime_rate</th>\n",
              "      <th>resid_area</th>\n",
              "      <th>air_qual</th>\n",
              "      <th>room_num</th>\n",
              "      <th>age</th>\n",
              "      <th>dist1</th>\n",
              "      <th>dist2</th>\n",
              "      <th>dist3</th>\n",
              "      <th>dist4</th>\n",
              "      <th>teachers</th>\n",
              "      <th>poor_prop</th>\n",
              "      <th>n_hos_beds</th>\n",
              "      <th>n_hot_rooms</th>\n",
              "      <th>rainfall</th>\n",
              "      <th>parks</th>\n",
              "      <th>avg_dist</th>\n",
              "    </tr>\n",
              "  </thead>\n",
              "  <tbody>\n",
              "    <tr>\n",
              "      <th>count</th>\n",
              "      <td>506.000000</td>\n",
              "      <td>506.000000</td>\n",
              "      <td>506.000000</td>\n",
              "      <td>506.000000</td>\n",
              "      <td>506.000000</td>\n",
              "      <td>506.000000</td>\n",
              "      <td>506.000000</td>\n",
              "      <td>506.000000</td>\n",
              "      <td>506.000000</td>\n",
              "      <td>506.000000</td>\n",
              "      <td>506.000000</td>\n",
              "      <td>506.000000</td>\n",
              "      <td>506.000000</td>\n",
              "      <td>506.000000</td>\n",
              "      <td>506.000000</td>\n",
              "      <td>506.000000</td>\n",
              "      <td>506.000000</td>\n",
              "    </tr>\n",
              "    <tr>\n",
              "      <th>mean</th>\n",
              "      <td>22.528854</td>\n",
              "      <td>3.613524</td>\n",
              "      <td>41.136779</td>\n",
              "      <td>0.554695</td>\n",
              "      <td>6.284634</td>\n",
              "      <td>68.574901</td>\n",
              "      <td>3.971996</td>\n",
              "      <td>3.628775</td>\n",
              "      <td>3.960672</td>\n",
              "      <td>3.618972</td>\n",
              "      <td>21.544466</td>\n",
              "      <td>12.653063</td>\n",
              "      <td>7.901336</td>\n",
              "      <td>12.864050</td>\n",
              "      <td>39.187747</td>\n",
              "      <td>0.054454</td>\n",
              "      <td>3.795104</td>\n",
              "    </tr>\n",
              "    <tr>\n",
              "      <th>std</th>\n",
              "      <td>9.182176</td>\n",
              "      <td>8.601545</td>\n",
              "      <td>6.860353</td>\n",
              "      <td>0.115878</td>\n",
              "      <td>0.702617</td>\n",
              "      <td>28.148861</td>\n",
              "      <td>2.108532</td>\n",
              "      <td>2.108580</td>\n",
              "      <td>2.119797</td>\n",
              "      <td>2.099203</td>\n",
              "      <td>2.164946</td>\n",
              "      <td>7.141062</td>\n",
              "      <td>1.464992</td>\n",
              "      <td>2.688778</td>\n",
              "      <td>12.497221</td>\n",
              "      <td>0.010632</td>\n",
              "      <td>2.105859</td>\n",
              "    </tr>\n",
              "    <tr>\n",
              "      <th>min</th>\n",
              "      <td>5.000000</td>\n",
              "      <td>0.006320</td>\n",
              "      <td>30.460000</td>\n",
              "      <td>0.385000</td>\n",
              "      <td>3.561000</td>\n",
              "      <td>2.900000</td>\n",
              "      <td>1.130000</td>\n",
              "      <td>0.920000</td>\n",
              "      <td>1.150000</td>\n",
              "      <td>0.730000</td>\n",
              "      <td>18.000000</td>\n",
              "      <td>1.730000</td>\n",
              "      <td>5.268000</td>\n",
              "      <td>10.057600</td>\n",
              "      <td>6.000000</td>\n",
              "      <td>0.033292</td>\n",
              "      <td>1.127500</td>\n",
              "    </tr>\n",
              "    <tr>\n",
              "      <th>25%</th>\n",
              "      <td>17.025000</td>\n",
              "      <td>0.082045</td>\n",
              "      <td>35.190000</td>\n",
              "      <td>0.449000</td>\n",
              "      <td>5.885500</td>\n",
              "      <td>45.025000</td>\n",
              "      <td>2.270000</td>\n",
              "      <td>1.940000</td>\n",
              "      <td>2.232500</td>\n",
              "      <td>1.940000</td>\n",
              "      <td>19.800000</td>\n",
              "      <td>6.950000</td>\n",
              "      <td>6.659000</td>\n",
              "      <td>11.189800</td>\n",
              "      <td>28.000000</td>\n",
              "      <td>0.046464</td>\n",
              "      <td>2.100625</td>\n",
              "    </tr>\n",
              "    <tr>\n",
              "      <th>50%</th>\n",
              "      <td>21.200000</td>\n",
              "      <td>0.256510</td>\n",
              "      <td>39.690000</td>\n",
              "      <td>0.538000</td>\n",
              "      <td>6.208500</td>\n",
              "      <td>77.500000</td>\n",
              "      <td>3.385000</td>\n",
              "      <td>3.010000</td>\n",
              "      <td>3.375000</td>\n",
              "      <td>3.070000</td>\n",
              "      <td>20.950000</td>\n",
              "      <td>11.360000</td>\n",
              "      <td>7.999000</td>\n",
              "      <td>12.720000</td>\n",
              "      <td>39.000000</td>\n",
              "      <td>0.053507</td>\n",
              "      <td>3.207500</td>\n",
              "    </tr>\n",
              "    <tr>\n",
              "      <th>75%</th>\n",
              "      <td>25.000000</td>\n",
              "      <td>3.677082</td>\n",
              "      <td>48.100000</td>\n",
              "      <td>0.624000</td>\n",
              "      <td>6.623500</td>\n",
              "      <td>94.075000</td>\n",
              "      <td>5.367500</td>\n",
              "      <td>4.992500</td>\n",
              "      <td>5.407500</td>\n",
              "      <td>4.985000</td>\n",
              "      <td>22.600000</td>\n",
              "      <td>16.955000</td>\n",
              "      <td>9.076000</td>\n",
              "      <td>14.170800</td>\n",
              "      <td>50.000000</td>\n",
              "      <td>0.061397</td>\n",
              "      <td>5.187500</td>\n",
              "    </tr>\n",
              "    <tr>\n",
              "      <th>max</th>\n",
              "      <td>50.000000</td>\n",
              "      <td>88.976200</td>\n",
              "      <td>57.740000</td>\n",
              "      <td>0.871000</td>\n",
              "      <td>8.780000</td>\n",
              "      <td>100.000000</td>\n",
              "      <td>12.320000</td>\n",
              "      <td>11.930000</td>\n",
              "      <td>12.320000</td>\n",
              "      <td>11.940000</td>\n",
              "      <td>27.400000</td>\n",
              "      <td>37.970000</td>\n",
              "      <td>10.876000</td>\n",
              "      <td>46.198560</td>\n",
              "      <td>60.000000</td>\n",
              "      <td>0.086711</td>\n",
              "      <td>12.127500</td>\n",
              "    </tr>\n",
              "  </tbody>\n",
              "</table>\n",
              "</div>"
            ],
            "text/plain": [
              "            price  crime_rate  resid_area  ...    rainfall       parks    avg_dist\n",
              "count  506.000000  506.000000  506.000000  ...  506.000000  506.000000  506.000000\n",
              "mean    22.528854    3.613524   41.136779  ...   39.187747    0.054454    3.795104\n",
              "std      9.182176    8.601545    6.860353  ...   12.497221    0.010632    2.105859\n",
              "min      5.000000    0.006320   30.460000  ...    6.000000    0.033292    1.127500\n",
              "25%     17.025000    0.082045   35.190000  ...   28.000000    0.046464    2.100625\n",
              "50%     21.200000    0.256510   39.690000  ...   39.000000    0.053507    3.207500\n",
              "75%     25.000000    3.677082   48.100000  ...   50.000000    0.061397    5.187500\n",
              "max     50.000000   88.976200   57.740000  ...   60.000000    0.086711   12.127500\n",
              "\n",
              "[8 rows x 17 columns]"
            ]
          },
          "metadata": {
            "tags": []
          },
          "execution_count": 28
        }
      ]
    },
    {
      "cell_type": "code",
      "metadata": {
        "id": "5i3RcxiazAdn"
      },
      "source": [
        "del df['dist1']"
      ],
      "execution_count": null,
      "outputs": []
    },
    {
      "cell_type": "code",
      "metadata": {
        "id": "WqZ_DlrizHYB"
      },
      "source": [
        "del df['dist2']"
      ],
      "execution_count": null,
      "outputs": []
    },
    {
      "cell_type": "code",
      "metadata": {
        "id": "MY3SfHqzzKNE"
      },
      "source": [
        "del df['dist3']"
      ],
      "execution_count": null,
      "outputs": []
    },
    {
      "cell_type": "code",
      "metadata": {
        "id": "SRTW2grOzLJq"
      },
      "source": [
        "del df['dist4']"
      ],
      "execution_count": null,
      "outputs": []
    },
    {
      "cell_type": "code",
      "metadata": {
        "id": "WvVdSZoBzL8-",
        "colab": {
          "base_uri": "https://localhost:8080/",
          "height": 284
        },
        "outputId": "6b6c672b-b89b-4ec6-a753-89a657603859"
      },
      "source": [
        "df.describe()"
      ],
      "execution_count": null,
      "outputs": [
        {
          "output_type": "execute_result",
          "data": {
            "text/html": [
              "<div>\n",
              "<style scoped>\n",
              "    .dataframe tbody tr th:only-of-type {\n",
              "        vertical-align: middle;\n",
              "    }\n",
              "\n",
              "    .dataframe tbody tr th {\n",
              "        vertical-align: top;\n",
              "    }\n",
              "\n",
              "    .dataframe thead th {\n",
              "        text-align: right;\n",
              "    }\n",
              "</style>\n",
              "<table border=\"1\" class=\"dataframe\">\n",
              "  <thead>\n",
              "    <tr style=\"text-align: right;\">\n",
              "      <th></th>\n",
              "      <th>price</th>\n",
              "      <th>crime_rate</th>\n",
              "      <th>resid_area</th>\n",
              "      <th>air_qual</th>\n",
              "      <th>room_num</th>\n",
              "      <th>age</th>\n",
              "      <th>teachers</th>\n",
              "      <th>poor_prop</th>\n",
              "      <th>n_hos_beds</th>\n",
              "      <th>n_hot_rooms</th>\n",
              "      <th>rainfall</th>\n",
              "      <th>parks</th>\n",
              "      <th>avg_dist</th>\n",
              "    </tr>\n",
              "  </thead>\n",
              "  <tbody>\n",
              "    <tr>\n",
              "      <th>count</th>\n",
              "      <td>506.000000</td>\n",
              "      <td>506.000000</td>\n",
              "      <td>506.000000</td>\n",
              "      <td>506.000000</td>\n",
              "      <td>506.000000</td>\n",
              "      <td>506.000000</td>\n",
              "      <td>506.000000</td>\n",
              "      <td>506.000000</td>\n",
              "      <td>506.000000</td>\n",
              "      <td>506.000000</td>\n",
              "      <td>506.000000</td>\n",
              "      <td>506.000000</td>\n",
              "      <td>506.000000</td>\n",
              "    </tr>\n",
              "    <tr>\n",
              "      <th>mean</th>\n",
              "      <td>22.528854</td>\n",
              "      <td>3.613524</td>\n",
              "      <td>41.136779</td>\n",
              "      <td>0.554695</td>\n",
              "      <td>6.284634</td>\n",
              "      <td>68.574901</td>\n",
              "      <td>21.544466</td>\n",
              "      <td>12.653063</td>\n",
              "      <td>7.901336</td>\n",
              "      <td>12.864050</td>\n",
              "      <td>39.187747</td>\n",
              "      <td>0.054454</td>\n",
              "      <td>3.795104</td>\n",
              "    </tr>\n",
              "    <tr>\n",
              "      <th>std</th>\n",
              "      <td>9.182176</td>\n",
              "      <td>8.601545</td>\n",
              "      <td>6.860353</td>\n",
              "      <td>0.115878</td>\n",
              "      <td>0.702617</td>\n",
              "      <td>28.148861</td>\n",
              "      <td>2.164946</td>\n",
              "      <td>7.141062</td>\n",
              "      <td>1.464992</td>\n",
              "      <td>2.688778</td>\n",
              "      <td>12.497221</td>\n",
              "      <td>0.010632</td>\n",
              "      <td>2.105859</td>\n",
              "    </tr>\n",
              "    <tr>\n",
              "      <th>min</th>\n",
              "      <td>5.000000</td>\n",
              "      <td>0.006320</td>\n",
              "      <td>30.460000</td>\n",
              "      <td>0.385000</td>\n",
              "      <td>3.561000</td>\n",
              "      <td>2.900000</td>\n",
              "      <td>18.000000</td>\n",
              "      <td>1.730000</td>\n",
              "      <td>5.268000</td>\n",
              "      <td>10.057600</td>\n",
              "      <td>6.000000</td>\n",
              "      <td>0.033292</td>\n",
              "      <td>1.127500</td>\n",
              "    </tr>\n",
              "    <tr>\n",
              "      <th>25%</th>\n",
              "      <td>17.025000</td>\n",
              "      <td>0.082045</td>\n",
              "      <td>35.190000</td>\n",
              "      <td>0.449000</td>\n",
              "      <td>5.885500</td>\n",
              "      <td>45.025000</td>\n",
              "      <td>19.800000</td>\n",
              "      <td>6.950000</td>\n",
              "      <td>6.659000</td>\n",
              "      <td>11.189800</td>\n",
              "      <td>28.000000</td>\n",
              "      <td>0.046464</td>\n",
              "      <td>2.100625</td>\n",
              "    </tr>\n",
              "    <tr>\n",
              "      <th>50%</th>\n",
              "      <td>21.200000</td>\n",
              "      <td>0.256510</td>\n",
              "      <td>39.690000</td>\n",
              "      <td>0.538000</td>\n",
              "      <td>6.208500</td>\n",
              "      <td>77.500000</td>\n",
              "      <td>20.950000</td>\n",
              "      <td>11.360000</td>\n",
              "      <td>7.999000</td>\n",
              "      <td>12.720000</td>\n",
              "      <td>39.000000</td>\n",
              "      <td>0.053507</td>\n",
              "      <td>3.207500</td>\n",
              "    </tr>\n",
              "    <tr>\n",
              "      <th>75%</th>\n",
              "      <td>25.000000</td>\n",
              "      <td>3.677082</td>\n",
              "      <td>48.100000</td>\n",
              "      <td>0.624000</td>\n",
              "      <td>6.623500</td>\n",
              "      <td>94.075000</td>\n",
              "      <td>22.600000</td>\n",
              "      <td>16.955000</td>\n",
              "      <td>9.076000</td>\n",
              "      <td>14.170800</td>\n",
              "      <td>50.000000</td>\n",
              "      <td>0.061397</td>\n",
              "      <td>5.187500</td>\n",
              "    </tr>\n",
              "    <tr>\n",
              "      <th>max</th>\n",
              "      <td>50.000000</td>\n",
              "      <td>88.976200</td>\n",
              "      <td>57.740000</td>\n",
              "      <td>0.871000</td>\n",
              "      <td>8.780000</td>\n",
              "      <td>100.000000</td>\n",
              "      <td>27.400000</td>\n",
              "      <td>37.970000</td>\n",
              "      <td>10.876000</td>\n",
              "      <td>46.198560</td>\n",
              "      <td>60.000000</td>\n",
              "      <td>0.086711</td>\n",
              "      <td>12.127500</td>\n",
              "    </tr>\n",
              "  </tbody>\n",
              "</table>\n",
              "</div>"
            ],
            "text/plain": [
              "            price  crime_rate  resid_area  ...    rainfall       parks    avg_dist\n",
              "count  506.000000  506.000000  506.000000  ...  506.000000  506.000000  506.000000\n",
              "mean    22.528854    3.613524   41.136779  ...   39.187747    0.054454    3.795104\n",
              "std      9.182176    8.601545    6.860353  ...   12.497221    0.010632    2.105859\n",
              "min      5.000000    0.006320   30.460000  ...    6.000000    0.033292    1.127500\n",
              "25%     17.025000    0.082045   35.190000  ...   28.000000    0.046464    2.100625\n",
              "50%     21.200000    0.256510   39.690000  ...   39.000000    0.053507    3.207500\n",
              "75%     25.000000    3.677082   48.100000  ...   50.000000    0.061397    5.187500\n",
              "max     50.000000   88.976200   57.740000  ...   60.000000    0.086711   12.127500\n",
              "\n",
              "[8 rows x 13 columns]"
            ]
          },
          "metadata": {
            "tags": []
          },
          "execution_count": 33
        }
      ]
    },
    {
      "cell_type": "code",
      "metadata": {
        "id": "7PTFfMMEzNBN",
        "colab": {
          "base_uri": "https://localhost:8080/",
          "height": 195
        },
        "outputId": "6846dbc1-a97a-49ba-857b-21b6b90ca921"
      },
      "source": [
        "df.head()"
      ],
      "execution_count": null,
      "outputs": [
        {
          "output_type": "execute_result",
          "data": {
            "text/html": [
              "<div>\n",
              "<style scoped>\n",
              "    .dataframe tbody tr th:only-of-type {\n",
              "        vertical-align: middle;\n",
              "    }\n",
              "\n",
              "    .dataframe tbody tr th {\n",
              "        vertical-align: top;\n",
              "    }\n",
              "\n",
              "    .dataframe thead th {\n",
              "        text-align: right;\n",
              "    }\n",
              "</style>\n",
              "<table border=\"1\" class=\"dataframe\">\n",
              "  <thead>\n",
              "    <tr style=\"text-align: right;\">\n",
              "      <th></th>\n",
              "      <th>price</th>\n",
              "      <th>crime_rate</th>\n",
              "      <th>resid_area</th>\n",
              "      <th>air_qual</th>\n",
              "      <th>room_num</th>\n",
              "      <th>age</th>\n",
              "      <th>teachers</th>\n",
              "      <th>poor_prop</th>\n",
              "      <th>airport</th>\n",
              "      <th>n_hos_beds</th>\n",
              "      <th>n_hot_rooms</th>\n",
              "      <th>waterbody</th>\n",
              "      <th>rainfall</th>\n",
              "      <th>bus_ter</th>\n",
              "      <th>parks</th>\n",
              "      <th>avg_dist</th>\n",
              "    </tr>\n",
              "  </thead>\n",
              "  <tbody>\n",
              "    <tr>\n",
              "      <th>0</th>\n",
              "      <td>24.0</td>\n",
              "      <td>0.00632</td>\n",
              "      <td>32.31</td>\n",
              "      <td>0.538</td>\n",
              "      <td>6.575</td>\n",
              "      <td>65.2</td>\n",
              "      <td>24.7</td>\n",
              "      <td>4.98</td>\n",
              "      <td>YES</td>\n",
              "      <td>5.480</td>\n",
              "      <td>11.19200</td>\n",
              "      <td>River</td>\n",
              "      <td>23</td>\n",
              "      <td>YES</td>\n",
              "      <td>0.049347</td>\n",
              "      <td>4.0875</td>\n",
              "    </tr>\n",
              "    <tr>\n",
              "      <th>1</th>\n",
              "      <td>21.6</td>\n",
              "      <td>0.02731</td>\n",
              "      <td>37.07</td>\n",
              "      <td>0.469</td>\n",
              "      <td>6.421</td>\n",
              "      <td>78.9</td>\n",
              "      <td>22.2</td>\n",
              "      <td>9.14</td>\n",
              "      <td>NO</td>\n",
              "      <td>7.332</td>\n",
              "      <td>12.17280</td>\n",
              "      <td>Lake</td>\n",
              "      <td>42</td>\n",
              "      <td>YES</td>\n",
              "      <td>0.046146</td>\n",
              "      <td>4.9675</td>\n",
              "    </tr>\n",
              "    <tr>\n",
              "      <th>2</th>\n",
              "      <td>34.7</td>\n",
              "      <td>0.02729</td>\n",
              "      <td>37.07</td>\n",
              "      <td>0.469</td>\n",
              "      <td>7.185</td>\n",
              "      <td>61.1</td>\n",
              "      <td>22.2</td>\n",
              "      <td>4.03</td>\n",
              "      <td>NO</td>\n",
              "      <td>7.394</td>\n",
              "      <td>46.19856</td>\n",
              "      <td>None</td>\n",
              "      <td>38</td>\n",
              "      <td>YES</td>\n",
              "      <td>0.045764</td>\n",
              "      <td>4.9675</td>\n",
              "    </tr>\n",
              "    <tr>\n",
              "      <th>3</th>\n",
              "      <td>33.4</td>\n",
              "      <td>0.03237</td>\n",
              "      <td>32.18</td>\n",
              "      <td>0.458</td>\n",
              "      <td>6.998</td>\n",
              "      <td>45.8</td>\n",
              "      <td>21.3</td>\n",
              "      <td>2.94</td>\n",
              "      <td>YES</td>\n",
              "      <td>9.268</td>\n",
              "      <td>11.26720</td>\n",
              "      <td>Lake</td>\n",
              "      <td>45</td>\n",
              "      <td>YES</td>\n",
              "      <td>0.047151</td>\n",
              "      <td>6.0650</td>\n",
              "    </tr>\n",
              "    <tr>\n",
              "      <th>4</th>\n",
              "      <td>36.2</td>\n",
              "      <td>0.06905</td>\n",
              "      <td>32.18</td>\n",
              "      <td>0.458</td>\n",
              "      <td>7.147</td>\n",
              "      <td>54.2</td>\n",
              "      <td>21.3</td>\n",
              "      <td>5.33</td>\n",
              "      <td>NO</td>\n",
              "      <td>8.824</td>\n",
              "      <td>11.28960</td>\n",
              "      <td>Lake</td>\n",
              "      <td>55</td>\n",
              "      <td>YES</td>\n",
              "      <td>0.039474</td>\n",
              "      <td>6.0625</td>\n",
              "    </tr>\n",
              "  </tbody>\n",
              "</table>\n",
              "</div>"
            ],
            "text/plain": [
              "   price  crime_rate  resid_area  ...  bus_ter     parks  avg_dist\n",
              "0   24.0     0.00632       32.31  ...      YES  0.049347    4.0875\n",
              "1   21.6     0.02731       37.07  ...      YES  0.046146    4.9675\n",
              "2   34.7     0.02729       37.07  ...      YES  0.045764    4.9675\n",
              "3   33.4     0.03237       32.18  ...      YES  0.047151    6.0650\n",
              "4   36.2     0.06905       32.18  ...      YES  0.039474    6.0625\n",
              "\n",
              "[5 rows x 16 columns]"
            ]
          },
          "metadata": {
            "tags": []
          },
          "execution_count": 34
        }
      ]
    },
    {
      "cell_type": "code",
      "metadata": {
        "id": "Mg5Rym4T2LzV"
      },
      "source": [
        "del df['bus_ter']"
      ],
      "execution_count": null,
      "outputs": []
    },
    {
      "cell_type": "code",
      "metadata": {
        "colab": {
          "base_uri": "https://localhost:8080/",
          "height": 195
        },
        "id": "ylmikEp52NQz",
        "outputId": "e3d97288-2926-49cd-e141-fa57e665aeaf"
      },
      "source": [
        "df.head()"
      ],
      "execution_count": null,
      "outputs": [
        {
          "output_type": "execute_result",
          "data": {
            "text/html": [
              "<div>\n",
              "<style scoped>\n",
              "    .dataframe tbody tr th:only-of-type {\n",
              "        vertical-align: middle;\n",
              "    }\n",
              "\n",
              "    .dataframe tbody tr th {\n",
              "        vertical-align: top;\n",
              "    }\n",
              "\n",
              "    .dataframe thead th {\n",
              "        text-align: right;\n",
              "    }\n",
              "</style>\n",
              "<table border=\"1\" class=\"dataframe\">\n",
              "  <thead>\n",
              "    <tr style=\"text-align: right;\">\n",
              "      <th></th>\n",
              "      <th>price</th>\n",
              "      <th>crime_rate</th>\n",
              "      <th>resid_area</th>\n",
              "      <th>air_qual</th>\n",
              "      <th>room_num</th>\n",
              "      <th>age</th>\n",
              "      <th>teachers</th>\n",
              "      <th>poor_prop</th>\n",
              "      <th>airport</th>\n",
              "      <th>n_hos_beds</th>\n",
              "      <th>n_hot_rooms</th>\n",
              "      <th>waterbody</th>\n",
              "      <th>rainfall</th>\n",
              "      <th>parks</th>\n",
              "      <th>avg_dist</th>\n",
              "    </tr>\n",
              "  </thead>\n",
              "  <tbody>\n",
              "    <tr>\n",
              "      <th>0</th>\n",
              "      <td>24.0</td>\n",
              "      <td>0.00632</td>\n",
              "      <td>32.31</td>\n",
              "      <td>0.538</td>\n",
              "      <td>6.575</td>\n",
              "      <td>65.2</td>\n",
              "      <td>24.7</td>\n",
              "      <td>4.98</td>\n",
              "      <td>YES</td>\n",
              "      <td>5.480</td>\n",
              "      <td>11.19200</td>\n",
              "      <td>River</td>\n",
              "      <td>23</td>\n",
              "      <td>0.049347</td>\n",
              "      <td>4.0875</td>\n",
              "    </tr>\n",
              "    <tr>\n",
              "      <th>1</th>\n",
              "      <td>21.6</td>\n",
              "      <td>0.02731</td>\n",
              "      <td>37.07</td>\n",
              "      <td>0.469</td>\n",
              "      <td>6.421</td>\n",
              "      <td>78.9</td>\n",
              "      <td>22.2</td>\n",
              "      <td>9.14</td>\n",
              "      <td>NO</td>\n",
              "      <td>7.332</td>\n",
              "      <td>12.17280</td>\n",
              "      <td>Lake</td>\n",
              "      <td>42</td>\n",
              "      <td>0.046146</td>\n",
              "      <td>4.9675</td>\n",
              "    </tr>\n",
              "    <tr>\n",
              "      <th>2</th>\n",
              "      <td>34.7</td>\n",
              "      <td>0.02729</td>\n",
              "      <td>37.07</td>\n",
              "      <td>0.469</td>\n",
              "      <td>7.185</td>\n",
              "      <td>61.1</td>\n",
              "      <td>22.2</td>\n",
              "      <td>4.03</td>\n",
              "      <td>NO</td>\n",
              "      <td>7.394</td>\n",
              "      <td>46.19856</td>\n",
              "      <td>None</td>\n",
              "      <td>38</td>\n",
              "      <td>0.045764</td>\n",
              "      <td>4.9675</td>\n",
              "    </tr>\n",
              "    <tr>\n",
              "      <th>3</th>\n",
              "      <td>33.4</td>\n",
              "      <td>0.03237</td>\n",
              "      <td>32.18</td>\n",
              "      <td>0.458</td>\n",
              "      <td>6.998</td>\n",
              "      <td>45.8</td>\n",
              "      <td>21.3</td>\n",
              "      <td>2.94</td>\n",
              "      <td>YES</td>\n",
              "      <td>9.268</td>\n",
              "      <td>11.26720</td>\n",
              "      <td>Lake</td>\n",
              "      <td>45</td>\n",
              "      <td>0.047151</td>\n",
              "      <td>6.0650</td>\n",
              "    </tr>\n",
              "    <tr>\n",
              "      <th>4</th>\n",
              "      <td>36.2</td>\n",
              "      <td>0.06905</td>\n",
              "      <td>32.18</td>\n",
              "      <td>0.458</td>\n",
              "      <td>7.147</td>\n",
              "      <td>54.2</td>\n",
              "      <td>21.3</td>\n",
              "      <td>5.33</td>\n",
              "      <td>NO</td>\n",
              "      <td>8.824</td>\n",
              "      <td>11.28960</td>\n",
              "      <td>Lake</td>\n",
              "      <td>55</td>\n",
              "      <td>0.039474</td>\n",
              "      <td>6.0625</td>\n",
              "    </tr>\n",
              "  </tbody>\n",
              "</table>\n",
              "</div>"
            ],
            "text/plain": [
              "   price  crime_rate  resid_area  ...  rainfall     parks  avg_dist\n",
              "0   24.0     0.00632       32.31  ...        23  0.049347    4.0875\n",
              "1   21.6     0.02731       37.07  ...        42  0.046146    4.9675\n",
              "2   34.7     0.02729       37.07  ...        38  0.045764    4.9675\n",
              "3   33.4     0.03237       32.18  ...        45  0.047151    6.0650\n",
              "4   36.2     0.06905       32.18  ...        55  0.039474    6.0625\n",
              "\n",
              "[5 rows x 15 columns]"
            ]
          },
          "metadata": {
            "tags": []
          },
          "execution_count": 36
        }
      ]
    },
    {
      "cell_type": "code",
      "metadata": {
        "id": "nNLJEsQf2Otf"
      },
      "source": [
        "# we will generate dummy variables for nominal values i.e. non integral values\n",
        "# dummy variables = number of categories - 1\n",
        "df = pd.get_dummies(df)\n",
        "# this will create dummy variables showing true or false i.e. 0 or 1\n",
        "# and then as per rule in 2nd line, we might need to delete some variables"
      ],
      "execution_count": null,
      "outputs": []
    },
    {
      "cell_type": "code",
      "metadata": {
        "colab": {
          "base_uri": "https://localhost:8080/",
          "height": 232
        },
        "id": "izbUHQi68IWF",
        "outputId": "313453e1-9b79-4040-9060-6a489ee65366"
      },
      "source": [
        "df.head()"
      ],
      "execution_count": null,
      "outputs": [
        {
          "output_type": "execute_result",
          "data": {
            "text/html": [
              "<div>\n",
              "<style scoped>\n",
              "    .dataframe tbody tr th:only-of-type {\n",
              "        vertical-align: middle;\n",
              "    }\n",
              "\n",
              "    .dataframe tbody tr th {\n",
              "        vertical-align: top;\n",
              "    }\n",
              "\n",
              "    .dataframe thead th {\n",
              "        text-align: right;\n",
              "    }\n",
              "</style>\n",
              "<table border=\"1\" class=\"dataframe\">\n",
              "  <thead>\n",
              "    <tr style=\"text-align: right;\">\n",
              "      <th></th>\n",
              "      <th>price</th>\n",
              "      <th>crime_rate</th>\n",
              "      <th>resid_area</th>\n",
              "      <th>air_qual</th>\n",
              "      <th>room_num</th>\n",
              "      <th>age</th>\n",
              "      <th>teachers</th>\n",
              "      <th>poor_prop</th>\n",
              "      <th>n_hos_beds</th>\n",
              "      <th>n_hot_rooms</th>\n",
              "      <th>rainfall</th>\n",
              "      <th>parks</th>\n",
              "      <th>avg_dist</th>\n",
              "      <th>airport_NO</th>\n",
              "      <th>airport_YES</th>\n",
              "      <th>waterbody_Lake</th>\n",
              "      <th>waterbody_Lake and River</th>\n",
              "      <th>waterbody_None</th>\n",
              "      <th>waterbody_River</th>\n",
              "    </tr>\n",
              "  </thead>\n",
              "  <tbody>\n",
              "    <tr>\n",
              "      <th>0</th>\n",
              "      <td>24.0</td>\n",
              "      <td>0.00632</td>\n",
              "      <td>32.31</td>\n",
              "      <td>0.538</td>\n",
              "      <td>6.575</td>\n",
              "      <td>65.2</td>\n",
              "      <td>24.7</td>\n",
              "      <td>4.98</td>\n",
              "      <td>5.480</td>\n",
              "      <td>11.19200</td>\n",
              "      <td>23</td>\n",
              "      <td>0.049347</td>\n",
              "      <td>4.0875</td>\n",
              "      <td>0</td>\n",
              "      <td>1</td>\n",
              "      <td>0</td>\n",
              "      <td>0</td>\n",
              "      <td>0</td>\n",
              "      <td>1</td>\n",
              "    </tr>\n",
              "    <tr>\n",
              "      <th>1</th>\n",
              "      <td>21.6</td>\n",
              "      <td>0.02731</td>\n",
              "      <td>37.07</td>\n",
              "      <td>0.469</td>\n",
              "      <td>6.421</td>\n",
              "      <td>78.9</td>\n",
              "      <td>22.2</td>\n",
              "      <td>9.14</td>\n",
              "      <td>7.332</td>\n",
              "      <td>12.17280</td>\n",
              "      <td>42</td>\n",
              "      <td>0.046146</td>\n",
              "      <td>4.9675</td>\n",
              "      <td>1</td>\n",
              "      <td>0</td>\n",
              "      <td>1</td>\n",
              "      <td>0</td>\n",
              "      <td>0</td>\n",
              "      <td>0</td>\n",
              "    </tr>\n",
              "    <tr>\n",
              "      <th>2</th>\n",
              "      <td>34.7</td>\n",
              "      <td>0.02729</td>\n",
              "      <td>37.07</td>\n",
              "      <td>0.469</td>\n",
              "      <td>7.185</td>\n",
              "      <td>61.1</td>\n",
              "      <td>22.2</td>\n",
              "      <td>4.03</td>\n",
              "      <td>7.394</td>\n",
              "      <td>46.19856</td>\n",
              "      <td>38</td>\n",
              "      <td>0.045764</td>\n",
              "      <td>4.9675</td>\n",
              "      <td>1</td>\n",
              "      <td>0</td>\n",
              "      <td>0</td>\n",
              "      <td>0</td>\n",
              "      <td>1</td>\n",
              "      <td>0</td>\n",
              "    </tr>\n",
              "    <tr>\n",
              "      <th>3</th>\n",
              "      <td>33.4</td>\n",
              "      <td>0.03237</td>\n",
              "      <td>32.18</td>\n",
              "      <td>0.458</td>\n",
              "      <td>6.998</td>\n",
              "      <td>45.8</td>\n",
              "      <td>21.3</td>\n",
              "      <td>2.94</td>\n",
              "      <td>9.268</td>\n",
              "      <td>11.26720</td>\n",
              "      <td>45</td>\n",
              "      <td>0.047151</td>\n",
              "      <td>6.0650</td>\n",
              "      <td>0</td>\n",
              "      <td>1</td>\n",
              "      <td>1</td>\n",
              "      <td>0</td>\n",
              "      <td>0</td>\n",
              "      <td>0</td>\n",
              "    </tr>\n",
              "    <tr>\n",
              "      <th>4</th>\n",
              "      <td>36.2</td>\n",
              "      <td>0.06905</td>\n",
              "      <td>32.18</td>\n",
              "      <td>0.458</td>\n",
              "      <td>7.147</td>\n",
              "      <td>54.2</td>\n",
              "      <td>21.3</td>\n",
              "      <td>5.33</td>\n",
              "      <td>8.824</td>\n",
              "      <td>11.28960</td>\n",
              "      <td>55</td>\n",
              "      <td>0.039474</td>\n",
              "      <td>6.0625</td>\n",
              "      <td>1</td>\n",
              "      <td>0</td>\n",
              "      <td>1</td>\n",
              "      <td>0</td>\n",
              "      <td>0</td>\n",
              "      <td>0</td>\n",
              "    </tr>\n",
              "  </tbody>\n",
              "</table>\n",
              "</div>"
            ],
            "text/plain": [
              "   price  crime_rate  ...  waterbody_None  waterbody_River\n",
              "0   24.0     0.00632  ...               0                1\n",
              "1   21.6     0.02731  ...               0                0\n",
              "2   34.7     0.02729  ...               1                0\n",
              "3   33.4     0.03237  ...               0                0\n",
              "4   36.2     0.06905  ...               0                0\n",
              "\n",
              "[5 rows x 19 columns]"
            ]
          },
          "metadata": {
            "tags": []
          },
          "execution_count": 38
        }
      ]
    },
    {
      "cell_type": "code",
      "metadata": {
        "id": "v8s7pmFI8ezp"
      },
      "source": [
        "# airport_NO and airport_YES are totally opposite of each other\n",
        "# Means, if YES than other has to be NO\n",
        "del df['airport_NO']"
      ],
      "execution_count": null,
      "outputs": []
    },
    {
      "cell_type": "code",
      "metadata": {
        "id": "3AVFEPS48zHW"
      },
      "source": [
        "# same with waterbody\n",
        "# with similar logic we can remove waterbody_None variable\n",
        "del df['waterbody_None']"
      ],
      "execution_count": null,
      "outputs": []
    },
    {
      "cell_type": "code",
      "metadata": {
        "colab": {
          "base_uri": "https://localhost:8080/",
          "height": 232
        },
        "id": "sAXG942t9BjX",
        "outputId": "1fe4a1e8-bd65-414c-ef4c-160ab9aaea9f"
      },
      "source": [
        "df.head()"
      ],
      "execution_count": null,
      "outputs": [
        {
          "output_type": "execute_result",
          "data": {
            "text/html": [
              "<div>\n",
              "<style scoped>\n",
              "    .dataframe tbody tr th:only-of-type {\n",
              "        vertical-align: middle;\n",
              "    }\n",
              "\n",
              "    .dataframe tbody tr th {\n",
              "        vertical-align: top;\n",
              "    }\n",
              "\n",
              "    .dataframe thead th {\n",
              "        text-align: right;\n",
              "    }\n",
              "</style>\n",
              "<table border=\"1\" class=\"dataframe\">\n",
              "  <thead>\n",
              "    <tr style=\"text-align: right;\">\n",
              "      <th></th>\n",
              "      <th>price</th>\n",
              "      <th>crime_rate</th>\n",
              "      <th>resid_area</th>\n",
              "      <th>air_qual</th>\n",
              "      <th>room_num</th>\n",
              "      <th>age</th>\n",
              "      <th>teachers</th>\n",
              "      <th>poor_prop</th>\n",
              "      <th>n_hos_beds</th>\n",
              "      <th>n_hot_rooms</th>\n",
              "      <th>rainfall</th>\n",
              "      <th>parks</th>\n",
              "      <th>avg_dist</th>\n",
              "      <th>airport_YES</th>\n",
              "      <th>waterbody_Lake</th>\n",
              "      <th>waterbody_Lake and River</th>\n",
              "      <th>waterbody_River</th>\n",
              "    </tr>\n",
              "  </thead>\n",
              "  <tbody>\n",
              "    <tr>\n",
              "      <th>0</th>\n",
              "      <td>24.0</td>\n",
              "      <td>0.00632</td>\n",
              "      <td>32.31</td>\n",
              "      <td>0.538</td>\n",
              "      <td>6.575</td>\n",
              "      <td>65.2</td>\n",
              "      <td>24.7</td>\n",
              "      <td>4.98</td>\n",
              "      <td>5.480</td>\n",
              "      <td>11.19200</td>\n",
              "      <td>23</td>\n",
              "      <td>0.049347</td>\n",
              "      <td>4.0875</td>\n",
              "      <td>1</td>\n",
              "      <td>0</td>\n",
              "      <td>0</td>\n",
              "      <td>1</td>\n",
              "    </tr>\n",
              "    <tr>\n",
              "      <th>1</th>\n",
              "      <td>21.6</td>\n",
              "      <td>0.02731</td>\n",
              "      <td>37.07</td>\n",
              "      <td>0.469</td>\n",
              "      <td>6.421</td>\n",
              "      <td>78.9</td>\n",
              "      <td>22.2</td>\n",
              "      <td>9.14</td>\n",
              "      <td>7.332</td>\n",
              "      <td>12.17280</td>\n",
              "      <td>42</td>\n",
              "      <td>0.046146</td>\n",
              "      <td>4.9675</td>\n",
              "      <td>0</td>\n",
              "      <td>1</td>\n",
              "      <td>0</td>\n",
              "      <td>0</td>\n",
              "    </tr>\n",
              "    <tr>\n",
              "      <th>2</th>\n",
              "      <td>34.7</td>\n",
              "      <td>0.02729</td>\n",
              "      <td>37.07</td>\n",
              "      <td>0.469</td>\n",
              "      <td>7.185</td>\n",
              "      <td>61.1</td>\n",
              "      <td>22.2</td>\n",
              "      <td>4.03</td>\n",
              "      <td>7.394</td>\n",
              "      <td>46.19856</td>\n",
              "      <td>38</td>\n",
              "      <td>0.045764</td>\n",
              "      <td>4.9675</td>\n",
              "      <td>0</td>\n",
              "      <td>0</td>\n",
              "      <td>0</td>\n",
              "      <td>0</td>\n",
              "    </tr>\n",
              "    <tr>\n",
              "      <th>3</th>\n",
              "      <td>33.4</td>\n",
              "      <td>0.03237</td>\n",
              "      <td>32.18</td>\n",
              "      <td>0.458</td>\n",
              "      <td>6.998</td>\n",
              "      <td>45.8</td>\n",
              "      <td>21.3</td>\n",
              "      <td>2.94</td>\n",
              "      <td>9.268</td>\n",
              "      <td>11.26720</td>\n",
              "      <td>45</td>\n",
              "      <td>0.047151</td>\n",
              "      <td>6.0650</td>\n",
              "      <td>1</td>\n",
              "      <td>1</td>\n",
              "      <td>0</td>\n",
              "      <td>0</td>\n",
              "    </tr>\n",
              "    <tr>\n",
              "      <th>4</th>\n",
              "      <td>36.2</td>\n",
              "      <td>0.06905</td>\n",
              "      <td>32.18</td>\n",
              "      <td>0.458</td>\n",
              "      <td>7.147</td>\n",
              "      <td>54.2</td>\n",
              "      <td>21.3</td>\n",
              "      <td>5.33</td>\n",
              "      <td>8.824</td>\n",
              "      <td>11.28960</td>\n",
              "      <td>55</td>\n",
              "      <td>0.039474</td>\n",
              "      <td>6.0625</td>\n",
              "      <td>0</td>\n",
              "      <td>1</td>\n",
              "      <td>0</td>\n",
              "      <td>0</td>\n",
              "    </tr>\n",
              "  </tbody>\n",
              "</table>\n",
              "</div>"
            ],
            "text/plain": [
              "   price  crime_rate  ...  waterbody_Lake and River  waterbody_River\n",
              "0   24.0     0.00632  ...                         0                1\n",
              "1   21.6     0.02731  ...                         0                0\n",
              "2   34.7     0.02729  ...                         0                0\n",
              "3   33.4     0.03237  ...                         0                0\n",
              "4   36.2     0.06905  ...                         0                0\n",
              "\n",
              "[5 rows x 17 columns]"
            ]
          },
          "metadata": {
            "tags": []
          },
          "execution_count": 41
        }
      ]
    },
    {
      "cell_type": "markdown",
      "metadata": {
        "id": "g7GRrK_A_oUD"
      },
      "source": [
        "Values near 1 or -1 has most co-relation and are very important\n",
        "whereas, values near 0 have least co-relation and thus are least important"
      ]
    },
    {
      "cell_type": "code",
      "metadata": {
        "colab": {
          "base_uri": "https://localhost:8080/",
          "height": 604
        },
        "id": "SkiQ4ofCBr2v",
        "outputId": "51fa3cac-67d8-4684-df4b-d26c98f112c6"
      },
      "source": [
        "df.corr()"
      ],
      "execution_count": null,
      "outputs": [
        {
          "output_type": "execute_result",
          "data": {
            "text/html": [
              "<div>\n",
              "<style scoped>\n",
              "    .dataframe tbody tr th:only-of-type {\n",
              "        vertical-align: middle;\n",
              "    }\n",
              "\n",
              "    .dataframe tbody tr th {\n",
              "        vertical-align: top;\n",
              "    }\n",
              "\n",
              "    .dataframe thead th {\n",
              "        text-align: right;\n",
              "    }\n",
              "</style>\n",
              "<table border=\"1\" class=\"dataframe\">\n",
              "  <thead>\n",
              "    <tr style=\"text-align: right;\">\n",
              "      <th></th>\n",
              "      <th>price</th>\n",
              "      <th>crime_rate</th>\n",
              "      <th>resid_area</th>\n",
              "      <th>air_qual</th>\n",
              "      <th>room_num</th>\n",
              "      <th>age</th>\n",
              "      <th>teachers</th>\n",
              "      <th>poor_prop</th>\n",
              "      <th>n_hos_beds</th>\n",
              "      <th>n_hot_rooms</th>\n",
              "      <th>rainfall</th>\n",
              "      <th>parks</th>\n",
              "      <th>avg_dist</th>\n",
              "      <th>airport_YES</th>\n",
              "      <th>waterbody_Lake</th>\n",
              "      <th>waterbody_Lake and River</th>\n",
              "      <th>waterbody_River</th>\n",
              "    </tr>\n",
              "  </thead>\n",
              "  <tbody>\n",
              "    <tr>\n",
              "      <th>price</th>\n",
              "      <td>1.000000</td>\n",
              "      <td>-0.389582</td>\n",
              "      <td>-0.484754</td>\n",
              "      <td>-0.429300</td>\n",
              "      <td>0.696304</td>\n",
              "      <td>-0.377999</td>\n",
              "      <td>0.505655</td>\n",
              "      <td>-0.740836</td>\n",
              "      <td>0.108513</td>\n",
              "      <td>0.017007</td>\n",
              "      <td>-0.047200</td>\n",
              "      <td>-0.391574</td>\n",
              "      <td>0.249289</td>\n",
              "      <td>0.182867</td>\n",
              "      <td>0.036233</td>\n",
              "      <td>-0.037497</td>\n",
              "      <td>0.071751</td>\n",
              "    </tr>\n",
              "    <tr>\n",
              "      <th>crime_rate</th>\n",
              "      <td>-0.389582</td>\n",
              "      <td>1.000000</td>\n",
              "      <td>0.406583</td>\n",
              "      <td>0.420972</td>\n",
              "      <td>-0.219247</td>\n",
              "      <td>0.352734</td>\n",
              "      <td>-0.289946</td>\n",
              "      <td>0.455621</td>\n",
              "      <td>0.017561</td>\n",
              "      <td>0.032927</td>\n",
              "      <td>0.059090</td>\n",
              "      <td>0.383235</td>\n",
              "      <td>-0.379673</td>\n",
              "      <td>-0.086805</td>\n",
              "      <td>-0.016894</td>\n",
              "      <td>-0.018150</td>\n",
              "      <td>-0.037123</td>\n",
              "    </tr>\n",
              "    <tr>\n",
              "      <th>resid_area</th>\n",
              "      <td>-0.484754</td>\n",
              "      <td>0.406583</td>\n",
              "      <td>1.000000</td>\n",
              "      <td>0.763651</td>\n",
              "      <td>-0.391676</td>\n",
              "      <td>0.644779</td>\n",
              "      <td>-0.383248</td>\n",
              "      <td>0.603800</td>\n",
              "      <td>0.005898</td>\n",
              "      <td>-0.003761</td>\n",
              "      <td>0.055845</td>\n",
              "      <td>0.707635</td>\n",
              "      <td>-0.708022</td>\n",
              "      <td>-0.115401</td>\n",
              "      <td>-0.026590</td>\n",
              "      <td>0.051649</td>\n",
              "      <td>-0.098976</td>\n",
              "    </tr>\n",
              "    <tr>\n",
              "      <th>air_qual</th>\n",
              "      <td>-0.429300</td>\n",
              "      <td>0.420972</td>\n",
              "      <td>0.763651</td>\n",
              "      <td>1.000000</td>\n",
              "      <td>-0.302188</td>\n",
              "      <td>0.731470</td>\n",
              "      <td>-0.188933</td>\n",
              "      <td>0.590879</td>\n",
              "      <td>-0.049075</td>\n",
              "      <td>0.007238</td>\n",
              "      <td>0.091956</td>\n",
              "      <td>0.915544</td>\n",
              "      <td>-0.769247</td>\n",
              "      <td>-0.073903</td>\n",
              "      <td>-0.046393</td>\n",
              "      <td>0.013849</td>\n",
              "      <td>-0.037772</td>\n",
              "    </tr>\n",
              "    <tr>\n",
              "      <th>room_num</th>\n",
              "      <td>0.696304</td>\n",
              "      <td>-0.219247</td>\n",
              "      <td>-0.391676</td>\n",
              "      <td>-0.302188</td>\n",
              "      <td>1.000000</td>\n",
              "      <td>-0.240265</td>\n",
              "      <td>0.355501</td>\n",
              "      <td>-0.613808</td>\n",
              "      <td>0.031744</td>\n",
              "      <td>0.014583</td>\n",
              "      <td>-0.064718</td>\n",
              "      <td>-0.282817</td>\n",
              "      <td>0.205241</td>\n",
              "      <td>0.163774</td>\n",
              "      <td>-0.004195</td>\n",
              "      <td>0.010554</td>\n",
              "      <td>0.046251</td>\n",
              "    </tr>\n",
              "    <tr>\n",
              "      <th>age</th>\n",
              "      <td>-0.377999</td>\n",
              "      <td>0.352734</td>\n",
              "      <td>0.644779</td>\n",
              "      <td>0.731470</td>\n",
              "      <td>-0.240265</td>\n",
              "      <td>1.000000</td>\n",
              "      <td>-0.261515</td>\n",
              "      <td>0.602339</td>\n",
              "      <td>-0.020748</td>\n",
              "      <td>0.013918</td>\n",
              "      <td>0.074684</td>\n",
              "      <td>0.673850</td>\n",
              "      <td>-0.747906</td>\n",
              "      <td>0.005101</td>\n",
              "      <td>0.003452</td>\n",
              "      <td>-0.004354</td>\n",
              "      <td>-0.088609</td>\n",
              "    </tr>\n",
              "    <tr>\n",
              "      <th>teachers</th>\n",
              "      <td>0.505655</td>\n",
              "      <td>-0.289946</td>\n",
              "      <td>-0.383248</td>\n",
              "      <td>-0.188933</td>\n",
              "      <td>0.355501</td>\n",
              "      <td>-0.261515</td>\n",
              "      <td>1.000000</td>\n",
              "      <td>-0.374044</td>\n",
              "      <td>-0.007954</td>\n",
              "      <td>-0.037007</td>\n",
              "      <td>-0.045928</td>\n",
              "      <td>-0.187004</td>\n",
              "      <td>0.232452</td>\n",
              "      <td>0.069437</td>\n",
              "      <td>0.048717</td>\n",
              "      <td>-0.046981</td>\n",
              "      <td>0.094256</td>\n",
              "    </tr>\n",
              "    <tr>\n",
              "      <th>poor_prop</th>\n",
              "      <td>-0.740836</td>\n",
              "      <td>0.455621</td>\n",
              "      <td>0.603800</td>\n",
              "      <td>0.590879</td>\n",
              "      <td>-0.613808</td>\n",
              "      <td>0.602339</td>\n",
              "      <td>-0.374044</td>\n",
              "      <td>1.000000</td>\n",
              "      <td>-0.065501</td>\n",
              "      <td>0.017036</td>\n",
              "      <td>0.061444</td>\n",
              "      <td>0.552310</td>\n",
              "      <td>-0.496967</td>\n",
              "      <td>-0.095054</td>\n",
              "      <td>0.003197</td>\n",
              "      <td>0.020620</td>\n",
              "      <td>-0.109004</td>\n",
              "    </tr>\n",
              "    <tr>\n",
              "      <th>n_hos_beds</th>\n",
              "      <td>0.108513</td>\n",
              "      <td>0.017561</td>\n",
              "      <td>0.005898</td>\n",
              "      <td>-0.049075</td>\n",
              "      <td>0.031744</td>\n",
              "      <td>-0.020748</td>\n",
              "      <td>-0.007954</td>\n",
              "      <td>-0.065501</td>\n",
              "      <td>1.000000</td>\n",
              "      <td>-0.003213</td>\n",
              "      <td>0.057934</td>\n",
              "      <td>-0.070690</td>\n",
              "      <td>-0.028271</td>\n",
              "      <td>-0.005937</td>\n",
              "      <td>0.042775</td>\n",
              "      <td>0.059047</td>\n",
              "      <td>-0.073558</td>\n",
              "    </tr>\n",
              "    <tr>\n",
              "      <th>n_hot_rooms</th>\n",
              "      <td>0.017007</td>\n",
              "      <td>0.032927</td>\n",
              "      <td>-0.003761</td>\n",
              "      <td>0.007238</td>\n",
              "      <td>0.014583</td>\n",
              "      <td>0.013918</td>\n",
              "      <td>-0.037007</td>\n",
              "      <td>0.017036</td>\n",
              "      <td>-0.003213</td>\n",
              "      <td>1.000000</td>\n",
              "      <td>0.014869</td>\n",
              "      <td>0.023757</td>\n",
              "      <td>-0.020700</td>\n",
              "      <td>-0.055338</td>\n",
              "      <td>0.037925</td>\n",
              "      <td>0.014755</td>\n",
              "      <td>-0.064096</td>\n",
              "    </tr>\n",
              "    <tr>\n",
              "      <th>rainfall</th>\n",
              "      <td>-0.047200</td>\n",
              "      <td>0.059090</td>\n",
              "      <td>0.055845</td>\n",
              "      <td>0.091956</td>\n",
              "      <td>-0.064718</td>\n",
              "      <td>0.074684</td>\n",
              "      <td>-0.045928</td>\n",
              "      <td>0.061444</td>\n",
              "      <td>0.057934</td>\n",
              "      <td>0.014869</td>\n",
              "      <td>1.000000</td>\n",
              "      <td>0.078278</td>\n",
              "      <td>-0.037285</td>\n",
              "      <td>-0.013171</td>\n",
              "      <td>-0.016170</td>\n",
              "      <td>0.109234</td>\n",
              "      <td>-0.037016</td>\n",
              "    </tr>\n",
              "    <tr>\n",
              "      <th>parks</th>\n",
              "      <td>-0.391574</td>\n",
              "      <td>0.383235</td>\n",
              "      <td>0.707635</td>\n",
              "      <td>0.915544</td>\n",
              "      <td>-0.282817</td>\n",
              "      <td>0.673850</td>\n",
              "      <td>-0.187004</td>\n",
              "      <td>0.552310</td>\n",
              "      <td>-0.070690</td>\n",
              "      <td>0.023757</td>\n",
              "      <td>0.078278</td>\n",
              "      <td>1.000000</td>\n",
              "      <td>-0.707924</td>\n",
              "      <td>-0.052503</td>\n",
              "      <td>-0.034991</td>\n",
              "      <td>0.013265</td>\n",
              "      <td>-0.048862</td>\n",
              "    </tr>\n",
              "    <tr>\n",
              "      <th>avg_dist</th>\n",
              "      <td>0.249289</td>\n",
              "      <td>-0.379673</td>\n",
              "      <td>-0.708022</td>\n",
              "      <td>-0.769247</td>\n",
              "      <td>0.205241</td>\n",
              "      <td>-0.747906</td>\n",
              "      <td>0.232452</td>\n",
              "      <td>-0.496967</td>\n",
              "      <td>-0.028271</td>\n",
              "      <td>-0.020700</td>\n",
              "      <td>-0.037285</td>\n",
              "      <td>-0.707924</td>\n",
              "      <td>1.000000</td>\n",
              "      <td>0.021402</td>\n",
              "      <td>0.034890</td>\n",
              "      <td>-0.021320</td>\n",
              "      <td>0.032247</td>\n",
              "    </tr>\n",
              "    <tr>\n",
              "      <th>airport_YES</th>\n",
              "      <td>0.182867</td>\n",
              "      <td>-0.086805</td>\n",
              "      <td>-0.115401</td>\n",
              "      <td>-0.073903</td>\n",
              "      <td>0.163774</td>\n",
              "      <td>0.005101</td>\n",
              "      <td>0.069437</td>\n",
              "      <td>-0.095054</td>\n",
              "      <td>-0.005937</td>\n",
              "      <td>-0.055338</td>\n",
              "      <td>-0.013171</td>\n",
              "      <td>-0.052503</td>\n",
              "      <td>0.021402</td>\n",
              "      <td>1.000000</td>\n",
              "      <td>0.035491</td>\n",
              "      <td>-0.070341</td>\n",
              "      <td>0.017341</td>\n",
              "    </tr>\n",
              "    <tr>\n",
              "      <th>waterbody_Lake</th>\n",
              "      <td>0.036233</td>\n",
              "      <td>-0.016894</td>\n",
              "      <td>-0.026590</td>\n",
              "      <td>-0.046393</td>\n",
              "      <td>-0.004195</td>\n",
              "      <td>0.003452</td>\n",
              "      <td>0.048717</td>\n",
              "      <td>0.003197</td>\n",
              "      <td>0.042775</td>\n",
              "      <td>0.037925</td>\n",
              "      <td>-0.016170</td>\n",
              "      <td>-0.034991</td>\n",
              "      <td>0.034890</td>\n",
              "      <td>0.035491</td>\n",
              "      <td>1.000000</td>\n",
              "      <td>-0.196747</td>\n",
              "      <td>-0.366563</td>\n",
              "    </tr>\n",
              "    <tr>\n",
              "      <th>waterbody_Lake and River</th>\n",
              "      <td>-0.037497</td>\n",
              "      <td>-0.018150</td>\n",
              "      <td>0.051649</td>\n",
              "      <td>0.013849</td>\n",
              "      <td>0.010554</td>\n",
              "      <td>-0.004354</td>\n",
              "      <td>-0.046981</td>\n",
              "      <td>0.020620</td>\n",
              "      <td>0.059047</td>\n",
              "      <td>0.014755</td>\n",
              "      <td>0.109234</td>\n",
              "      <td>0.013265</td>\n",
              "      <td>-0.021320</td>\n",
              "      <td>-0.070341</td>\n",
              "      <td>-0.196747</td>\n",
              "      <td>1.000000</td>\n",
              "      <td>-0.304095</td>\n",
              "    </tr>\n",
              "    <tr>\n",
              "      <th>waterbody_River</th>\n",
              "      <td>0.071751</td>\n",
              "      <td>-0.037123</td>\n",
              "      <td>-0.098976</td>\n",
              "      <td>-0.037772</td>\n",
              "      <td>0.046251</td>\n",
              "      <td>-0.088609</td>\n",
              "      <td>0.094256</td>\n",
              "      <td>-0.109004</td>\n",
              "      <td>-0.073558</td>\n",
              "      <td>-0.064096</td>\n",
              "      <td>-0.037016</td>\n",
              "      <td>-0.048862</td>\n",
              "      <td>0.032247</td>\n",
              "      <td>0.017341</td>\n",
              "      <td>-0.366563</td>\n",
              "      <td>-0.304095</td>\n",
              "      <td>1.000000</td>\n",
              "    </tr>\n",
              "  </tbody>\n",
              "</table>\n",
              "</div>"
            ],
            "text/plain": [
              "                             price  ...  waterbody_River\n",
              "price                     1.000000  ...         0.071751\n",
              "crime_rate               -0.389582  ...        -0.037123\n",
              "resid_area               -0.484754  ...        -0.098976\n",
              "air_qual                 -0.429300  ...        -0.037772\n",
              "room_num                  0.696304  ...         0.046251\n",
              "age                      -0.377999  ...        -0.088609\n",
              "teachers                  0.505655  ...         0.094256\n",
              "poor_prop                -0.740836  ...        -0.109004\n",
              "n_hos_beds                0.108513  ...        -0.073558\n",
              "n_hot_rooms               0.017007  ...        -0.064096\n",
              "rainfall                 -0.047200  ...        -0.037016\n",
              "parks                    -0.391574  ...        -0.048862\n",
              "avg_dist                  0.249289  ...         0.032247\n",
              "airport_YES               0.182867  ...         0.017341\n",
              "waterbody_Lake            0.036233  ...        -0.366563\n",
              "waterbody_Lake and River -0.037497  ...        -0.304095\n",
              "waterbody_River           0.071751  ...         1.000000\n",
              "\n",
              "[17 rows x 17 columns]"
            ]
          },
          "metadata": {
            "tags": []
          },
          "execution_count": 42
        }
      ]
    },
    {
      "cell_type": "markdown",
      "metadata": {
        "id": "UJCamxZYBYVy"
      },
      "source": [
        "To remove co-related value\n",
        "1. find highest value from table - in this case its : 0.915544 for parks & air_qual\n",
        "2. then check its co-relation with our **dependent variable - in this case its : price**\n",
        "3. then decide among those 2 who hase less importance : -0.429300 > -0.391574 i.e. air_qual > parks\n",
        "4. and then delete it : parks"
      ]
    },
    {
      "cell_type": "code",
      "metadata": {
        "id": "6UZMHYmH9G8I"
      },
      "source": [
        "del df['parks']"
      ],
      "execution_count": null,
      "outputs": []
    },
    {
      "cell_type": "code",
      "metadata": {
        "id": "VYVZxiD2D0XS",
        "colab": {
          "base_uri": "https://localhost:8080/",
          "height": 232
        },
        "outputId": "70101f39-6ea2-464a-c7d4-2ae6c94418b6"
      },
      "source": [
        "df.head()"
      ],
      "execution_count": null,
      "outputs": [
        {
          "output_type": "execute_result",
          "data": {
            "text/html": [
              "<div>\n",
              "<style scoped>\n",
              "    .dataframe tbody tr th:only-of-type {\n",
              "        vertical-align: middle;\n",
              "    }\n",
              "\n",
              "    .dataframe tbody tr th {\n",
              "        vertical-align: top;\n",
              "    }\n",
              "\n",
              "    .dataframe thead th {\n",
              "        text-align: right;\n",
              "    }\n",
              "</style>\n",
              "<table border=\"1\" class=\"dataframe\">\n",
              "  <thead>\n",
              "    <tr style=\"text-align: right;\">\n",
              "      <th></th>\n",
              "      <th>price</th>\n",
              "      <th>crime_rate</th>\n",
              "      <th>resid_area</th>\n",
              "      <th>air_qual</th>\n",
              "      <th>room_num</th>\n",
              "      <th>age</th>\n",
              "      <th>teachers</th>\n",
              "      <th>poor_prop</th>\n",
              "      <th>n_hos_beds</th>\n",
              "      <th>n_hot_rooms</th>\n",
              "      <th>rainfall</th>\n",
              "      <th>avg_dist</th>\n",
              "      <th>airport_YES</th>\n",
              "      <th>waterbody_Lake</th>\n",
              "      <th>waterbody_Lake and River</th>\n",
              "      <th>waterbody_River</th>\n",
              "    </tr>\n",
              "  </thead>\n",
              "  <tbody>\n",
              "    <tr>\n",
              "      <th>0</th>\n",
              "      <td>24.0</td>\n",
              "      <td>0.00632</td>\n",
              "      <td>32.31</td>\n",
              "      <td>0.538</td>\n",
              "      <td>6.575</td>\n",
              "      <td>65.2</td>\n",
              "      <td>24.7</td>\n",
              "      <td>4.98</td>\n",
              "      <td>5.480</td>\n",
              "      <td>11.19200</td>\n",
              "      <td>23</td>\n",
              "      <td>4.0875</td>\n",
              "      <td>1</td>\n",
              "      <td>0</td>\n",
              "      <td>0</td>\n",
              "      <td>1</td>\n",
              "    </tr>\n",
              "    <tr>\n",
              "      <th>1</th>\n",
              "      <td>21.6</td>\n",
              "      <td>0.02731</td>\n",
              "      <td>37.07</td>\n",
              "      <td>0.469</td>\n",
              "      <td>6.421</td>\n",
              "      <td>78.9</td>\n",
              "      <td>22.2</td>\n",
              "      <td>9.14</td>\n",
              "      <td>7.332</td>\n",
              "      <td>12.17280</td>\n",
              "      <td>42</td>\n",
              "      <td>4.9675</td>\n",
              "      <td>0</td>\n",
              "      <td>1</td>\n",
              "      <td>0</td>\n",
              "      <td>0</td>\n",
              "    </tr>\n",
              "    <tr>\n",
              "      <th>2</th>\n",
              "      <td>34.7</td>\n",
              "      <td>0.02729</td>\n",
              "      <td>37.07</td>\n",
              "      <td>0.469</td>\n",
              "      <td>7.185</td>\n",
              "      <td>61.1</td>\n",
              "      <td>22.2</td>\n",
              "      <td>4.03</td>\n",
              "      <td>7.394</td>\n",
              "      <td>46.19856</td>\n",
              "      <td>38</td>\n",
              "      <td>4.9675</td>\n",
              "      <td>0</td>\n",
              "      <td>0</td>\n",
              "      <td>0</td>\n",
              "      <td>0</td>\n",
              "    </tr>\n",
              "    <tr>\n",
              "      <th>3</th>\n",
              "      <td>33.4</td>\n",
              "      <td>0.03237</td>\n",
              "      <td>32.18</td>\n",
              "      <td>0.458</td>\n",
              "      <td>6.998</td>\n",
              "      <td>45.8</td>\n",
              "      <td>21.3</td>\n",
              "      <td>2.94</td>\n",
              "      <td>9.268</td>\n",
              "      <td>11.26720</td>\n",
              "      <td>45</td>\n",
              "      <td>6.0650</td>\n",
              "      <td>1</td>\n",
              "      <td>1</td>\n",
              "      <td>0</td>\n",
              "      <td>0</td>\n",
              "    </tr>\n",
              "    <tr>\n",
              "      <th>4</th>\n",
              "      <td>36.2</td>\n",
              "      <td>0.06905</td>\n",
              "      <td>32.18</td>\n",
              "      <td>0.458</td>\n",
              "      <td>7.147</td>\n",
              "      <td>54.2</td>\n",
              "      <td>21.3</td>\n",
              "      <td>5.33</td>\n",
              "      <td>8.824</td>\n",
              "      <td>11.28960</td>\n",
              "      <td>55</td>\n",
              "      <td>6.0625</td>\n",
              "      <td>0</td>\n",
              "      <td>1</td>\n",
              "      <td>0</td>\n",
              "      <td>0</td>\n",
              "    </tr>\n",
              "  </tbody>\n",
              "</table>\n",
              "</div>"
            ],
            "text/plain": [
              "   price  crime_rate  ...  waterbody_Lake and River  waterbody_River\n",
              "0   24.0     0.00632  ...                         0                1\n",
              "1   21.6     0.02731  ...                         0                0\n",
              "2   34.7     0.02729  ...                         0                0\n",
              "3   33.4     0.03237  ...                         0                0\n",
              "4   36.2     0.06905  ...                         0                0\n",
              "\n",
              "[5 rows x 16 columns]"
            ]
          },
          "metadata": {
            "tags": []
          },
          "execution_count": 44
        }
      ]
    },
    {
      "cell_type": "code",
      "metadata": {
        "id": "kpHppePUD2E4",
        "colab": {
          "base_uri": "https://localhost:8080/"
        },
        "outputId": "7f759b50-32bd-4ec8-fc01-2d9436f5e57c"
      },
      "source": [
        "import statsmodels.api as sma"
      ],
      "execution_count": null,
      "outputs": [
        {
          "output_type": "stream",
          "text": [
            "/usr/local/lib/python3.7/dist-packages/statsmodels/tools/_testing.py:19: FutureWarning: pandas.util.testing is deprecated. Use the functions in the public API at pandas.testing instead.\n",
            "  import pandas.util.testing as tm\n"
          ],
          "name": "stderr"
        }
      ]
    },
    {
      "cell_type": "code",
      "metadata": {
        "colab": {
          "base_uri": "https://localhost:8080/",
          "height": 426
        },
        "id": "QSAZ114BHg_m",
        "outputId": "c0f0633b-88a0-4b8c-c391-35ebb47560ff"
      },
      "source": [
        "model = sma.OLS(df['price'], sma.add_constant(df['room_num'])).fit()\n",
        "model.summary()"
      ],
      "execution_count": null,
      "outputs": [
        {
          "output_type": "execute_result",
          "data": {
            "text/html": [
              "<table class=\"simpletable\">\n",
              "<caption>OLS Regression Results</caption>\n",
              "<tr>\n",
              "  <th>Dep. Variable:</th>          <td>price</td>      <th>  R-squared:         </th> <td>   0.485</td>\n",
              "</tr>\n",
              "<tr>\n",
              "  <th>Model:</th>                   <td>OLS</td>       <th>  Adj. R-squared:    </th> <td>   0.484</td>\n",
              "</tr>\n",
              "<tr>\n",
              "  <th>Method:</th>             <td>Least Squares</td>  <th>  F-statistic:       </th> <td>   474.3</td>\n",
              "</tr>\n",
              "<tr>\n",
              "  <th>Date:</th>             <td>Tue, 15 Jun 2021</td> <th>  Prob (F-statistic):</th> <td>1.31e-74</td>\n",
              "</tr>\n",
              "<tr>\n",
              "  <th>Time:</th>                 <td>14:00:04</td>     <th>  Log-Likelihood:    </th> <td> -1671.6</td>\n",
              "</tr>\n",
              "<tr>\n",
              "  <th>No. Observations:</th>      <td>   506</td>      <th>  AIC:               </th> <td>   3347.</td>\n",
              "</tr>\n",
              "<tr>\n",
              "  <th>Df Residuals:</th>          <td>   504</td>      <th>  BIC:               </th> <td>   3356.</td>\n",
              "</tr>\n",
              "<tr>\n",
              "  <th>Df Model:</th>              <td>     1</td>      <th>                     </th>     <td> </td>   \n",
              "</tr>\n",
              "<tr>\n",
              "  <th>Covariance Type:</th>      <td>nonrobust</td>    <th>                     </th>     <td> </td>   \n",
              "</tr>\n",
              "</table>\n",
              "<table class=\"simpletable\">\n",
              "<tr>\n",
              "      <td></td>        <th>coef</th>     <th>std err</th>      <th>t</th>      <th>P>|t|</th>  <th>[0.025</th>    <th>0.975]</th>  \n",
              "</tr>\n",
              "<tr>\n",
              "  <th>const</th>    <td>  -34.6592</td> <td>    2.642</td> <td>  -13.118</td> <td> 0.000</td> <td>  -39.850</td> <td>  -29.468</td>\n",
              "</tr>\n",
              "<tr>\n",
              "  <th>room_num</th> <td>    9.0997</td> <td>    0.418</td> <td>   21.779</td> <td> 0.000</td> <td>    8.279</td> <td>    9.921</td>\n",
              "</tr>\n",
              "</table>\n",
              "<table class=\"simpletable\">\n",
              "<tr>\n",
              "  <th>Omnibus:</th>       <td>103.753</td> <th>  Durbin-Watson:     </th> <td>   0.681</td> \n",
              "</tr>\n",
              "<tr>\n",
              "  <th>Prob(Omnibus):</th> <td> 0.000</td>  <th>  Jarque-Bera (JB):  </th> <td> 633.429</td> \n",
              "</tr>\n",
              "<tr>\n",
              "  <th>Skew:</th>          <td> 0.729</td>  <th>  Prob(JB):          </th> <td>2.84e-138</td>\n",
              "</tr>\n",
              "<tr>\n",
              "  <th>Kurtosis:</th>      <td> 8.284</td>  <th>  Cond. No.          </th> <td>    58.4</td> \n",
              "</tr>\n",
              "</table><br/><br/>Warnings:<br/>[1] Standard Errors assume that the covariance matrix of the errors is correctly specified."
            ],
            "text/plain": [
              "<class 'statsmodels.iolib.summary.Summary'>\n",
              "\"\"\"\n",
              "                            OLS Regression Results                            \n",
              "==============================================================================\n",
              "Dep. Variable:                  price   R-squared:                       0.485\n",
              "Model:                            OLS   Adj. R-squared:                  0.484\n",
              "Method:                 Least Squares   F-statistic:                     474.3\n",
              "Date:                Tue, 15 Jun 2021   Prob (F-statistic):           1.31e-74\n",
              "Time:                        14:00:04   Log-Likelihood:                -1671.6\n",
              "No. Observations:                 506   AIC:                             3347.\n",
              "Df Residuals:                     504   BIC:                             3356.\n",
              "Df Model:                           1                                         \n",
              "Covariance Type:            nonrobust                                         \n",
              "==============================================================================\n",
              "                 coef    std err          t      P>|t|      [0.025      0.975]\n",
              "------------------------------------------------------------------------------\n",
              "const        -34.6592      2.642    -13.118      0.000     -39.850     -29.468\n",
              "room_num       9.0997      0.418     21.779      0.000       8.279       9.921\n",
              "==============================================================================\n",
              "Omnibus:                      103.753   Durbin-Watson:                   0.681\n",
              "Prob(Omnibus):                  0.000   Jarque-Bera (JB):              633.429\n",
              "Skew:                           0.729   Prob(JB):                    2.84e-138\n",
              "Kurtosis:                       8.284   Cond. No.                         58.4\n",
              "==============================================================================\n",
              "\n",
              "Warnings:\n",
              "[1] Standard Errors assume that the covariance matrix of the errors is correctly specified.\n",
              "\"\"\""
            ]
          },
          "metadata": {
            "tags": []
          },
          "execution_count": 46
        }
      ]
    },
    {
      "cell_type": "code",
      "metadata": {
        "id": "MNckqwpiIcY3"
      },
      "source": [
        "from sklearn.linear_model import LinearRegression"
      ],
      "execution_count": null,
      "outputs": []
    },
    {
      "cell_type": "code",
      "metadata": {
        "id": "o4j2GtgvI47y"
      },
      "source": [
        "y = df['price']\n",
        "x = df[['room_num']]"
      ],
      "execution_count": null,
      "outputs": []
    },
    {
      "cell_type": "code",
      "metadata": {
        "colab": {
          "base_uri": "https://localhost:8080/"
        },
        "id": "RmyZ89yjKdGj",
        "outputId": "45bed37f-fa42-4522-f4d2-05d17deb371c"
      },
      "source": [
        "lm = LinearRegression()\n",
        "lm.fit(x, y)"
      ],
      "execution_count": null,
      "outputs": [
        {
          "output_type": "execute_result",
          "data": {
            "text/plain": [
              "LinearRegression(copy_X=True, fit_intercept=True, n_jobs=None, normalize=False)"
            ]
          },
          "metadata": {
            "tags": []
          },
          "execution_count": 49
        }
      ]
    },
    {
      "cell_type": "code",
      "metadata": {
        "colab": {
          "base_uri": "https://localhost:8080/"
        },
        "id": "DFxYV96tKp2_",
        "outputId": "b160d3d5-7bb4-4fda-eaa9-f17ad55ac41b"
      },
      "source": [
        "print(lm.intercept_, lm.coef_)"
      ],
      "execution_count": null,
      "outputs": [
        {
          "output_type": "stream",
          "text": [
            "-34.65924312309717 [9.09966966]\n"
          ],
          "name": "stdout"
        }
      ]
    },
    {
      "cell_type": "code",
      "metadata": {
        "colab": {
          "base_uri": "https://localhost:8080/"
        },
        "id": "oJPhuZnkK0C3",
        "outputId": "257f4105-7099-41ae-fb07-6a826fd60675"
      },
      "source": [
        "lm.predict(x)"
      ],
      "execution_count": null,
      "outputs": [
        {
          "output_type": "execute_result",
          "data": {
            "text/plain": [
              "array([25.17108491, 23.76973578, 30.72188341, 29.02024518, 30.37609596,\n",
              "       23.85163281, 20.04797089, 21.50391804, 16.58099675, 19.97517353,\n",
              "       23.36935032, 20.02067188, 18.92871152, 19.4746917 , 20.81234314,\n",
              "       18.42822969, 19.34729633, 19.84777816, 14.98855456, 17.45456504,\n",
              "       16.0259169 , 19.62028642, 21.23092795, 18.23713663, 19.24719996,\n",
              "       16.28980732, 18.23713663, 20.36645933, 24.44311134, 26.07195221,\n",
              "       17.32716966, 20.59395107, 19.48379137, 17.21797363, 20.81234314,\n",
              "       19.32909699, 18.49192738, 18.57382441, 19.62938609, 25.3530783 ,\n",
              "       29.25683659, 26.9455205 , 21.47661903, 21.85880515, 20.56665206,\n",
              "       17.0450799 , 17.99144555, 20.21176495, 14.46987339, 16.31710633,\n",
              "       19.60208708, 20.98523687, 24.58870605, 19.92057552, 18.91961185,\n",
              "       31.30426226, 23.42394834, 27.3641053 , 21.25822696, 19.27449897,\n",
              "       17.58196041, 19.62938609, 24.08822422, 26.87272314, 29.98481016,\n",
              "       22.57767906, 18.00054522, 18.82861516, 16.24430897, 18.89231284,\n",
              "       23.7333371 , 19.58388774, 20.53025338, 22.16819392, 22.42298467,\n",
              "       22.54128038, 22.47758269, 21.21272861, 22.04989822, 18.79221648,\n",
              "       26.5542347 , 25.57147038, 22.68687509, 21.45841969, 23.47854635,\n",
              "       25.67156674, 20.0752699 , 21.03983488, 29.10214221, 29.75731842,\n",
              "       23.7333371 , 23.62414107, 23.96082885, 21.85880515, 22.2045926 ,\n",
              "       25.62606839, 21.42202101, 38.76599139, 36.50017364, 32.8239071 ,\n",
              "       26.5542347 , 27.04561686, 23.62414107, 21.1854296 , 21.45841969,\n",
              "       18.58292408, 18.44642903, 21.0944329 , 24.25201828, 22.02259921,\n",
              "       21.71321044, 26.44503866, 19.14710359, 20.77594446, 22.25009095,\n",
              "       19.28359864, 21.54031672, 20.12986792, 18.77401714, 17.49096372,\n",
              "       18.7558178 , 19.97517353, 19.58388774, 18.62842242, 18.83771483,\n",
              "       19.81137948, 16.4172027 , 17.14517627, 23.86073248, 16.63559477,\n",
              "       24.10642356, 22.90526717, 23.32385197, 18.31903366, 17.72755513,\n",
              "       22.98716419, 19.41099401, 24.07002488, 18.63752209, 21.31282497,\n",
              "       21.52211738, 11.01199892, 14.50627207, 15.09775059,  9.95643723,\n",
              "       21.12173191, 16.55369774, 10.16572964, 12.53164375, 16.27160798,\n",
              "       21.04893455, 14.51537174, 10.94830123, 17.29077098, 21.11263224,\n",
              "       21.32192464, 13.31421534, 28.51976335, 20.53935305, 24.57960638,\n",
              "       22.21369227, 33.48818298, 36.33637959, 41.55049031, 18.61022308,\n",
              "       20.85784149, 37.49203764, 18.81951549, 22.84156948, 23.59684206,\n",
              "       18.80131615, 18.8468145 , 16.04411624, 23.72423744, 18.65572143,\n",
              "       24.90719449, 20.12076825, 22.8051708 , 27.76449077, 28.85645113,\n",
              "       35.99969181, 21.24912729, 30.44889332, 25.06188888, 16.33530567,\n",
              "       21.33102431, 36.60027001, 27.05471653, 24.99819119, 30.72188341,\n",
              "       28.5925607 , 26.66343074, 30.65818572, 27.21851059, 25.43497533,\n",
              "       37.00065547, 31.65004971, 30.01210917, 31.53175401, 28.81095278,\n",
              "       30.26689992, 21.41292134, 34.58924301, 36.80046274, 38.44750295,\n",
              "       18.94691086, 22.90526717, 17.96414654, 20.52115371, 13.96939156,\n",
              "       19.57478807, 14.51537174, 18.18253861, 23.35115098, 14.58816909,\n",
              "       21.59491473, 18.91961185, 25.78076278, 19.49289104, 23.33295164,\n",
              "       28.5925607 , 21.43112068, 27.93738449, 25.56237071, 40.55862631,\n",
              "       44.73537469, 38.50210097, 30.52169067, 35.28081791, 24.96179251,\n",
              "       19.76588113, 32.78750842, 41.20470286, 40.38573259, 26.54513503,\n",
              "       20.72134645, 25.68066641, 32.29612626, 24.31571596, 25.45317467,\n",
              "       28.10117854, 20.80324347, 23.19645659, 23.51494503, 16.2352093 ,\n",
              "       16.34440534, 20.92153918, 21.9953002 , 23.87893182, 26.47233767,\n",
              "       24.37031398, 23.92443017, 28.64715872, 40.49492862, 20.92153918,\n",
              "       18.81041582, 33.16969455, 44.54428162, 32.06863452, 27.60069671,\n",
              "       30.88567746, 33.77027274, 41.75978271, 32.0140365 , 30.91297647,\n",
              "       15.9349202 , 29.16583989, 40.84071607, 33.31528926, 19.21080128,\n",
              "       18.62842242, 22.12269557, 24.83439713, 35.32631626, 26.83632446,\n",
              "       27.70989275, 31.46805632, 27.455102  , 24.32481563, 27.32770662,\n",
              "       36.50017364, 28.74725509, 34.90773145, 37.43743962, 29.83921545,\n",
              "       24.06092521, 22.03169888, 21.84060581, 22.8051708 , 25.08008821,\n",
              "       27.77359044, 30.38519563, 25.67156674, 21.0944329 , 20.02067188,\n",
              "       26.10835089, 24.9344935 , 18.02784423, 23.07816089, 29.41153097,\n",
              "       27.86458713, 25.30757996, 24.44311134, 28.87465046, 31.18596656,\n",
              "       25.54417137, 32.86030578, 27.6643944 , 25.71706509, 19.6839841 ,\n",
              "       10.59341411, 21.04893455, 20.14806726, 22.35928699, 25.09828755,\n",
              "       17.2543723 , 19.15620326, 17.95504687, 23.41484867, 20.96703753,\n",
              "       23.81523413, 23.36025065, 20.31186131, 17.28167131, 23.71513777,\n",
              "       23.86073248, 22.77787179, 20.69404744, 18.73761846, 22.96896485,\n",
              "       21.24912729, 17.26347197, 20.22086461, 22.81427047, 22.75967245,\n",
              "       20.27546263, 18.74671813, 18.98330954, 20.47565537, 19.80227981,\n",
              "       19.64758543, 31.23146491, 24.85259647, 26.27214494, 27.89188614,\n",
              "       20.06617023, 19.01060855, 24.6342044 , 25.71706509, 28.48336467,\n",
              "       24.39761299, 25.20748359, 18.88321317, 26.56333437, 16.87218618,\n",
              "       19.356396  , 21.86790482, 23.53314437, 21.0944329 , 20.95793786,\n",
              "       23.56044338, 22.22279194, 14.13318561, 18.14613993, 45.23585652,\n",
              "       -2.25531945, 10.50241741,  0.49278079, 10.5661151 , 26.15384924,\n",
              "       29.18403923, 21.9043035 , 18.80131615,  9.98373624,  2.99518994,\n",
              "       31.88664112, 25.84446047, 27.16391257, 23.39664933, 21.96800119,\n",
              "       28.74725509, 24.89809482, 15.71652813, 15.57093342,  5.08811397,\n",
              "       13.35971369,  7.67242015, 10.83910519,  9.74714483, 14.38797636,\n",
              "       17.32716966, 20.40285801, 11.1666933 , 21.6950111 , 18.91051218,\n",
              "       24.22471927, 23.62414107, 17.63655843, 14.96125555, 18.59202375,\n",
              "       19.82047915, 23.05996155, 23.6150414 , 14.0148899 , 15.67102978,\n",
              "       17.05417957,  2.99518994, 16.37170435, 16.45360137, 27.69169341,\n",
              "       17.72755513, 25.91725782,  7.45402808, 12.24955399,  6.46216408,\n",
              "       23.88803149, 27.05471653, 13.60540477, 19.54748906, 27.43690266,\n",
              "       23.67873909, 19.99337287, 16.73569113, 20.87604083, 15.98041855,\n",
              "       18.99240921, 18.4555287 , 21.77690813, 21.6950111 , 23.39664933,\n",
              "       23.1054599 , 27.51879968, 23.80613446, 23.90623083, 21.83150615,\n",
              "       25.66246707, 24.13372257, 21.32192464, 19.34729633, 16.54459807,\n",
              "       18.28263498, 23.63324074, 21.93160251, 24.35211464, 18.61022308,\n",
              "       24.11552323, 23.04176221, 22.22279194, 21.62221374, 23.7333371 ,\n",
              "       26.75442743, 25.89905848, 22.64137675, 32.6146147 , 26.56333437,\n",
              "       24.71610143, 19.72038278, 19.356396  , 22.67777542, 20.6758481 ,\n",
              "       26.31764329, 23.36025065, 22.82337014, 24.60690539, 21.84060581,\n",
              "       17.74575447, 19.50199071, 19.96607386, 19.2653993 , 17.32716966,\n",
              "       21.45841969, 22.02259921, 23.9153305 , 28.85645113, 14.72466414,\n",
              "       21.41292134, 24.34301497, 13.60540477, 21.62221374, 22.02259921,\n",
              "       22.14089491, 26.7635271 , 29.59352437, 17.77305348, 18.76491747,\n",
              "       22.77787179, 20.9761372 , 19.07430624, 14.97035522, 14.60636843,\n",
              "       11.68537447, 19.78408047, 19.78408047, 17.27257164, 19.2653993 ,\n",
              "       16.93588387, 14.38797636, 18.0642429 , 20.11166858, 16.01681723,\n",
              "       20.18446594, 25.33487897, 21.03073521, 28.82005245, 27.16391257,\n",
              "       20.21176495])"
            ]
          },
          "metadata": {
            "tags": []
          },
          "execution_count": 51
        }
      ]
    },
    {
      "cell_type": "code",
      "metadata": {
        "colab": {
          "base_uri": "https://localhost:8080/",
          "height": 458
        },
        "id": "S1_ZePTyLeJQ",
        "outputId": "d708bcd4-e250-4d44-fc91-3c99eeeeba8b"
      },
      "source": [
        "sns.jointplot(x=df['room_num'], y=df['price'], data = df, kind='reg')"
      ],
      "execution_count": null,
      "outputs": [
        {
          "output_type": "execute_result",
          "data": {
            "text/plain": [
              "<seaborn.axisgrid.JointGrid at 0x7f9f85fe2410>"
            ]
          },
          "metadata": {
            "tags": []
          },
          "execution_count": 52
        },
        {
          "output_type": "display_data",
          "data": {
            "image/png": "[encoded data removed]",
            "text/plain": [
              "<Figure size 432x432 with 3 Axes>"
            ]
          },
          "metadata": {
            "tags": [],
            "needs_background": "light"
          }
        }
      ]
    },
    {
      "cell_type": "code",
      "metadata": {
        "id": "YJziKxoEhpjC"
      },
      "source": [
        "x_multi = df.drop(\"price\", axis=1)"
      ],
      "execution_count": null,
      "outputs": []
    },
    {
      "cell_type": "code",
      "metadata": {
        "colab": {
          "base_uri": "https://localhost:8080/",
          "height": 212
        },
        "id": "dIJMbl4-h31f",
        "outputId": "ea8c293a-c1b3-47d7-e808-822b2cd7fc9a"
      },
      "source": [
        "x_multi.head()"
      ],
      "execution_count": null,
      "outputs": [
        {
          "output_type": "execute_result",
          "data": {
            "text/html": [
              "<div>\n",
              "<style scoped>\n",
              "    .dataframe tbody tr th:only-of-type {\n",
              "        vertical-align: middle;\n",
              "    }\n",
              "\n",
              "    .dataframe tbody tr th {\n",
              "        vertical-align: top;\n",
              "    }\n",
              "\n",
              "    .dataframe thead th {\n",
              "        text-align: right;\n",
              "    }\n",
              "</style>\n",
              "<table border=\"1\" class=\"dataframe\">\n",
              "  <thead>\n",
              "    <tr style=\"text-align: right;\">\n",
              "      <th></th>\n",
              "      <th>crime_rate</th>\n",
              "      <th>resid_area</th>\n",
              "      <th>air_qual</th>\n",
              "      <th>room_num</th>\n",
              "      <th>age</th>\n",
              "      <th>teachers</th>\n",
              "      <th>poor_prop</th>\n",
              "      <th>n_hos_beds</th>\n",
              "      <th>n_hot_rooms</th>\n",
              "      <th>rainfall</th>\n",
              "      <th>avg_dist</th>\n",
              "      <th>airport_YES</th>\n",
              "      <th>waterbody_Lake</th>\n",
              "      <th>waterbody_Lake and River</th>\n",
              "      <th>waterbody_River</th>\n",
              "    </tr>\n",
              "  </thead>\n",
              "  <tbody>\n",
              "    <tr>\n",
              "      <th>0</th>\n",
              "      <td>0.00632</td>\n",
              "      <td>32.31</td>\n",
              "      <td>0.538</td>\n",
              "      <td>6.575</td>\n",
              "      <td>65.2</td>\n",
              "      <td>24.7</td>\n",
              "      <td>4.98</td>\n",
              "      <td>5.480</td>\n",
              "      <td>11.19200</td>\n",
              "      <td>23</td>\n",
              "      <td>4.0875</td>\n",
              "      <td>1</td>\n",
              "      <td>0</td>\n",
              "      <td>0</td>\n",
              "      <td>1</td>\n",
              "    </tr>\n",
              "    <tr>\n",
              "      <th>1</th>\n",
              "      <td>0.02731</td>\n",
              "      <td>37.07</td>\n",
              "      <td>0.469</td>\n",
              "      <td>6.421</td>\n",
              "      <td>78.9</td>\n",
              "      <td>22.2</td>\n",
              "      <td>9.14</td>\n",
              "      <td>7.332</td>\n",
              "      <td>12.17280</td>\n",
              "      <td>42</td>\n",
              "      <td>4.9675</td>\n",
              "      <td>0</td>\n",
              "      <td>1</td>\n",
              "      <td>0</td>\n",
              "      <td>0</td>\n",
              "    </tr>\n",
              "    <tr>\n",
              "      <th>2</th>\n",
              "      <td>0.02729</td>\n",
              "      <td>37.07</td>\n",
              "      <td>0.469</td>\n",
              "      <td>7.185</td>\n",
              "      <td>61.1</td>\n",
              "      <td>22.2</td>\n",
              "      <td>4.03</td>\n",
              "      <td>7.394</td>\n",
              "      <td>46.19856</td>\n",
              "      <td>38</td>\n",
              "      <td>4.9675</td>\n",
              "      <td>0</td>\n",
              "      <td>0</td>\n",
              "      <td>0</td>\n",
              "      <td>0</td>\n",
              "    </tr>\n",
              "    <tr>\n",
              "      <th>3</th>\n",
              "      <td>0.03237</td>\n",
              "      <td>32.18</td>\n",
              "      <td>0.458</td>\n",
              "      <td>6.998</td>\n",
              "      <td>45.8</td>\n",
              "      <td>21.3</td>\n",
              "      <td>2.94</td>\n",
              "      <td>9.268</td>\n",
              "      <td>11.26720</td>\n",
              "      <td>45</td>\n",
              "      <td>6.0650</td>\n",
              "      <td>1</td>\n",
              "      <td>1</td>\n",
              "      <td>0</td>\n",
              "      <td>0</td>\n",
              "    </tr>\n",
              "    <tr>\n",
              "      <th>4</th>\n",
              "      <td>0.06905</td>\n",
              "      <td>32.18</td>\n",
              "      <td>0.458</td>\n",
              "      <td>7.147</td>\n",
              "      <td>54.2</td>\n",
              "      <td>21.3</td>\n",
              "      <td>5.33</td>\n",
              "      <td>8.824</td>\n",
              "      <td>11.28960</td>\n",
              "      <td>55</td>\n",
              "      <td>6.0625</td>\n",
              "      <td>0</td>\n",
              "      <td>1</td>\n",
              "      <td>0</td>\n",
              "      <td>0</td>\n",
              "    </tr>\n",
              "  </tbody>\n",
              "</table>\n",
              "</div>"
            ],
            "text/plain": [
              "   crime_rate  resid_area  ...  waterbody_Lake and River  waterbody_River\n",
              "0     0.00632       32.31  ...                         0                1\n",
              "1     0.02731       37.07  ...                         0                0\n",
              "2     0.02729       37.07  ...                         0                0\n",
              "3     0.03237       32.18  ...                         0                0\n",
              "4     0.06905       32.18  ...                         0                0\n",
              "\n",
              "[5 rows x 15 columns]"
            ]
          },
          "metadata": {
            "tags": []
          },
          "execution_count": 54
        }
      ]
    },
    {
      "cell_type": "code",
      "metadata": {
        "id": "BYkoc36Wh_PL"
      },
      "source": [
        "y_multi = df['price']"
      ],
      "execution_count": null,
      "outputs": []
    },
    {
      "cell_type": "code",
      "metadata": {
        "colab": {
          "base_uri": "https://localhost:8080/"
        },
        "id": "Q1qnnFoFiNLU",
        "outputId": "c3a4e932-e700-49d6-8266-1d79b869e016"
      },
      "source": [
        "y_multi.head()"
      ],
      "execution_count": null,
      "outputs": [
        {
          "output_type": "execute_result",
          "data": {
            "text/plain": [
              "0    24.0\n",
              "1    21.6\n",
              "2    34.7\n",
              "3    33.4\n",
              "4    36.2\n",
              "Name: price, dtype: float64"
            ]
          },
          "metadata": {
            "tags": []
          },
          "execution_count": 56
        }
      ]
    },
    {
      "cell_type": "code",
      "metadata": {
        "colab": {
          "base_uri": "https://localhost:8080/",
          "height": 232
        },
        "id": "fzTHxsvpiO20",
        "outputId": "4faed40e-dd6e-477f-ef4a-456694b2be16"
      },
      "source": [
        "x_multi_cons = sma.add_constant(x_multi)\n",
        "x_multi_cons.head()"
      ],
      "execution_count": null,
      "outputs": [
        {
          "output_type": "execute_result",
          "data": {
            "text/html": [
              "<div>\n",
              "<style scoped>\n",
              "    .dataframe tbody tr th:only-of-type {\n",
              "        vertical-align: middle;\n",
              "    }\n",
              "\n",
              "    .dataframe tbody tr th {\n",
              "        vertical-align: top;\n",
              "    }\n",
              "\n",
              "    .dataframe thead th {\n",
              "        text-align: right;\n",
              "    }\n",
              "</style>\n",
              "<table border=\"1\" class=\"dataframe\">\n",
              "  <thead>\n",
              "    <tr style=\"text-align: right;\">\n",
              "      <th></th>\n",
              "      <th>const</th>\n",
              "      <th>crime_rate</th>\n",
              "      <th>resid_area</th>\n",
              "      <th>air_qual</th>\n",
              "      <th>room_num</th>\n",
              "      <th>age</th>\n",
              "      <th>teachers</th>\n",
              "      <th>poor_prop</th>\n",
              "      <th>n_hos_beds</th>\n",
              "      <th>n_hot_rooms</th>\n",
              "      <th>rainfall</th>\n",
              "      <th>avg_dist</th>\n",
              "      <th>airport_YES</th>\n",
              "      <th>waterbody_Lake</th>\n",
              "      <th>waterbody_Lake and River</th>\n",
              "      <th>waterbody_River</th>\n",
              "    </tr>\n",
              "  </thead>\n",
              "  <tbody>\n",
              "    <tr>\n",
              "      <th>0</th>\n",
              "      <td>1.0</td>\n",
              "      <td>0.00632</td>\n",
              "      <td>32.31</td>\n",
              "      <td>0.538</td>\n",
              "      <td>6.575</td>\n",
              "      <td>65.2</td>\n",
              "      <td>24.7</td>\n",
              "      <td>4.98</td>\n",
              "      <td>5.480</td>\n",
              "      <td>11.19200</td>\n",
              "      <td>23</td>\n",
              "      <td>4.0875</td>\n",
              "      <td>1</td>\n",
              "      <td>0</td>\n",
              "      <td>0</td>\n",
              "      <td>1</td>\n",
              "    </tr>\n",
              "    <tr>\n",
              "      <th>1</th>\n",
              "      <td>1.0</td>\n",
              "      <td>0.02731</td>\n",
              "      <td>37.07</td>\n",
              "      <td>0.469</td>\n",
              "      <td>6.421</td>\n",
              "      <td>78.9</td>\n",
              "      <td>22.2</td>\n",
              "      <td>9.14</td>\n",
              "      <td>7.332</td>\n",
              "      <td>12.17280</td>\n",
              "      <td>42</td>\n",
              "      <td>4.9675</td>\n",
              "      <td>0</td>\n",
              "      <td>1</td>\n",
              "      <td>0</td>\n",
              "      <td>0</td>\n",
              "    </tr>\n",
              "    <tr>\n",
              "      <th>2</th>\n",
              "      <td>1.0</td>\n",
              "      <td>0.02729</td>\n",
              "      <td>37.07</td>\n",
              "      <td>0.469</td>\n",
              "      <td>7.185</td>\n",
              "      <td>61.1</td>\n",
              "      <td>22.2</td>\n",
              "      <td>4.03</td>\n",
              "      <td>7.394</td>\n",
              "      <td>46.19856</td>\n",
              "      <td>38</td>\n",
              "      <td>4.9675</td>\n",
              "      <td>0</td>\n",
              "      <td>0</td>\n",
              "      <td>0</td>\n",
              "      <td>0</td>\n",
              "    </tr>\n",
              "    <tr>\n",
              "      <th>3</th>\n",
              "      <td>1.0</td>\n",
              "      <td>0.03237</td>\n",
              "      <td>32.18</td>\n",
              "      <td>0.458</td>\n",
              "      <td>6.998</td>\n",
              "      <td>45.8</td>\n",
              "      <td>21.3</td>\n",
              "      <td>2.94</td>\n",
              "      <td>9.268</td>\n",
              "      <td>11.26720</td>\n",
              "      <td>45</td>\n",
              "      <td>6.0650</td>\n",
              "      <td>1</td>\n",
              "      <td>1</td>\n",
              "      <td>0</td>\n",
              "      <td>0</td>\n",
              "    </tr>\n",
              "    <tr>\n",
              "      <th>4</th>\n",
              "      <td>1.0</td>\n",
              "      <td>0.06905</td>\n",
              "      <td>32.18</td>\n",
              "      <td>0.458</td>\n",
              "      <td>7.147</td>\n",
              "      <td>54.2</td>\n",
              "      <td>21.3</td>\n",
              "      <td>5.33</td>\n",
              "      <td>8.824</td>\n",
              "      <td>11.28960</td>\n",
              "      <td>55</td>\n",
              "      <td>6.0625</td>\n",
              "      <td>0</td>\n",
              "      <td>1</td>\n",
              "      <td>0</td>\n",
              "      <td>0</td>\n",
              "    </tr>\n",
              "  </tbody>\n",
              "</table>\n",
              "</div>"
            ],
            "text/plain": [
              "   const  crime_rate  ...  waterbody_Lake and River  waterbody_River\n",
              "0    1.0     0.00632  ...                         0                1\n",
              "1    1.0     0.02731  ...                         0                0\n",
              "2    1.0     0.02729  ...                         0                0\n",
              "3    1.0     0.03237  ...                         0                0\n",
              "4    1.0     0.06905  ...                         0                0\n",
              "\n",
              "[5 rows x 16 columns]"
            ]
          },
          "metadata": {
            "tags": []
          },
          "execution_count": 57
        }
      ]
    },
    {
      "cell_type": "code",
      "metadata": {
        "colab": {
          "base_uri": "https://localhost:8080/",
          "height": 739
        },
        "id": "rnw1II__iY43",
        "outputId": "643c651f-6fc5-4187-cee3-053068f09a73"
      },
      "source": [
        "lm_multi = sma.OLS(y_multi, x_multi_cons).fit()\n",
        "lm_multi.summary()"
      ],
      "execution_count": null,
      "outputs": [
        {
          "output_type": "execute_result",
          "data": {
            "text/html": [
              "<table class=\"simpletable\">\n",
              "<caption>OLS Regression Results</caption>\n",
              "<tr>\n",
              "  <th>Dep. Variable:</th>          <td>price</td>      <th>  R-squared:         </th> <td>   0.724</td> \n",
              "</tr>\n",
              "<tr>\n",
              "  <th>Model:</th>                   <td>OLS</td>       <th>  Adj. R-squared:    </th> <td>   0.716</td> \n",
              "</tr>\n",
              "<tr>\n",
              "  <th>Method:</th>             <td>Least Squares</td>  <th>  F-statistic:       </th> <td>   85.87</td> \n",
              "</tr>\n",
              "<tr>\n",
              "  <th>Date:</th>             <td>Tue, 15 Jun 2021</td> <th>  Prob (F-statistic):</th> <td>1.82e-126</td>\n",
              "</tr>\n",
              "<tr>\n",
              "  <th>Time:</th>                 <td>14:00:06</td>     <th>  Log-Likelihood:    </th> <td> -1513.3</td> \n",
              "</tr>\n",
              "<tr>\n",
              "  <th>No. Observations:</th>      <td>   506</td>      <th>  AIC:               </th> <td>   3059.</td> \n",
              "</tr>\n",
              "<tr>\n",
              "  <th>Df Residuals:</th>          <td>   490</td>      <th>  BIC:               </th> <td>   3126.</td> \n",
              "</tr>\n",
              "<tr>\n",
              "  <th>Df Model:</th>              <td>    15</td>      <th>                     </th>     <td> </td>    \n",
              "</tr>\n",
              "<tr>\n",
              "  <th>Covariance Type:</th>      <td>nonrobust</td>    <th>                     </th>     <td> </td>    \n",
              "</tr>\n",
              "</table>\n",
              "<table class=\"simpletable\">\n",
              "<tr>\n",
              "              <td></td>                <th>coef</th>     <th>std err</th>      <th>t</th>      <th>P>|t|</th>  <th>[0.025</th>    <th>0.975]</th>  \n",
              "</tr>\n",
              "<tr>\n",
              "  <th>const</th>                    <td>   -6.9932</td> <td>    5.171</td> <td>   -1.352</td> <td> 0.177</td> <td>  -17.154</td> <td>    3.168</td>\n",
              "</tr>\n",
              "<tr>\n",
              "  <th>crime_rate</th>               <td>   -0.0756</td> <td>    0.030</td> <td>   -2.530</td> <td> 0.012</td> <td>   -0.134</td> <td>   -0.017</td>\n",
              "</tr>\n",
              "<tr>\n",
              "  <th>resid_area</th>               <td>   -0.0385</td> <td>    0.057</td> <td>   -0.678</td> <td> 0.498</td> <td>   -0.150</td> <td>    0.073</td>\n",
              "</tr>\n",
              "<tr>\n",
              "  <th>air_qual</th>                 <td>  -14.7228</td> <td>    3.716</td> <td>   -3.962</td> <td> 0.000</td> <td>  -22.024</td> <td>   -7.422</td>\n",
              "</tr>\n",
              "<tr>\n",
              "  <th>room_num</th>                 <td>    4.1393</td> <td>    0.418</td> <td>    9.895</td> <td> 0.000</td> <td>    3.317</td> <td>    4.961</td>\n",
              "</tr>\n",
              "<tr>\n",
              "  <th>age</th>                      <td>   -0.0083</td> <td>    0.014</td> <td>   -0.618</td> <td> 0.537</td> <td>   -0.035</td> <td>    0.018</td>\n",
              "</tr>\n",
              "<tr>\n",
              "  <th>teachers</th>                 <td>    0.9586</td> <td>    0.118</td> <td>    8.127</td> <td> 0.000</td> <td>    0.727</td> <td>    1.190</td>\n",
              "</tr>\n",
              "<tr>\n",
              "  <th>poor_prop</th>                <td>   -0.5444</td> <td>    0.052</td> <td>  -10.540</td> <td> 0.000</td> <td>   -0.646</td> <td>   -0.443</td>\n",
              "</tr>\n",
              "<tr>\n",
              "  <th>n_hos_beds</th>               <td>    0.3473</td> <td>    0.151</td> <td>    2.296</td> <td> 0.022</td> <td>    0.050</td> <td>    0.644</td>\n",
              "</tr>\n",
              "<tr>\n",
              "  <th>n_hot_rooms</th>              <td>    0.0958</td> <td>    0.082</td> <td>    1.175</td> <td> 0.241</td> <td>   -0.064</td> <td>    0.256</td>\n",
              "</tr>\n",
              "<tr>\n",
              "  <th>rainfall</th>                 <td>    0.0175</td> <td>    0.018</td> <td>    0.986</td> <td> 0.325</td> <td>   -0.017</td> <td>    0.052</td>\n",
              "</tr>\n",
              "<tr>\n",
              "  <th>avg_dist</th>                 <td>   -1.2502</td> <td>    0.188</td> <td>   -6.647</td> <td> 0.000</td> <td>   -1.620</td> <td>   -0.881</td>\n",
              "</tr>\n",
              "<tr>\n",
              "  <th>airport_YES</th>              <td>    1.0718</td> <td>    0.449</td> <td>    2.384</td> <td> 0.017</td> <td>    0.189</td> <td>    1.955</td>\n",
              "</tr>\n",
              "<tr>\n",
              "  <th>waterbody_Lake</th>           <td>    0.2551</td> <td>    0.638</td> <td>    0.400</td> <td> 0.689</td> <td>   -0.998</td> <td>    1.508</td>\n",
              "</tr>\n",
              "<tr>\n",
              "  <th>waterbody_Lake and River</th> <td>   -0.7811</td> <td>    0.710</td> <td>   -1.100</td> <td> 0.272</td> <td>   -2.176</td> <td>    0.614</td>\n",
              "</tr>\n",
              "<tr>\n",
              "  <th>waterbody_River</th>          <td>   -0.2884</td> <td>    0.543</td> <td>   -0.531</td> <td> 0.596</td> <td>   -1.355</td> <td>    0.779</td>\n",
              "</tr>\n",
              "</table>\n",
              "<table class=\"simpletable\">\n",
              "<tr>\n",
              "  <th>Omnibus:</th>       <td>200.274</td> <th>  Durbin-Watson:     </th> <td>   0.975</td> \n",
              "</tr>\n",
              "<tr>\n",
              "  <th>Prob(Omnibus):</th> <td> 0.000</td>  <th>  Jarque-Bera (JB):  </th> <td> 973.307</td> \n",
              "</tr>\n",
              "<tr>\n",
              "  <th>Skew:</th>          <td> 1.699</td>  <th>  Prob(JB):          </th> <td>4.46e-212</td>\n",
              "</tr>\n",
              "<tr>\n",
              "  <th>Kurtosis:</th>      <td> 8.884</td>  <th>  Cond. No.          </th> <td>2.33e+03</td> \n",
              "</tr>\n",
              "</table><br/><br/>Warnings:<br/>[1] Standard Errors assume that the covariance matrix of the errors is correctly specified.<br/>[2] The condition number is large, 2.33e+03. This might indicate that there are<br/>strong multicollinearity or other numerical problems."
            ],
            "text/plain": [
              "<class 'statsmodels.iolib.summary.Summary'>\n",
              "\"\"\"\n",
              "                            OLS Regression Results                            \n",
              "==============================================================================\n",
              "Dep. Variable:                  price   R-squared:                       0.724\n",
              "Model:                            OLS   Adj. R-squared:                  0.716\n",
              "Method:                 Least Squares   F-statistic:                     85.87\n",
              "Date:                Tue, 15 Jun 2021   Prob (F-statistic):          1.82e-126\n",
              "Time:                        14:00:06   Log-Likelihood:                -1513.3\n",
              "No. Observations:                 506   AIC:                             3059.\n",
              "Df Residuals:                     490   BIC:                             3126.\n",
              "Df Model:                          15                                         \n",
              "Covariance Type:            nonrobust                                         \n",
              "============================================================================================\n",
              "                               coef    std err          t      P>|t|      [0.025      0.975]\n",
              "--------------------------------------------------------------------------------------------\n",
              "const                       -6.9932      5.171     -1.352      0.177     -17.154       3.168\n",
              "crime_rate                  -0.0756      0.030     -2.530      0.012      -0.134      -0.017\n",
              "resid_area                  -0.0385      0.057     -0.678      0.498      -0.150       0.073\n",
              "air_qual                   -14.7228      3.716     -3.962      0.000     -22.024      -7.422\n",
              "room_num                     4.1393      0.418      9.895      0.000       3.317       4.961\n",
              "age                         -0.0083      0.014     -0.618      0.537      -0.035       0.018\n",
              "teachers                     0.9586      0.118      8.127      0.000       0.727       1.190\n",
              "poor_prop                   -0.5444      0.052    -10.540      0.000      -0.646      -0.443\n",
              "n_hos_beds                   0.3473      0.151      2.296      0.022       0.050       0.644\n",
              "n_hot_rooms                  0.0958      0.082      1.175      0.241      -0.064       0.256\n",
              "rainfall                     0.0175      0.018      0.986      0.325      -0.017       0.052\n",
              "avg_dist                    -1.2502      0.188     -6.647      0.000      -1.620      -0.881\n",
              "airport_YES                  1.0718      0.449      2.384      0.017       0.189       1.955\n",
              "waterbody_Lake               0.2551      0.638      0.400      0.689      -0.998       1.508\n",
              "waterbody_Lake and River    -0.7811      0.710     -1.100      0.272      -2.176       0.614\n",
              "waterbody_River             -0.2884      0.543     -0.531      0.596      -1.355       0.779\n",
              "==============================================================================\n",
              "Omnibus:                      200.274   Durbin-Watson:                   0.975\n",
              "Prob(Omnibus):                  0.000   Jarque-Bera (JB):              973.307\n",
              "Skew:                           1.699   Prob(JB):                    4.46e-212\n",
              "Kurtosis:                       8.884   Cond. No.                     2.33e+03\n",
              "==============================================================================\n",
              "\n",
              "Warnings:\n",
              "[1] Standard Errors assume that the covariance matrix of the errors is correctly specified.\n",
              "[2] The condition number is large, 2.33e+03. This might indicate that there are\n",
              "strong multicollinearity or other numerical problems.\n",
              "\"\"\""
            ]
          },
          "metadata": {
            "tags": []
          },
          "execution_count": 58
        }
      ]
    },
    {
      "cell_type": "code",
      "metadata": {
        "colab": {
          "base_uri": "https://localhost:8080/"
        },
        "id": "PU9BvyzYin4H",
        "outputId": "391c7cc9-d5df-4308-9871-9a48f5189a67"
      },
      "source": [
        "lm_multi_model = LinearRegression()\n",
        "lm_multi_model.fit(x_multi, y_multi)\n",
        "print(lm_multi_model.intercept_, lm_multi_model.coef_)"
      ],
      "execution_count": null,
      "outputs": [
        {
          "output_type": "stream",
          "text": [
            "-6.993171296975547 [-7.55578484e-02 -3.85440575e-02 -1.47228496e+01  4.13926395e+00\n",
            " -8.34634899e-03  9.58611387e-01 -5.44421532e-01  3.47266994e-01\n",
            "  9.57788440e-02  1.74700542e-02 -1.25024768e+00  1.07177550e+00\n",
            "  2.55134328e-01 -7.81086692e-01 -2.88377052e-01]\n"
          ],
          "name": "stdout"
        }
      ]
    },
    {
      "cell_type": "code",
      "metadata": {
        "colab": {
          "base_uri": "https://localhost:8080/"
        },
        "id": "TPUr3V_EjV8l",
        "outputId": "430a08f7-f81b-4ba5-a6e8-a0d43e374b45"
      },
      "source": [
        "from sklearn.model_selection import train_test_split\n",
        "x_train, x_test, y_train, y_test = train_test_split(x_multi, y_multi, test_size=0.2, random_state=0)\n",
        "print(x_train.shape, x_test.shape, y_train.shape, y_test.shape)"
      ],
      "execution_count": null,
      "outputs": [
        {
          "output_type": "stream",
          "text": [
            "(404, 15) (102, 15) (404,) (102,)\n"
          ],
          "name": "stdout"
        }
      ]
    },
    {
      "cell_type": "code",
      "metadata": {
        "colab": {
          "base_uri": "https://localhost:8080/"
        },
        "id": "xlmvvh1dlopz",
        "outputId": "f073f27b-e666-4b0d-c340-5105925755c1"
      },
      "source": [
        "lm_model = LinearRegression()\n",
        "lm_model.fit(x_train, y_train)"
      ],
      "execution_count": null,
      "outputs": [
        {
          "output_type": "execute_result",
          "data": {
            "text/plain": [
              "LinearRegression(copy_X=True, fit_intercept=True, n_jobs=None, normalize=False)"
            ]
          },
          "metadata": {
            "tags": []
          },
          "execution_count": 61
        }
      ]
    },
    {
      "cell_type": "code",
      "metadata": {
        "id": "HZFVEcKkmIpN"
      },
      "source": [
        "y_test_1 = lm_model.predict(x_test)\n",
        "y_train_1 = lm_model.predict(x_train)"
      ],
      "execution_count": null,
      "outputs": []
    },
    {
      "cell_type": "code",
      "metadata": {
        "id": "tQQwa_fpney3"
      },
      "source": [
        "from sklearn.metrics import r2_score"
      ],
      "execution_count": null,
      "outputs": []
    },
    {
      "cell_type": "code",
      "metadata": {
        "colab": {
          "base_uri": "https://localhost:8080/"
        },
        "id": "reGOW_wlnjqS",
        "outputId": "e7e9506a-3215-4614-f4b3-eca8edf4b73e"
      },
      "source": [
        "r2_score(y_test, y_test_1)"
      ],
      "execution_count": null,
      "outputs": [
        {
          "output_type": "execute_result",
          "data": {
            "text/plain": [
              "0.5550217186330351"
            ]
          },
          "metadata": {
            "tags": []
          },
          "execution_count": 64
        }
      ]
    },
    {
      "cell_type": "code",
      "metadata": {
        "colab": {
          "base_uri": "https://localhost:8080/"
        },
        "id": "PzS6mat5nqys",
        "outputId": "7f96d04f-0373-4f24-ba39-085a49237309"
      },
      "source": [
        "r2_score(y_train, y_train_1)"
      ],
      "execution_count": null,
      "outputs": [
        {
          "output_type": "execute_result",
          "data": {
            "text/plain": [
              "0.7603062497364769"
            ]
          },
          "metadata": {
            "tags": []
          },
          "execution_count": 65
        }
      ]
    },
    {
      "cell_type": "code",
      "metadata": {
        "id": "UgQqTWFonuTG"
      },
      "source": [
        "from sklearn import preprocessing"
      ],
      "execution_count": null,
      "outputs": []
    },
    {
      "cell_type": "code",
      "metadata": {
        "id": "z7dSlV7Zo7Pi"
      },
      "source": [
        "scaler = preprocessing.StandardScaler().fit(x_train)"
      ],
      "execution_count": null,
      "outputs": []
    },
    {
      "cell_type": "code",
      "metadata": {
        "id": "QfMqlCF9pFdH"
      },
      "source": [
        "x_train_s = scaler.transform(x_train)\n",
        "x_test_s = scaler.transform(x_test)"
      ],
      "execution_count": null,
      "outputs": []
    },
    {
      "cell_type": "code",
      "metadata": {
        "id": "8WW4HlgDpStM"
      },
      "source": [
        "from sklearn.linear_model import Ridge"
      ],
      "execution_count": null,
      "outputs": []
    },
    {
      "cell_type": "code",
      "metadata": {
        "colab": {
          "base_uri": "https://localhost:8080/"
        },
        "id": "yDlh34TXpf9W",
        "outputId": "c9862bd9-5e52-4a64-98de-fd5a2b8c867a"
      },
      "source": [
        "lm_r = Ridge(alpha=0.5)\n",
        "lm_r.fit(x_train_s, y_train)"
      ],
      "execution_count": null,
      "outputs": [
        {
          "output_type": "execute_result",
          "data": {
            "text/plain": [
              "Ridge(alpha=0.5, copy_X=True, fit_intercept=True, max_iter=None,\n",
              "      normalize=False, random_state=None, solver='auto', tol=0.001)"
            ]
          },
          "metadata": {
            "tags": []
          },
          "execution_count": 70
        }
      ]
    },
    {
      "cell_type": "code",
      "metadata": {
        "colab": {
          "base_uri": "https://localhost:8080/"
        },
        "id": "RoGx2gapqGZL",
        "outputId": "1fa4ab84-54e6-4e46-bba5-48d944f7436f"
      },
      "source": [
        "r2_score(y_test, lm_r.predict(x_test_s))"
      ],
      "execution_count": null,
      "outputs": [
        {
          "output_type": "execute_result",
          "data": {
            "text/plain": [
              "0.5549276635503455"
            ]
          },
          "metadata": {
            "tags": []
          },
          "execution_count": 71
        }
      ]
    },
    {
      "cell_type": "code",
      "metadata": {
        "id": "953QmISeqO1E"
      },
      "source": [
        "from sklearn.model_selection import validation_curve"
      ],
      "execution_count": null,
      "outputs": []
    },
    {
      "cell_type": "code",
      "metadata": {
        "id": "RNPCLcq-qUff"
      },
      "source": [
        "param_range = np.logspace(-2, 8, 100)"
      ],
      "execution_count": null,
      "outputs": []
    },
    {
      "cell_type": "code",
      "metadata": {
        "colab": {
          "base_uri": "https://localhost:8080/"
        },
        "id": "iI2qDMfiquRo",
        "outputId": "8f988d6d-d28b-41d6-c04b-68c45cfeb19a"
      },
      "source": [
        "param_range"
      ],
      "execution_count": null,
      "outputs": [
        {
          "output_type": "execute_result",
          "data": {
            "text/plain": [
              "array([1.00000000e-02, 1.26185688e-02, 1.59228279e-02, 2.00923300e-02,\n",
              "       2.53536449e-02, 3.19926714e-02, 4.03701726e-02, 5.09413801e-02,\n",
              "       6.42807312e-02, 8.11130831e-02, 1.02353102e-01, 1.29154967e-01,\n",
              "       1.62975083e-01, 2.05651231e-01, 2.59502421e-01, 3.27454916e-01,\n",
              "       4.13201240e-01, 5.21400829e-01, 6.57933225e-01, 8.30217568e-01,\n",
              "       1.04761575e+00, 1.32194115e+00, 1.66810054e+00, 2.10490414e+00,\n",
              "       2.65608778e+00, 3.35160265e+00, 4.22924287e+00, 5.33669923e+00,\n",
              "       6.73415066e+00, 8.49753436e+00, 1.07226722e+01, 1.35304777e+01,\n",
              "       1.70735265e+01, 2.15443469e+01, 2.71858824e+01, 3.43046929e+01,\n",
              "       4.32876128e+01, 5.46227722e+01, 6.89261210e+01, 8.69749003e+01,\n",
              "       1.09749877e+02, 1.38488637e+02, 1.74752840e+02, 2.20513074e+02,\n",
              "       2.78255940e+02, 3.51119173e+02, 4.43062146e+02, 5.59081018e+02,\n",
              "       7.05480231e+02, 8.90215085e+02, 1.12332403e+03, 1.41747416e+03,\n",
              "       1.78864953e+03, 2.25701972e+03, 2.84803587e+03, 3.59381366e+03,\n",
              "       4.53487851e+03, 5.72236766e+03, 7.22080902e+03, 9.11162756e+03,\n",
              "       1.14975700e+04, 1.45082878e+04, 1.83073828e+04, 2.31012970e+04,\n",
              "       2.91505306e+04, 3.67837977e+04, 4.64158883e+04, 5.85702082e+04,\n",
              "       7.39072203e+04, 9.32603347e+04, 1.17681195e+05, 1.48496826e+05,\n",
              "       1.87381742e+05, 2.36448941e+05, 2.98364724e+05, 3.76493581e+05,\n",
              "       4.75081016e+05, 5.99484250e+05, 7.56463328e+05, 9.54548457e+05,\n",
              "       1.20450354e+06, 1.51991108e+06, 1.91791026e+06, 2.42012826e+06,\n",
              "       3.05385551e+06, 3.85352859e+06, 4.86260158e+06, 6.13590727e+06,\n",
              "       7.74263683e+06, 9.77009957e+06, 1.23284674e+07, 1.55567614e+07,\n",
              "       1.96304065e+07, 2.47707636e+07, 3.12571585e+07, 3.94420606e+07,\n",
              "       4.97702356e+07, 6.28029144e+07, 7.92482898e+07, 1.00000000e+08])"
            ]
          },
          "metadata": {
            "tags": []
          },
          "execution_count": 74
        }
      ]
    },
    {
      "cell_type": "code",
      "metadata": {
        "id": "UhlKt5zvq9h9"
      },
      "source": [
        "train_score, test_score = validation_curve(Ridge(), x_train_s, y_train, \"alpha\", param_range, scoring='r2')"
      ],
      "execution_count": null,
      "outputs": []
    },
    {
      "cell_type": "code",
      "metadata": {
        "colab": {
          "base_uri": "https://localhost:8080/"
        },
        "id": "HbVL0ngnr876",
        "outputId": "f31a6a26-a52a-42f5-c7c0-32f14eade9ee"
      },
      "source": [
        "print(\"------------------------------Train scores------------------------------\")\n",
        "print(train_score)\n",
        "print(\"------------------------------Test scores------------------------------\")\n",
        "print(test_score)"
      ],
      "execution_count": null,
      "outputs": [
        {
          "output_type": "stream",
          "text": [
            "------------------------------Train scores------------------------------\n",
            "[[7.52007981e-01 7.68263599e-01 7.54564155e-01 7.86280422e-01\n",
            "  7.50645997e-01]\n",
            " [7.52007981e-01 7.68263599e-01 7.54564154e-01 7.86280422e-01\n",
            "  7.50645996e-01]\n",
            " [7.52007980e-01 7.68263598e-01 7.54564154e-01 7.86280421e-01\n",
            "  7.50645996e-01]\n",
            " [7.52007979e-01 7.68263597e-01 7.54564153e-01 7.86280420e-01\n",
            "  7.50645995e-01]\n",
            " [7.52007977e-01 7.68263595e-01 7.54564151e-01 7.86280418e-01\n",
            "  7.50645993e-01]\n",
            " [7.52007974e-01 7.68263593e-01 7.54564148e-01 7.86280416e-01\n",
            "  7.50645990e-01]\n",
            " [7.52007969e-01 7.68263588e-01 7.54564144e-01 7.86280412e-01\n",
            "  7.50645986e-01]\n",
            " [7.52007961e-01 7.68263582e-01 7.54564136e-01 7.86280406e-01\n",
            "  7.50645979e-01]\n",
            " [7.52007949e-01 7.68263571e-01 7.54564125e-01 7.86280396e-01\n",
            "  7.50645968e-01]\n",
            " [7.52007929e-01 7.68263554e-01 7.54564107e-01 7.86280380e-01\n",
            "  7.50645950e-01]\n",
            " [7.52007898e-01 7.68263526e-01 7.54564079e-01 7.86280355e-01\n",
            "  7.50645922e-01]\n",
            " [7.52007848e-01 7.68263483e-01 7.54564033e-01 7.86280315e-01\n",
            "  7.50645878e-01]\n",
            " [7.52007769e-01 7.68263414e-01 7.54563961e-01 7.86280251e-01\n",
            "  7.50645807e-01]\n",
            " [7.52007643e-01 7.68263304e-01 7.54563846e-01 7.86280150e-01\n",
            "  7.50645695e-01]\n",
            " [7.52007443e-01 7.68263129e-01 7.54563662e-01 7.86279989e-01\n",
            "  7.50645516e-01]\n",
            " [7.52007126e-01 7.68262852e-01 7.54563372e-01 7.86279733e-01\n",
            "  7.50645232e-01]\n",
            " [7.52006621e-01 7.68262411e-01 7.54562910e-01 7.86279326e-01\n",
            "  7.50644780e-01]\n",
            " [7.52005820e-01 7.68261712e-01 7.54562177e-01 7.86278680e-01\n",
            "  7.50644064e-01]\n",
            " [7.52004551e-01 7.68260603e-01 7.54561015e-01 7.86277657e-01\n",
            "  7.50642928e-01]\n",
            " [7.52002539e-01 7.68258846e-01 7.54559175e-01 7.86276034e-01\n",
            "  7.50641127e-01]\n",
            " [7.51999356e-01 7.68256068e-01 7.54556265e-01 7.86273467e-01\n",
            "  7.50638279e-01]\n",
            " [7.51994329e-01 7.68251682e-01 7.54551671e-01 7.86269411e-01\n",
            "  7.50633780e-01]\n",
            " [7.51986404e-01 7.68244770e-01 7.54544432e-01 7.86263014e-01\n",
            "  7.50626686e-01]\n",
            " [7.51973945e-01 7.68233909e-01 7.54533058e-01 7.86252950e-01\n",
            "  7.50615530e-01]\n",
            " [7.51954418e-01 7.68216895e-01 7.54515244e-01 7.86237165e-01\n",
            "  7.50598040e-01]\n",
            " [7.51923933e-01 7.68190350e-01 7.54487455e-01 7.86212498e-01\n",
            "  7.50570725e-01]\n",
            " [7.51876569e-01 7.68149134e-01 7.54444318e-01 7.86174123e-01\n",
            "  7.50528265e-01]\n",
            " [7.51803408e-01 7.68085516e-01 7.54377753e-01 7.86114744e-01\n",
            "  7.50462637e-01]\n",
            " [7.51691200e-01 7.67988005e-01 7.54275756e-01 7.86023467e-01\n",
            "  7.50361901e-01]\n",
            " [7.51520557e-01 7.67839780e-01 7.54120770e-01 7.85884233e-01\n",
            "  7.50208541e-01]\n",
            " [7.51263632e-01 7.67616630e-01 7.53887538e-01 7.85673751e-01\n",
            "  7.49977320e-01]\n",
            " [7.50881275e-01 7.67284349e-01 7.53540412e-01 7.85358827e-01\n",
            "  7.49632605e-01]\n",
            " [7.50319740e-01 7.66795581e-01 7.53030083e-01 7.84893041e-01\n",
            "  7.49125192e-01]\n",
            " [7.49507129e-01 7.66086079e-01 7.52289743e-01 7.84212724e-01\n",
            "  7.48388750e-01]\n",
            " [7.48349739e-01 7.65070345e-01 7.51230646e-01 7.83232172e-01\n",
            "  7.47335969e-01]\n",
            " [7.46728408e-01 7.63636491e-01 7.49736969e-01 7.81837935e-01\n",
            "  7.45854435e-01]\n",
            " [7.44494591e-01 7.61640051e-01 7.47659809e-01 7.79881961e-01\n",
            "  7.43802008e-01]\n",
            " [7.41465547e-01 7.58896518e-01 7.44810246e-01 7.77173387e-01\n",
            "  7.41001259e-01]\n",
            " [7.37417897e-01 7.55172853e-01 7.40951944e-01 7.73469305e-01\n",
            "  7.37232578e-01]\n",
            " [7.32079470e-01 7.50179323e-01 7.35794833e-01 7.68465956e-01\n",
            "  7.32226349e-01]\n",
            " [7.25121117e-01 7.43564659e-01 7.28992824e-01 7.61793532e-01\n",
            "  7.25656149e-01]\n",
            " [7.16152590e-01 7.34918934e-01 7.20149477e-01 7.53019321e-01\n",
            "  7.17136908e-01]\n",
            " [7.04728512e-01 7.23788647e-01 7.08834996e-01 7.41664070e-01\n",
            "  7.06233093e-01]\n",
            " [6.90370123e-01 7.09706171e-01 6.94615233e-01 7.27233938e-01\n",
            "  6.92480958e-01]\n",
            " [6.72605050e-01 6.92231138e-01 6.77089014e-01 7.09265500e-01\n",
            "  6.75425257e-01]\n",
            " [6.51021450e-01 6.70996447e-01 6.55926548e-01 6.87375808e-01\n",
            "  6.54665909e-01]\n",
            " [6.25327502e-01 6.45749621e-01 6.30901686e-01 6.61307323e-01\n",
            "  6.29906819e-01]\n",
            " [5.95405510e-01 6.16383774e-01 6.01915960e-01 6.30961034e-01\n",
            "  6.00999950e-01]\n",
            " [5.61353084e-01 5.82959808e-01 5.69019489e-01 5.96418873e-01\n",
            "  5.67982287e-01]\n",
            " [5.23508920e-01 5.45726928e-01 5.32436832e-01 5.57962549e-01\n",
            "  5.31107121e-01]\n",
            " [4.82462620e-01 5.05145817e-01 4.92599542e-01 5.16093540e-01\n",
            "  4.90869086e-01]\n",
            " [4.39044501e-01 4.61907570e-01 4.50173704e-01 4.71547846e-01\n",
            "  4.48014358e-01]\n",
            " [3.94286751e-01 4.16929961e-01 4.06059971e-01 4.25287647e-01\n",
            "  4.03520341e-01]\n",
            " [3.49349136e-01 3.71311880e-01 3.61346091e-01 3.78451298e-01\n",
            "  3.58531825e-01]\n",
            " [3.05413575e-01 3.26240880e-01 3.17209348e-01 3.32257320e-01\n",
            "  3.14255311e-01]\n",
            " [2.63566472e-01 2.82870138e-01 2.74788964e-01 2.87879346e-01\n",
            "  2.71831993e-01]\n",
            " [2.24695721e-01 2.42196144e-01 2.35062304e-01 2.46323591e-01\n",
            "  2.32220680e-01]\n",
            " [1.89425187e-01 2.04968198e-01 1.98756163e-01 2.08339711e-01\n",
            "  1.96118258e-01]\n",
            " [1.58096123e-01 1.71647252e-01 1.66309171e-01 1.74381961e-01\n",
            "  1.63930551e-01]\n",
            " [1.30790377e-01 1.42413829e-01 1.37883189e-01 1.44619689e-01\n",
            "  1.35789702e-01]\n",
            " [1.07380998e-01 1.17211756e-01 1.13409230e-01 1.18983369e-01\n",
            "  1.11603240e-01]\n",
            " [8.75938045e-02 9.58097130e-02 9.26495976e-02 9.72278831e-02\n",
            "  9.11170465e-02]\n",
            " [7.10667916e-02 7.78648291e-02 7.52608205e-02 7.89972487e-02\n",
            "  7.39776603e-02]\n",
            " [5.73995405e-02 6.29780185e-02 6.08476548e-02 6.38805804e-02\n",
            "  5.97849591e-02]\n",
            " [4.61897349e-02 5.07364230e-02 4.90040142e-02 5.14547831e-02\n",
            "  4.81316332e-02]\n",
            " [3.70572064e-02 4.07424574e-02 3.93406599e-02 4.13136155e-02\n",
            "  3.86295814e-02]\n",
            " [2.96576648e-02 3.26312969e-02 3.15016349e-02 3.30850638e-02\n",
            "  3.09253318e-02]\n",
            " [2.36887838e-02 2.60795239e-02 2.51721845e-02 2.64398169e-02\n",
            "  2.47072416e-02]\n",
            " [1.88911281e-02 2.08076384e-02 2.00808235e-02 2.10935868e-02\n",
            "  1.97070902e-02]\n",
            " [1.50459299e-02 1.65786922e-02 1.59977442e-02 1.68055607e-02\n",
            "  1.56982019e-02]\n",
            " [1.19711789e-02 1.31947426e-02 1.27311940e-02 1.33746917e-02\n",
            "  1.24916717e-02]\n",
            " [9.51701708e-03 1.04922992e-02 1.01229405e-02 1.06350046e-02\n",
            "  9.93176565e-03]\n",
            " [7.56105790e-03 8.33751480e-03 8.04353479e-03 8.45066766e-03\n",
            "  7.89117260e-03]\n",
            " [6.00398435e-03 6.62156434e-03 6.38778742e-03 6.71127411e-03\n",
            "  6.26649987e-03]\n",
            " [4.76560196e-03 5.25644426e-03 5.07067315e-03 5.32756142e-03\n",
            "  4.97421203e-03]\n",
            " [3.78141092e-03 4.17129077e-03 4.02375062e-03 4.22766468e-03\n",
            "  3.94709068e-03]\n",
            " [2.99969498e-03 3.30923236e-03 3.19210783e-03 3.35391695e-03\n",
            "  3.13121996e-03]\n",
            " [2.37908898e-03 2.62474730e-03 2.53180124e-03 2.66016485e-03\n",
            "  2.48346291e-03]\n",
            " [1.88657092e-03 2.08147447e-03 2.00773645e-03 2.10954588e-03\n",
            "  1.96937520e-03]\n",
            " [1.49581933e-03 1.65041766e-03 1.59193131e-03 1.67266604e-03\n",
            "  1.56149674e-03]\n",
            " [1.18587898e-03 1.30848393e-03 1.26210290e-03 1.32611680e-03\n",
            "  1.23796269e-03]\n",
            " [9.40082775e-04 1.03730067e-03 1.00052464e-03 1.05127531e-03\n",
            "  9.81380518e-04]\n",
            " [7.45184238e-04 8.22262690e-04 7.93105831e-04 8.33337911e-04\n",
            "  7.77926008e-04]\n",
            " [5.90661822e-04 6.51767128e-04 6.28652970e-04 6.60544401e-04\n",
            "  6.16617921e-04]\n",
            " [4.68162305e-04 5.16601007e-04 4.98278502e-04 5.23557065e-04\n",
            "  4.88737603e-04]\n",
            " [3.71056424e-04 4.09451932e-04 3.94928563e-04 4.14964627e-04\n",
            "  3.87365472e-04]\n",
            " [2.94084642e-04 3.24517870e-04 3.13006402e-04 3.28886672e-04\n",
            "  3.07011467e-04]\n",
            " [2.33075123e-04 2.57196354e-04 2.48072491e-04 2.60658610e-04\n",
            "  2.43320782e-04]\n",
            " [1.84719400e-04 2.03837212e-04 1.96605938e-04 2.06581025e-04\n",
            "  1.92839772e-04]\n",
            " [1.46394096e-04 1.61545984e-04 1.55814841e-04 1.63720430e-04\n",
            "  1.52829893e-04]\n",
            " [1.16019296e-04 1.28027755e-04 1.23485619e-04 1.29750980e-04\n",
            "  1.21119894e-04]\n",
            " [9.19461203e-05 1.01463151e-04 9.78633961e-05 1.02828786e-04\n",
            "  9.59884711e-05]\n",
            " [7.28674944e-05 8.04099131e-05 7.75570491e-05 8.14921604e-05\n",
            "  7.60711224e-05]\n",
            " [5.77473527e-05 6.37248005e-05 6.14638794e-05 6.45824662e-05\n",
            "  6.02862572e-05]\n",
            " [4.57644862e-05 5.05016432e-05 4.87098549e-05 5.11813308e-05\n",
            "  4.77765776e-05]\n",
            " [3.62680103e-05 4.00222091e-05 3.86022178e-05 4.05608511e-05\n",
            "  3.78625915e-05]\n",
            " [2.87420528e-05 3.17172431e-05 3.05919057e-05 3.21441085e-05\n",
            "  3.00057520e-05]\n",
            " [2.27777579e-05 2.51355780e-05 2.42437557e-05 2.54738621e-05\n",
            "  2.37792310e-05]\n",
            " [1.80510920e-05 1.99196446e-05 1.92128834e-05 2.01877293e-05\n",
            "  1.88447505e-05]\n",
            " [1.43052498e-05 1.57860587e-05 1.52259579e-05 1.59985114e-05\n",
            "  1.49342158e-05]]\n",
            "------------------------------Test scores------------------------------\n",
            "[[ 7.82891765e-01  7.03195032e-01  7.74302603e-01  6.63841891e-01\n",
            "   7.81911002e-01]\n",
            " [ 7.82893760e-01  7.03196012e-01  7.74302750e-01  6.63841005e-01\n",
            "   7.81910733e-01]\n",
            " [ 7.82896277e-01  7.03197249e-01  7.74302936e-01  6.63839886e-01\n",
            "   7.81910393e-01]\n",
            " [ 7.82899452e-01  7.03198810e-01  7.74303169e-01  6.63838475e-01\n",
            "   7.81909964e-01]\n",
            " [ 7.82903458e-01  7.03200778e-01  7.74303464e-01  6.63836695e-01\n",
            "   7.81909422e-01]\n",
            " [ 7.82908512e-01  7.03203261e-01  7.74303835e-01  6.63834447e-01\n",
            "   7.81908738e-01]\n",
            " [ 7.82914886e-01  7.03206393e-01  7.74304302e-01  6.63831612e-01\n",
            "   7.81907874e-01]\n",
            " [ 7.82922926e-01  7.03210343e-01  7.74304890e-01  6.63828033e-01\n",
            "   7.81906782e-01]\n",
            " [ 7.82933066e-01  7.03215323e-01  7.74305628e-01  6.63823517e-01\n",
            "   7.81905402e-01]\n",
            " [ 7.82945851e-01  7.03221602e-01  7.74306556e-01  6.63817817e-01\n",
            "   7.81903657e-01]\n",
            " [ 7.82961969e-01  7.03229516e-01  7.74307720e-01  6.63810624e-01\n",
            "   7.81901450e-01]\n",
            " [ 7.82982285e-01  7.03239488e-01  7.74309178e-01  6.63801545e-01\n",
            "   7.81898656e-01]\n",
            " [ 7.83007883e-01  7.03252049e-01  7.74310999e-01  6.63790085e-01\n",
            "   7.81895117e-01]\n",
            " [ 7.83040124e-01  7.03267862e-01  7.74313270e-01  6.63775620e-01\n",
            "   7.81890629e-01]\n",
            " [ 7.83080713e-01  7.03287758e-01  7.74316092e-01  6.63757358e-01\n",
            "   7.81884930e-01]\n",
            " [ 7.83131780e-01  7.03312773e-01  7.74319582e-01  6.63734302e-01\n",
            "   7.81877684e-01]\n",
            " [ 7.83195981e-01  7.03344192e-01  7.74323875e-01  6.63705189e-01\n",
            "   7.81868451e-01]\n",
            " [ 7.83276616e-01  7.03383610e-01  7.74329116e-01  6.63668421e-01\n",
            "   7.81856662e-01]\n",
            " [ 7.83377768e-01  7.03432987e-01  7.74335453e-01  6.63621975e-01\n",
            "   7.81841564e-01]\n",
            " [ 7.83504460e-01  7.03494722e-01  7.74343012e-01  6.63563290e-01\n",
            "   7.81822164e-01]\n",
            " [ 7.83662836e-01  7.03571723e-01  7.74351864e-01  6.63489116e-01\n",
            "   7.81797134e-01]\n",
            " [ 7.83860334e-01  7.03667479e-01  7.74361958e-01  6.63395332e-01\n",
            "   7.81764687e-01]\n",
            " [ 7.84105860e-01  7.03786108e-01  7.74373015e-01  6.63276700e-01\n",
            "   7.81722393e-01]\n",
            " [ 7.84409910e-01  7.03932379e-01  7.74384362e-01  6.63126563e-01\n",
            "   7.81666919e-01]\n",
            " [ 7.84784599e-01  7.04111670e-01  7.74394660e-01  6.62936444e-01\n",
            "   7.81593656e-01]\n",
            " [ 7.85243501e-01  7.04329810e-01  7.74401499e-01  6.62695549e-01\n",
            "   7.81496190e-01]\n",
            " [ 7.85801198e-01  7.04592763e-01  7.74400795e-01  6.62390121e-01\n",
            "   7.81365540e-01]\n",
            " [ 7.86472355e-01  7.04906079e-01  7.74385909e-01  6.62002640e-01\n",
            "   7.81189108e-01]\n",
            " [ 7.87270121e-01  7.05274009e-01  7.74346411e-01  6.61510817e-01\n",
            "   7.80949225e-01]\n",
            " [ 7.88203604e-01  7.05698230e-01  7.74266393e-01  6.60886372e-01\n",
            "   7.80621203e-01]\n",
            " [ 7.89274181e-01  7.06176075e-01  7.74122232e-01  6.60093568e-01\n",
            "   7.80170808e-01]\n",
            " [ 7.90470474e-01  7.06698253e-01  7.73879704e-01  6.59087486e-01\n",
            "   7.79551104e-01]\n",
            " [ 7.91761984e-01  7.07245980e-01  7.73490338e-01  6.57812035e-01\n",
            "   7.78698699e-01]\n",
            " [ 7.93091662e-01  7.07787447e-01  7.72886804e-01  6.56197604e-01\n",
            "   7.77529521e-01]\n",
            " [ 7.94367987e-01  7.08273301e-01  7.71977035e-01  6.54158218e-01\n",
            "   7.75934338e-01]\n",
            " [ 7.95457374e-01  7.08630520e-01  7.70636589e-01  6.51587841e-01\n",
            "   7.73774270e-01]\n",
            " [ 7.96177731e-01  7.08753698e-01  7.68698864e-01  6.48355359e-01\n",
            "   7.70876483e-01]\n",
            " [ 7.96293596e-01  7.08492769e-01  7.65943294e-01  6.44297852e-01\n",
            "   7.67030178e-01]\n",
            " [ 7.95512748e-01  7.07637097e-01  7.62083107e-01  6.39212326e-01\n",
            "   7.61983100e-01]\n",
            " [ 7.93483797e-01  7.05897986e-01  7.56756297e-01  6.32847364e-01\n",
            "   7.55439260e-01]\n",
            " [ 7.89794591e-01  7.02894635e-01  7.49525572e-01  6.24897944e-01\n",
            "   7.47059544e-01]\n",
            " [ 7.83972517e-01  6.98151167e-01  7.39893549e-01  6.15008177e-01\n",
            "   7.36467856e-01]\n",
            " [ 7.75489323e-01  6.91112530e-01  7.27337110e-01  6.02786734e-01\n",
            "   7.23265573e-01]\n",
            " [ 7.63774061e-01  6.81183338e-01  7.11359275e-01  5.87837227e-01\n",
            "   7.07055638e-01]\n",
            " [ 7.48237308e-01  6.67786198e-01  6.91549615e-01  5.69800912e-01\n",
            "   6.87474528e-01]\n",
            " [ 7.28308222e-01  6.50427898e-01  6.67638848e-01  5.48403847e-01\n",
            "   6.64227355e-01]\n",
            " [ 7.03484377e-01  6.28757869e-01  6.39533805e-01  5.23498207e-01\n",
            "   6.37120666e-01]\n",
            " [ 6.73393507e-01  6.02607579e-01  6.07327304e-01  4.95090285e-01\n",
            "   6.06090555e-01]\n",
            " [ 6.37865474e-01  5.72010567e-01  5.71289966e-01  4.63354547e-01\n",
            "   5.71228506e-01]\n",
            " [ 5.97009288e-01  5.37213063e-01  5.31859171e-01  4.28639038e-01\n",
            "   5.32809271e-01]\n",
            " [ 5.51281977e-01  4.98685501e-01  4.89636843e-01  3.91467080e-01\n",
            "   4.91319960e-01]\n",
            " [ 5.01526419e-01  4.57133614e-01  4.45393297e-01  3.52532895e-01\n",
            "   4.47478936e-01]\n",
            " [ 4.48952125e-01  4.13492879e-01  4.00059476e-01  3.12680697e-01\n",
            "   4.02225186e-01]\n",
            " [ 3.95043955e-01  3.68885417e-01  3.54687126e-01  2.72856127e-01\n",
            "   3.56662458e-01]\n",
            " [ 3.41407798e-01  3.24530578e-01  3.10369643e-01  2.34028679e-01\n",
            "   3.11958727e-01]\n",
            " [ 2.89587370e-01  2.81622512e-01  2.68137077e-01  1.97098238e-01\n",
            "   2.69221730e-01]\n",
            " [ 2.40897720e-01  2.41205211e-01  2.28853145e-01  1.62808332e-01\n",
            "   2.29382647e-01]\n",
            " [ 1.96312931e-01  2.04077302e-01  1.93141805e-01  1.31687223e-01\n",
            "   1.93116335e-01]\n",
            " [ 1.56423895e-01  1.70745990e-01  1.61358215e-01  1.04027361e-01\n",
            "   1.60811519e-01]\n",
            " [ 1.21459454e-01  1.41431393e-01  1.33602799e-01  7.99008719e-02\n",
            "   1.32587378e-01]\n",
            " [ 9.13500911e-02  1.16108541e-01  1.09765736e-01  5.91998877e-02\n",
            "   1.08341799e-01]\n",
            " [ 6.58101668e-02  9.45688540e-02  8.95855013e-02  4.16878681e-02\n",
            "   8.78136305e-02]\n",
            " [ 4.44193469e-02  7.64847589e-02  7.27075248e-02  2.70503084e-02\n",
            "   7.06443552e-02]\n",
            " [ 2.66914910e-02  6.14665447e-02  5.87342012e-02  1.49376222e-02\n",
            "   5.64302641e-02]\n",
            " [ 1.21263512e-02  4.91063794e-02  4.72625445e-02  4.99724671e-03\n",
            "   4.47615267e-02]\n",
            " [ 2.44286609e-04  3.90087361e-02  3.79094363e-02 -3.10495513e-03\n",
            "   3.52482806e-02]\n",
            " [-9.39325988e-03  3.08089670e-02  3.03263750e-02 -9.67229440e-03\n",
            "   2.75358277e-02]\n",
            " [-1.71739533e-02  2.41827435e-02  2.42063178e-02 -1.49716093e-02\n",
            "   2.13116706e-02]\n",
            " [-2.34320422e-02  1.88491066e-02  1.92851136e-02 -1.92322215e-02\n",
            "   1.63069913e-02]\n",
            " [-2.84503630e-02  1.45694472e-02  1.53395821e-02 -2.26477339e-02\n",
            "   1.22946946e-02]\n",
            " [-3.24648419e-02  1.11441678e-02  1.21837601e-02 -2.53793720e-02\n",
            "   9.08557825e-03]\n",
            " [-3.56701107e-02  8.40824237e-03  9.66435328e-03 -2.75599799e-02\n",
            "   6.52369589e-03]\n",
            " [-3.82253609e-02  6.22645991e-03  7.65605260e-03 -2.92981138e-02\n",
            "   4.48158312e-03]\n",
            " [-4.02599267e-02  4.48881915e-03  6.05709509e-03 -3.06819089e-02\n",
            "   2.85573548e-03]\n",
            " [-4.18783339e-02  3.10632314e-03  4.78526412e-03 -3.17825576e-02\n",
            "   1.56253516e-03]\n",
            " [-4.31647108e-02  2.00728142e-03  3.77440350e-03 -3.26573366e-02\n",
            "   5.34702455e-04]\n",
            " [-4.41865487e-02  1.13414224e-03  2.97144992e-03 -3.33521813e-02\n",
            "  -2.81724583e-04]\n",
            " [-4.49978533e-02  4.40828818e-04  2.33394882e-03 -3.39038401e-02\n",
            "  -9.29917835e-04]\n",
            " [-4.56417525e-02 -1.09469986e-04  1.82800092e-03 -3.43416538e-02\n",
            "  -1.44434828e-03]\n",
            " [-4.61526320e-02 -5.46113428e-04  1.42658076e-03 -3.46890122e-02\n",
            "  -1.85249651e-03]\n",
            " [-4.65578728e-02 -8.92486225e-04  1.10816959e-03 -3.49645386e-02\n",
            "  -2.17624317e-03]\n",
            " [-4.68792567e-02 -1.16719475e-03  8.55650234e-04 -3.51830462e-02\n",
            "  -2.43299310e-03]\n",
            " [-4.71340972e-02 -1.38503111e-03  6.55417323e-04 -3.53563088e-02\n",
            "  -2.63658010e-03]\n",
            " [-4.73361477e-02 -1.55774725e-03  4.96663486e-04 -3.54936787e-02\n",
            "  -2.79799289e-03]\n",
            " [-4.74963282e-02 -1.69467498e-03  3.70808113e-04 -3.56025812e-02\n",
            "  -2.92595600e-03]\n",
            " [-4.76233056e-02 -1.80322126e-03  2.71041185e-04 -3.56889092e-02\n",
            "  -3.02739363e-03]\n",
            " [-4.77239562e-02 -1.88926331e-03  1.91959571e-04 -3.57573380e-02\n",
            "  -3.10779946e-03]\n",
            " [-4.78037348e-02 -1.95746333e-03  1.29277418e-04 -3.58115764e-02\n",
            "  -3.17153118e-03]\n",
            " [-4.78669671e-02 -2.01151897e-03  7.95957686e-05 -3.58545656e-02\n",
            "  -3.22204468e-03]\n",
            " [-4.79170834e-02 -2.05436234e-03  4.02194418e-05 -3.58886375e-02\n",
            "  -3.26208029e-03]\n",
            " [-4.79568033e-02 -2.08831824e-03  9.01156903e-06 -3.59156414e-02\n",
            "  -3.29381067e-03]\n",
            " [-4.79882829e-02 -2.11522977e-03 -1.57218997e-05 -3.59370430e-02\n",
            "  -3.31895823e-03]\n",
            " [-4.80132314e-02 -2.13655798e-03 -3.53238582e-05 -3.59540044e-02\n",
            "  -3.33888837e-03]\n",
            " [-4.80330036e-02 -2.15346103e-03 -5.08587706e-05 -3.59674465e-02\n",
            "  -3.35468337e-03]\n",
            " [-4.80486733e-02 -2.16685692e-03 -6.31703599e-05 -3.59780996e-02\n",
            "  -3.36720107e-03]\n",
            " [-4.80610916e-02 -2.17747325e-03 -7.29273583e-05 -3.59865422e-02\n",
            "  -3.37712142e-03]\n",
            " [-4.80709331e-02 -2.18588671e-03 -8.06597849e-05 -3.59932330e-02\n",
            "  -3.38498330e-03]\n",
            " [-4.80787324e-02 -2.19255436e-03 -8.67877090e-05 -3.59985354e-02\n",
            "  -3.39121381e-03]\n",
            " [-4.80849134e-02 -2.19783844e-03 -9.16440521e-05 -3.60027376e-02\n",
            "  -3.39615146e-03]\n",
            " [-4.80898117e-02 -2.20202603e-03 -9.54926636e-05 -3.60060677e-02\n",
            "  -3.40006450e-03]]\n"
          ],
          "name": "stdout"
        }
      ]
    },
    {
      "cell_type": "code",
      "metadata": {
        "id": "TQTa2gWosLDU"
      },
      "source": [
        "train_mean = np.mean(train_score, axis=1)"
      ],
      "execution_count": null,
      "outputs": []
    },
    {
      "cell_type": "code",
      "metadata": {
        "id": "-SaZWB3pshYo"
      },
      "source": [
        "test_mean = np.mean(test_score, axis=1)"
      ],
      "execution_count": null,
      "outputs": []
    },
    {
      "cell_type": "code",
      "metadata": {
        "colab": {
          "base_uri": "https://localhost:8080/"
        },
        "id": "K0gQXwMWst12",
        "outputId": "73f55b47-4c96-4b6f-d1e9-beafb78da949"
      },
      "source": [
        "train_mean"
      ],
      "execution_count": null,
      "outputs": [
        {
          "output_type": "execute_result",
          "data": {
            "text/plain": [
              "array([7.62352431e-01, 7.62352430e-01, 7.62352430e-01, 7.62352429e-01,\n",
              "       7.62352427e-01, 7.62352424e-01, 7.62352420e-01, 7.62352413e-01,\n",
              "       7.62352402e-01, 7.62352384e-01, 7.62352356e-01, 7.62352311e-01,\n",
              "       7.62352240e-01, 7.62352127e-01, 7.62351948e-01, 7.62351663e-01,\n",
              "       7.62351210e-01, 7.62350491e-01, 7.62349351e-01, 7.62347544e-01,\n",
              "       7.62344687e-01, 7.62340174e-01, 7.62333061e-01, 7.62321878e-01,\n",
              "       7.62304352e-01, 7.62276992e-01, 7.62234482e-01, 7.62168812e-01,\n",
              "       7.62068066e-01, 7.61914776e-01, 7.61683774e-01, 7.61339493e-01,\n",
              "       7.60832727e-01, 7.60096885e-01, 7.59043774e-01, 7.57558848e-01,\n",
              "       7.55495684e-01, 7.52669391e-01, 7.48848915e-01, 7.43749186e-01,\n",
              "       7.37025656e-01, 7.28275446e-01, 7.17049864e-01, 7.02881284e-01,\n",
              "       6.85323192e-01, 6.63997232e-01, 6.38638590e-01, 6.09133246e-01,\n",
              "       5.75546708e-01, 5.38148470e-01, 4.97434121e-01, 4.54137596e-01,\n",
              "       4.09216934e-01, 3.63798046e-01, 3.19075287e-01, 2.76187383e-01,\n",
              "       2.36099688e-01, 1.99521504e-01, 1.66873011e-01, 1.38299357e-01,\n",
              "       1.13717718e-01, 9.28796089e-02, 7.54334700e-02, 6.09781506e-02,\n",
              "       4.91033177e-02, 3.94167041e-02, 3.15601985e-02, 2.52175101e-02,\n",
              "       2.01160534e-02, 1.60252258e-02, 1.27526958e-02, 1.01398054e-02,\n",
              "       8.05678955e-03, 6.39822202e-03, 5.07889856e-03, 4.03024153e-03,\n",
              "       3.19723441e-03, 2.53585306e-03, 2.01094058e-03, 1.59446621e-03,\n",
              "       1.26410906e-03, 1.00211278e-03, 7.94363336e-04, 6.29648848e-04,\n",
              "       4.99067296e-04, 3.95553403e-04, 3.13501411e-04, 2.48464672e-04,\n",
              "       1.96916669e-04, 1.56061049e-04, 1.23680709e-04, 9.80179850e-05,\n",
              "       7.76795479e-05, 6.15609512e-05, 4.87867785e-05, 3.86631760e-05,\n",
              "       3.06402124e-05, 2.42820369e-05, 1.92432200e-05, 1.52499987e-05])"
            ]
          },
          "metadata": {
            "tags": []
          },
          "execution_count": 79
        }
      ]
    },
    {
      "cell_type": "code",
      "metadata": {
        "colab": {
          "base_uri": "https://localhost:8080/"
        },
        "id": "JVGeAIYmsvNQ",
        "outputId": "5492c728-80a5-4619-edf3-05495ceb80dc"
      },
      "source": [
        "max(test_mean)"
      ],
      "execution_count": null,
      "outputs": [
        {
          "output_type": "execute_result",
          "data": {
            "text/plain": [
              "0.7419673727507645"
            ]
          },
          "metadata": {
            "tags": []
          },
          "execution_count": 80
        }
      ]
    },
    {
      "cell_type": "code",
      "metadata": {
        "colab": {
          "base_uri": "https://localhost:8080/",
          "height": 458
        },
        "id": "yNh1qM7Gswvs",
        "outputId": "a205dceb-235f-41c8-b8b0-c7917d342d68"
      },
      "source": [
        "sns.jointplot(x=np.log(param_range), y=test_mean)"
      ],
      "execution_count": null,
      "outputs": [
        {
          "output_type": "execute_result",
          "data": {
            "text/plain": [
              "<seaborn.axisgrid.JointGrid at 0x7f9f80f31950>"
            ]
          },
          "metadata": {
            "tags": []
          },
          "execution_count": 81
        },
        {
          "output_type": "display_data",
          "data": {
            "image/png": "[encoded data removed]",
            "text/plain": [
              "<Figure size 432x432 with 3 Axes>"
            ]
          },
          "metadata": {
            "tags": [],
            "needs_background": "light"
          }
        }
      ]
    },
    {
      "cell_type": "code",
      "metadata": {
        "colab": {
          "base_uri": "https://localhost:8080/"
        },
        "id": "VgNUgjwvs_XK",
        "outputId": "4f06aadf-58fc-47bf-d50a-24aaa56564b6"
      },
      "source": [
        "pos = np.where(test_mean==max(test_mean))\n",
        "pos"
      ],
      "execution_count": null,
      "outputs": [
        {
          "output_type": "execute_result",
          "data": {
            "text/plain": [
              "(array([30]),)"
            ]
          },
          "metadata": {
            "tags": []
          },
          "execution_count": 82
        }
      ]
    },
    {
      "cell_type": "code",
      "metadata": {
        "colab": {
          "base_uri": "https://localhost:8080/"
        },
        "id": "F5aBy53ttJFW",
        "outputId": "4e1dd39c-8e0c-4269-c27f-479834d01397"
      },
      "source": [
        "param_range[pos[0][0]]"
      ],
      "execution_count": null,
      "outputs": [
        {
          "output_type": "execute_result",
          "data": {
            "text/plain": [
              "10.722672220103231"
            ]
          },
          "metadata": {
            "tags": []
          },
          "execution_count": 83
        }
      ]
    },
    {
      "cell_type": "code",
      "metadata": {
        "id": "PI8Bc2IitYtR"
      },
      "source": [
        "lm_r_best = Ridge(alpha=param_range[pos[0][0]])"
      ],
      "execution_count": null,
      "outputs": []
    },
    {
      "cell_type": "code",
      "metadata": {
        "colab": {
          "base_uri": "https://localhost:8080/"
        },
        "id": "5ltil50juY3j",
        "outputId": "8b70001b-212e-4cc8-e8d4-b807388de579"
      },
      "source": [
        "lm_r_best.fit(x_train_s, y_train)"
      ],
      "execution_count": null,
      "outputs": [
        {
          "output_type": "execute_result",
          "data": {
            "text/plain": [
              "Ridge(alpha=10.722672220103231, copy_X=True, fit_intercept=True, max_iter=None,\n",
              "      normalize=False, random_state=None, solver='auto', tol=0.001)"
            ]
          },
          "metadata": {
            "tags": []
          },
          "execution_count": 85
        }
      ]
    },
    {
      "cell_type": "code",
      "metadata": {
        "colab": {
          "base_uri": "https://localhost:8080/"
        },
        "id": "kWZCgySBuei0",
        "outputId": "5c9f3789-961f-42cf-a628-28d338c9b7a9"
      },
      "source": [
        "r2_score(y_test, lm_r.predict(x_test_s))"
      ],
      "execution_count": null,
      "outputs": [
        {
          "output_type": "execute_result",
          "data": {
            "text/plain": [
              "0.5549276635503455"
            ]
          },
          "metadata": {
            "tags": []
          },
          "execution_count": 86
        }
      ]
    },
    {
      "cell_type": "code",
      "metadata": {
        "colab": {
          "base_uri": "https://localhost:8080/"
        },
        "id": "njg3zboxvLzY",
        "outputId": "683b94e1-eb86-42c9-f466-412c946d156e"
      },
      "source": [
        "r2_score(y_train, lm_r.predict(x_train_s))"
      ],
      "execution_count": null,
      "outputs": [
        {
          "output_type": "execute_result",
          "data": {
            "text/plain": [
              "0.7603051240956271"
            ]
          },
          "metadata": {
            "tags": []
          },
          "execution_count": 87
        }
      ]
    },
    {
      "cell_type": "code",
      "metadata": {
        "id": "_o8V8A4rvPEo"
      },
      "source": [
        "from sklearn.linear_model import Lasso"
      ],
      "execution_count": null,
      "outputs": []
    },
    {
      "cell_type": "code",
      "metadata": {
        "id": "oSLqWLU4vaDz"
      },
      "source": [
        "lm_l = Lasso(alpha=0.4)"
      ],
      "execution_count": null,
      "outputs": []
    },
    {
      "cell_type": "code",
      "metadata": {
        "id": "Vonsbql_vyMQ"
      },
      "source": [
        ""
      ],
      "execution_count": null,
      "outputs": []
    }
  ]
}